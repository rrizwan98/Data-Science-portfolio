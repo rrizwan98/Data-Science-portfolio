{
 "cells": [
  {
   "cell_type": "code",
   "execution_count": null,
   "id": "0e2df1b3-cf53-489a-b074-3d94ef88f635",
   "metadata": {},
   "outputs": [],
   "source": [
    "import pandas"
   ]
  },
  {
   "cell_type": "code",
   "execution_count": null,
   "id": "1d25b535-7a07-45b6-ad5b-104782c4f307",
   "metadata": {},
   "outputs": [],
   "source": []
  }
 ],
 "metadata": {
  "kernelspec": {
   "display_name": "Python 3",
   "language": "python",
   "name": "python3"
  },
  "language_info": {
   "name": ""
  }
 },
 "nbformat": 4,
 "nbformat_minor": 5
}
