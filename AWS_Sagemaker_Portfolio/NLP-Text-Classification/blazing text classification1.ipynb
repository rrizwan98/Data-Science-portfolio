{
 "cells": [
  {
   "cell_type": "code",
   "execution_count": 1,
   "metadata": {
    "colab": {
     "base_uri": "https://localhost:8080/"
    },
    "id": "7810n3UxaL2P",
    "outputId": "cbac0614-ed43-478c-923b-19effa14421f"
   },
   "outputs": [
    {
     "name": "stderr",
     "output_type": "stream",
     "text": [
      "[nltk_data] Downloading package stopwords to\n",
      "[nltk_data]     /home/ec2-user/nltk_data...\n",
      "[nltk_data]   Unzipping corpora/stopwords.zip.\n"
     ]
    }
   ],
   "source": [
    "import pandas as pd\n",
    "import numpy as np\n",
    "from sklearn.model_selection import train_test_split\n",
    "import seaborn as sns\n",
    "\n",
    "########### NLP #############\n",
    "import nltk\n",
    "from nltk.corpus import stopwords\n",
    "from nltk import word_tokenize\n",
    "from nltk.stem import SnowballStemmer\n",
    "stemmer = SnowballStemmer('spanish')\n",
    "\n",
    "import nltk\n",
    "nltk.download('stopwords')\n",
    "from nltk.corpus import stopwords\n",
    "stopwords=stopwords.words('spanish')\n",
    "\n",
    "################ visualization ################\n",
    "import seaborn as sns\n",
    "import matplotlib.pyplot as plt"
   ]
  },
  {
   "cell_type": "code",
   "execution_count": 2,
   "metadata": {
    "colab": {
     "base_uri": "https://localhost:8080/",
     "height": 206
    },
    "id": "JN1T42UDaRmr",
    "outputId": "3657b197-b046-462f-9175-412479f1166b"
   },
   "outputs": [
    {
     "data": {
      "text/html": [
       "<div>\n",
       "<style scoped>\n",
       "    .dataframe tbody tr th:only-of-type {\n",
       "        vertical-align: middle;\n",
       "    }\n",
       "\n",
       "    .dataframe tbody tr th {\n",
       "        vertical-align: top;\n",
       "    }\n",
       "\n",
       "    .dataframe thead th {\n",
       "        text-align: right;\n",
       "    }\n",
       "</style>\n",
       "<table border=\"1\" class=\"dataframe\">\n",
       "  <thead>\n",
       "    <tr style=\"text-align: right;\">\n",
       "      <th></th>\n",
       "      <th>Etiquetas</th>\n",
       "      <th>Mensaje</th>\n",
       "    </tr>\n",
       "  </thead>\n",
       "  <tbody>\n",
       "    <tr>\n",
       "      <th>0</th>\n",
       "      <td>Comunidad</td>\n",
       "      <td>RT @Camiloparada: En el 2010 Pi?era nombr com...</td>\n",
       "    </tr>\n",
       "    <tr>\n",
       "      <th>1</th>\n",
       "      <td>Mineria</td>\n",
       "      <td>RT @Camiloparada: En el 2010 Pi?era nombr com...</td>\n",
       "    </tr>\n",
       "    <tr>\n",
       "      <th>2</th>\n",
       "      <td>Comunidad</td>\n",
       "      <td>RT @Camiloparada: En el 2010 Pi?era nombr com...</td>\n",
       "    </tr>\n",
       "    <tr>\n",
       "      <th>3</th>\n",
       "      <td>Mineria</td>\n",
       "      <td>RT @Camiloparada: En el 2010 Pi?era nombr com...</td>\n",
       "    </tr>\n",
       "    <tr>\n",
       "      <th>4</th>\n",
       "      <td>NaN</td>\n",
       "      <td>RT @Camiloparada: En el 2010 Pi?era nombr com...</td>\n",
       "    </tr>\n",
       "  </tbody>\n",
       "</table>\n",
       "</div>"
      ],
      "text/plain": [
       "   Etiquetas                                            Mensaje\n",
       "0  Comunidad  RT @Camiloparada: En el 2010 Pi?era nombr com...\n",
       "1    Mineria  RT @Camiloparada: En el 2010 Pi?era nombr com...\n",
       "2  Comunidad  RT @Camiloparada: En el 2010 Pi?era nombr com...\n",
       "3    Mineria  RT @Camiloparada: En el 2010 Pi?era nombr com...\n",
       "4        NaN  RT @Camiloparada: En el 2010 Pi?era nombr com..."
      ]
     },
     "execution_count": 2,
     "metadata": {},
     "output_type": "execute_result"
    }
   ],
   "source": [
    "data= pd.read_csv('20220422-Campa├▒as Etiquetadas updated.csv', encoding='latin-1')\n",
    "data.head()"
   ]
  },
  {
   "cell_type": "code",
   "execution_count": 3,
   "metadata": {
    "colab": {
     "base_uri": "https://localhost:8080/"
    },
    "id": "gDUrDdpnav5_",
    "outputId": "35eb19dd-3c83-4c63-cb4d-8ff42a5130a2"
   },
   "outputs": [
    {
     "name": "stdout",
     "output_type": "stream",
     "text": [
      "<class 'pandas.core.frame.DataFrame'>\n",
      "RangeIndex: 12930 entries, 0 to 12929\n",
      "Data columns (total 2 columns):\n",
      " #   Column     Non-Null Count  Dtype \n",
      "---  ------     --------------  ----- \n",
      " 0   Etiquetas  6802 non-null   object\n",
      " 1   Mensaje    12897 non-null  object\n",
      "dtypes: object(2)\n",
      "memory usage: 202.2+ KB\n"
     ]
    }
   ],
   "source": [
    "data.info()"
   ]
  },
  {
   "cell_type": "code",
   "execution_count": 4,
   "metadata": {
    "colab": {
     "base_uri": "https://localhost:8080/",
     "height": 112
    },
    "id": "-Q6XrQpVfPs0",
    "outputId": "b5b77570-b34c-44fd-aea4-33ddf012aa66"
   },
   "outputs": [
    {
     "data": {
      "text/html": [
       "<div>\n",
       "<style scoped>\n",
       "    .dataframe tbody tr th:only-of-type {\n",
       "        vertical-align: middle;\n",
       "    }\n",
       "\n",
       "    .dataframe tbody tr th {\n",
       "        vertical-align: top;\n",
       "    }\n",
       "\n",
       "    .dataframe thead th {\n",
       "        text-align: right;\n",
       "    }\n",
       "</style>\n",
       "<table border=\"1\" class=\"dataframe\">\n",
       "  <thead>\n",
       "    <tr style=\"text-align: right;\">\n",
       "      <th></th>\n",
       "      <th>count</th>\n",
       "      <th>unique</th>\n",
       "      <th>top</th>\n",
       "      <th>freq</th>\n",
       "    </tr>\n",
       "  </thead>\n",
       "  <tbody>\n",
       "    <tr>\n",
       "      <th>Etiquetas</th>\n",
       "      <td>6802</td>\n",
       "      <td>59</td>\n",
       "      <td>pol pub</td>\n",
       "      <td>2511</td>\n",
       "    </tr>\n",
       "    <tr>\n",
       "      <th>Mensaje</th>\n",
       "      <td>12897</td>\n",
       "      <td>7067</td>\n",
       "      <td>Sin contenido</td>\n",
       "      <td>162</td>\n",
       "    </tr>\n",
       "  </tbody>\n",
       "</table>\n",
       "</div>"
      ],
      "text/plain": [
       "           count unique            top  freq\n",
       "Etiquetas   6802     59        pol pub  2511\n",
       "Mensaje    12897   7067  Sin contenido   162"
      ]
     },
     "execution_count": 4,
     "metadata": {},
     "output_type": "execute_result"
    }
   ],
   "source": [
    "# check description\n",
    "data.describe().T"
   ]
  },
  {
   "cell_type": "code",
   "execution_count": 5,
   "metadata": {
    "colab": {
     "base_uri": "https://localhost:8080/"
    },
    "id": "cm_04KSpyUgn",
    "outputId": "6a2ac859-26ca-4294-9acb-6f679b1ffe9f"
   },
   "outputs": [
    {
     "data": {
      "text/plain": [
       "Etiquetas    6128\n",
       "Mensaje        33\n",
       "dtype: int64"
      ]
     },
     "execution_count": 5,
     "metadata": {},
     "output_type": "execute_result"
    }
   ],
   "source": [
    "# check null values\n",
    "data.isnull().sum()"
   ]
  },
  {
   "cell_type": "code",
   "execution_count": 6,
   "metadata": {
    "id": "rUJecTVmyfWU"
   },
   "outputs": [],
   "source": [
    "# data=data.drop(['Fuente','Autor','Fecha','Hora','Seguidores','Interacciones','Viralizaciones','Impacto','ID_DB','Keywords'],inplace=True, axis = 1 )\n",
    "# data"
   ]
  },
  {
   "cell_type": "code",
   "execution_count": 7,
   "metadata": {
    "colab": {
     "base_uri": "https://localhost:8080/"
    },
    "id": "16KJl7zbfX5J",
    "outputId": "200b9e19-156c-4729-9c48-863a002e32fa"
   },
   "outputs": [
    {
     "data": {
      "text/plain": [
       "(6784, 2)"
      ]
     },
     "execution_count": 7,
     "metadata": {},
     "output_type": "execute_result"
    }
   ],
   "source": [
    "df = data.dropna()\n",
    "df.shape"
   ]
  },
  {
   "cell_type": "code",
   "execution_count": 8,
   "metadata": {
    "colab": {
     "base_uri": "https://localhost:8080/"
    },
    "id": "VRJtWqD_fU-n",
    "outputId": "437cffcf-e572-4120-d514-e20819271298"
   },
   "outputs": [
    {
     "data": {
      "text/plain": [
       "Etiquetas    0\n",
       "Mensaje      0\n",
       "dtype: int64"
      ]
     },
     "execution_count": 8,
     "metadata": {},
     "output_type": "execute_result"
    }
   ],
   "source": [
    "# check null values\n",
    "df.isnull().sum()"
   ]
  },
  {
   "cell_type": "code",
   "execution_count": 9,
   "metadata": {
    "colab": {
     "base_uri": "https://localhost:8080/"
    },
    "id": "z8oUMhhWf5cw",
    "outputId": "5a068ca6-9c62-46f1-d0d5-d6b6ce91dd29"
   },
   "outputs": [
    {
     "name": "stdout",
     "output_type": "stream",
     "text": [
      "(12930, 2)\n",
      "(6784, 2)\n"
     ]
    }
   ],
   "source": [
    "print(data.shape)\n",
    "print(df.shape)"
   ]
  },
  {
   "cell_type": "code",
   "execution_count": 10,
   "metadata": {
    "colab": {
     "base_uri": "https://localhost:8080/"
    },
    "id": "l8S-8WG2ggUg",
    "outputId": "fb7483d8-d63e-4ada-f8d2-5cce8bc8b5b8"
   },
   "outputs": [
    {
     "name": "stderr",
     "output_type": "stream",
     "text": [
      "/home/ec2-user/anaconda3/envs/tensorflow_p36/lib/python3.6/site-packages/ipykernel/__main__.py:1: SettingWithCopyWarning: \n",
      "A value is trying to be set on a copy of a slice from a DataFrame.\n",
      "Try using .loc[row_indexer,col_indexer] = value instead\n",
      "\n",
      "See the caveats in the documentation: https://pandas.pydata.org/pandas-docs/stable/user_guide/indexing.html#returning-a-view-versus-a-copy\n",
      "  if __name__ == '__main__':\n"
     ]
    }
   ],
   "source": [
    "df['category_id'] = df['Etiquetas'].factorize()[0]"
   ]
  },
  {
   "cell_type": "code",
   "execution_count": 11,
   "metadata": {
    "colab": {
     "base_uri": "https://localhost:8080/",
     "height": 206
    },
    "id": "jf_eyuzWiAEq",
    "outputId": "42a0121e-b16c-40a2-9a59-d570afb03348"
   },
   "outputs": [
    {
     "data": {
      "text/html": [
       "<div>\n",
       "<style scoped>\n",
       "    .dataframe tbody tr th:only-of-type {\n",
       "        vertical-align: middle;\n",
       "    }\n",
       "\n",
       "    .dataframe tbody tr th {\n",
       "        vertical-align: top;\n",
       "    }\n",
       "\n",
       "    .dataframe thead th {\n",
       "        text-align: right;\n",
       "    }\n",
       "</style>\n",
       "<table border=\"1\" class=\"dataframe\">\n",
       "  <thead>\n",
       "    <tr style=\"text-align: right;\">\n",
       "      <th></th>\n",
       "      <th>Etiquetas</th>\n",
       "      <th>Mensaje</th>\n",
       "      <th>category_id</th>\n",
       "    </tr>\n",
       "  </thead>\n",
       "  <tbody>\n",
       "    <tr>\n",
       "      <th>0</th>\n",
       "      <td>Comunidad</td>\n",
       "      <td>RT @Camiloparada: En el 2010 Pi?era nombr com...</td>\n",
       "      <td>0</td>\n",
       "    </tr>\n",
       "    <tr>\n",
       "      <th>1</th>\n",
       "      <td>Mineria</td>\n",
       "      <td>RT @Camiloparada: En el 2010 Pi?era nombr com...</td>\n",
       "      <td>1</td>\n",
       "    </tr>\n",
       "    <tr>\n",
       "      <th>2</th>\n",
       "      <td>Comunidad</td>\n",
       "      <td>RT @Camiloparada: En el 2010 Pi?era nombr com...</td>\n",
       "      <td>0</td>\n",
       "    </tr>\n",
       "    <tr>\n",
       "      <th>3</th>\n",
       "      <td>Mineria</td>\n",
       "      <td>RT @Camiloparada: En el 2010 Pi?era nombr com...</td>\n",
       "      <td>1</td>\n",
       "    </tr>\n",
       "    <tr>\n",
       "      <th>50</th>\n",
       "      <td>Empresa</td>\n",
       "      <td>Acaba de publicar una foto en Minera Caserones...</td>\n",
       "      <td>2</td>\n",
       "    </tr>\n",
       "  </tbody>\n",
       "</table>\n",
       "</div>"
      ],
      "text/plain": [
       "    Etiquetas                                            Mensaje  category_id\n",
       "0   Comunidad  RT @Camiloparada: En el 2010 Pi?era nombr com...            0\n",
       "1     Mineria  RT @Camiloparada: En el 2010 Pi?era nombr com...            1\n",
       "2   Comunidad  RT @Camiloparada: En el 2010 Pi?era nombr com...            0\n",
       "3     Mineria  RT @Camiloparada: En el 2010 Pi?era nombr com...            1\n",
       "50    Empresa  Acaba de publicar una foto en Minera Caserones...            2"
      ]
     },
     "execution_count": 11,
     "metadata": {},
     "output_type": "execute_result"
    }
   ],
   "source": [
    "df.head()"
   ]
  },
  {
   "cell_type": "code",
   "execution_count": 12,
   "metadata": {
    "id": "7-icy-xaql1A"
   },
   "outputs": [],
   "source": [
    "colslist = ['Etiquetas','Mensaje','category_id']\n",
    "df.columns = colslist"
   ]
  },
  {
   "cell_type": "code",
   "execution_count": 13,
   "metadata": {
    "id": "yXOAeXAxql5l"
   },
   "outputs": [],
   "source": [
    "Index=df['Etiquetas'].value_counts()"
   ]
  },
  {
   "cell_type": "markdown",
   "metadata": {
    "id": "_hJ9c2G2wR9e"
   },
   "source": [
    "# data preprocessing"
   ]
  },
  {
   "cell_type": "code",
   "execution_count": 14,
   "metadata": {
    "id": "b9rVfXWgvZGc"
   },
   "outputs": [],
   "source": [
    "# print(stopwords.fileids(),'\\n')"
   ]
  },
  {
   "cell_type": "code",
   "execution_count": 15,
   "metadata": {
    "colab": {
     "base_uri": "https://localhost:8080/"
    },
    "id": "c4zAI9ASw04N",
    "outputId": "597a4ecf-dc82-485b-c6bf-493bd9e716d9"
   },
   "outputs": [
    {
     "name": "stdout",
     "output_type": "stream",
     "text": [
      "RT @Camiloparada: En el 2010 Pi?era nombr como intendente de Coquimbo a Rafael Prohens, actual senador, quien ademÿs es presidente de Prod?\n"
     ]
    }
   ],
   "source": [
    "print(df[\"Mensaje\"][1])"
   ]
  },
  {
   "cell_type": "code",
   "execution_count": 16,
   "metadata": {
    "colab": {
     "base_uri": "https://localhost:8080/",
     "height": 279
    },
    "id": "y3MIkR-pvuaK",
    "outputId": "f0061a25-3e2d-49a4-cd35-41edc3a7d3cb"
   },
   "outputs": [
    {
     "data": {
      "image/png": "[encoded data removed]",
      "text/plain": [
       "<Figure size 432x288 with 1 Axes>"
      ]
     },
     "metadata": {
      "needs_background": "light"
     },
     "output_type": "display_data"
    }
   ],
   "source": [
    "%matplotlib inline\n",
    "\n",
    "ax = sns.countplot(x='Etiquetas', data=df)\n",
    "plt.show()\n"
   ]
  },
  {
   "cell_type": "markdown",
   "metadata": {
    "id": "vAXYGrot4UZr"
   },
   "source": [
    "## Basic preprocessing"
   ]
  },
  {
   "cell_type": "code",
   "execution_count": 17,
   "metadata": {
    "colab": {
     "base_uri": "https://localhost:8080/"
    },
    "id": "DJ07DKoMwchM",
    "outputId": "d88e09fc-0b91-45af-9eb7-e7915a8e03a5"
   },
   "outputs": [
    {
     "name": "stdout",
     "output_type": "stream",
     "text": [
      "140\n"
     ]
    }
   ],
   "source": [
    "print(len(df['Mensaje'][0]))"
   ]
  },
  {
   "cell_type": "markdown",
   "metadata": {
    "id": "TnSkhu_Cg6z3"
   },
   "source": [
    "## Porter Stemming"
   ]
  },
  {
   "cell_type": "code",
   "execution_count": 18,
   "metadata": {
    "colab": {
     "base_uri": "https://localhost:8080/",
     "height": 310
    },
    "id": "RKGIgVSag8nv",
    "outputId": "d70a72ce-4df2-4d65-ccf6-1f4bff3380d6"
   },
   "outputs": [
    {
     "name": "stderr",
     "output_type": "stream",
     "text": [
      "/home/ec2-user/anaconda3/envs/tensorflow_p36/lib/python3.6/site-packages/ipykernel/__main__.py:1: SettingWithCopyWarning: \n",
      "A value is trying to be set on a copy of a slice from a DataFrame.\n",
      "Try using .loc[row_indexer,col_indexer] = value instead\n",
      "\n",
      "See the caveats in the documentation: https://pandas.pydata.org/pandas-docs/stable/user_guide/indexing.html#returning-a-view-versus-a-copy\n",
      "  if __name__ == '__main__':\n"
     ]
    },
    {
     "data": {
      "text/html": [
       "<div>\n",
       "<style scoped>\n",
       "    .dataframe tbody tr th:only-of-type {\n",
       "        vertical-align: middle;\n",
       "    }\n",
       "\n",
       "    .dataframe tbody tr th {\n",
       "        vertical-align: top;\n",
       "    }\n",
       "\n",
       "    .dataframe thead th {\n",
       "        text-align: right;\n",
       "    }\n",
       "</style>\n",
       "<table border=\"1\" class=\"dataframe\">\n",
       "  <thead>\n",
       "    <tr style=\"text-align: right;\">\n",
       "      <th></th>\n",
       "      <th>Etiquetas</th>\n",
       "      <th>Mensaje</th>\n",
       "      <th>category_id</th>\n",
       "      <th>Mensaje_porter_stemmed</th>\n",
       "    </tr>\n",
       "  </thead>\n",
       "  <tbody>\n",
       "    <tr>\n",
       "      <th>0</th>\n",
       "      <td>Comunidad</td>\n",
       "      <td>RT @Camiloparada: En el 2010 Pi?era nombr com...</td>\n",
       "      <td>0</td>\n",
       "      <td>rt @camiloparada: en el 2010 pi?er nombr com ...</td>\n",
       "    </tr>\n",
       "    <tr>\n",
       "      <th>1</th>\n",
       "      <td>Mineria</td>\n",
       "      <td>RT @Camiloparada: En el 2010 Pi?era nombr com...</td>\n",
       "      <td>1</td>\n",
       "      <td>rt @camiloparada: en el 2010 pi?er nombr com ...</td>\n",
       "    </tr>\n",
       "    <tr>\n",
       "      <th>2</th>\n",
       "      <td>Comunidad</td>\n",
       "      <td>RT @Camiloparada: En el 2010 Pi?era nombr com...</td>\n",
       "      <td>0</td>\n",
       "      <td>rt @camiloparada: en el 2010 pi?er nombr com ...</td>\n",
       "    </tr>\n",
       "    <tr>\n",
       "      <th>3</th>\n",
       "      <td>Mineria</td>\n",
       "      <td>RT @Camiloparada: En el 2010 Pi?era nombr com...</td>\n",
       "      <td>1</td>\n",
       "      <td>rt @camiloparada: en el 2010 pi?er nombr com ...</td>\n",
       "    </tr>\n",
       "    <tr>\n",
       "      <th>50</th>\n",
       "      <td>Empresa</td>\n",
       "      <td>Acaba de publicar una foto en Minera Caserones...</td>\n",
       "      <td>2</td>\n",
       "      <td>acab de public una fot en miner caseron lumin ...</td>\n",
       "    </tr>\n",
       "  </tbody>\n",
       "</table>\n",
       "</div>"
      ],
      "text/plain": [
       "    Etiquetas                                            Mensaje  category_id  \\\n",
       "0   Comunidad  RT @Camiloparada: En el 2010 Pi?era nombr com...            0   \n",
       "1     Mineria  RT @Camiloparada: En el 2010 Pi?era nombr com...            1   \n",
       "2   Comunidad  RT @Camiloparada: En el 2010 Pi?era nombr com...            0   \n",
       "3     Mineria  RT @Camiloparada: En el 2010 Pi?era nombr com...            1   \n",
       "50    Empresa  Acaba de publicar una foto en Minera Caserones...            2   \n",
       "\n",
       "                               Mensaje_porter_stemmed  \n",
       "0   rt @camiloparada: en el 2010 pi?er nombr com ...  \n",
       "1   rt @camiloparada: en el 2010 pi?er nombr com ...  \n",
       "2   rt @camiloparada: en el 2010 pi?er nombr com ...  \n",
       "3   rt @camiloparada: en el 2010 pi?er nombr com ...  \n",
       "50  acab de public una fot en miner caseron lumin ...  "
      ]
     },
     "execution_count": 18,
     "metadata": {},
     "output_type": "execute_result"
    }
   ],
   "source": [
    "df['Mensaje_porter_stemmed'] = df['Mensaje'].apply(lambda x: ' '.join([stemmer.stem(word) for word in x.split()]))\n",
    "df.head()"
   ]
  },
  {
   "cell_type": "code",
   "execution_count": 19,
   "metadata": {
    "colab": {
     "base_uri": "https://localhost:8080/"
    },
    "id": "EMMM1yTX2y5K",
    "outputId": "50c6b19a-f3e3-48aa-9daf-1bdb3c702974"
   },
   "outputs": [
    {
     "name": "stdout",
     "output_type": "stream",
     "text": [
      "RT @Camiloparada: En el 2010 Pi?era nombr como intendente de Coquimbo a Rafael Prohens, actual senador, quien ademÿs es presidente de Prod?\n"
     ]
    }
   ],
   "source": [
    "print(df['Mensaje'][0])"
   ]
  },
  {
   "cell_type": "code",
   "execution_count": 20,
   "metadata": {
    "colab": {
     "base_uri": "https://localhost:8080/"
    },
    "id": "cYxeKD9M3IQa",
    "outputId": "e7cfcc6f-2516-4743-c7a1-410f1f5d8e06"
   },
   "outputs": [
    {
     "name": "stdout",
     "output_type": "stream",
     "text": [
      "rt @camiloparada: en el 2010 pi?er nombr com intendent de coquimb a rafael prohens, actual senador, qui ademÿs es president de prod?\n"
     ]
    }
   ],
   "source": [
    "print(df['Mensaje_porter_stemmed'][0])"
   ]
  },
  {
   "cell_type": "markdown",
   "metadata": {
    "id": "5qcZAgjjmV5A"
   },
   "source": [
    "## Converting TO LowerCase"
   ]
  },
  {
   "cell_type": "code",
   "execution_count": 21,
   "metadata": {
    "colab": {
     "base_uri": "https://localhost:8080/"
    },
    "id": "L3Ufljae3J65",
    "outputId": "6a83e410-0e07-4bf6-adea-10bdbcdd3b66"
   },
   "outputs": [
    {
     "name": "stderr",
     "output_type": "stream",
     "text": [
      "/home/ec2-user/anaconda3/envs/tensorflow_p36/lib/python3.6/site-packages/ipykernel/__main__.py:1: SettingWithCopyWarning: \n",
      "A value is trying to be set on a copy of a slice from a DataFrame.\n",
      "Try using .loc[row_indexer,col_indexer] = value instead\n",
      "\n",
      "See the caveats in the documentation: https://pandas.pydata.org/pandas-docs/stable/user_guide/indexing.html#returning-a-view-versus-a-copy\n",
      "  if __name__ == '__main__':\n"
     ]
    }
   ],
   "source": [
    "df['Mensaje_porter_stemmed'] = df['Mensaje_porter_stemmed'].apply(lambda x: ' '.join(x.lower() for x in x.split()))"
   ]
  },
  {
   "cell_type": "code",
   "execution_count": 22,
   "metadata": {
    "colab": {
     "base_uri": "https://localhost:8080/"
    },
    "id": "eDKj1NTomf28",
    "outputId": "7d24269c-d853-4b46-c6d6-75e7456a5f9c"
   },
   "outputs": [
    {
     "name": "stdout",
     "output_type": "stream",
     "text": [
      "rt @camiloparada: en el 2010 pi?er nombr com intendent de coquimb a rafael prohens, actual senador, qui ademÿs es president de prod?\n"
     ]
    }
   ],
   "source": [
    "print(df['Mensaje_porter_stemmed'][0])"
   ]
  },
  {
   "cell_type": "markdown",
   "metadata": {
    "id": "hdIU-KTemrkX"
   },
   "source": [
    "## Removing Punctuation"
   ]
  },
  {
   "cell_type": "code",
   "execution_count": 23,
   "metadata": {
    "colab": {
     "base_uri": "https://localhost:8080/"
    },
    "id": "md33tWatmlX0",
    "outputId": "843dc767-eb9a-4cb8-e400-4a464f32a0c7"
   },
   "outputs": [
    {
     "name": "stderr",
     "output_type": "stream",
     "text": [
      "/home/ec2-user/anaconda3/envs/tensorflow_p36/lib/python3.6/site-packages/ipykernel/__main__.py:1: SettingWithCopyWarning: \n",
      "A value is trying to be set on a copy of a slice from a DataFrame.\n",
      "Try using .loc[row_indexer,col_indexer] = value instead\n",
      "\n",
      "See the caveats in the documentation: https://pandas.pydata.org/pandas-docs/stable/user_guide/indexing.html#returning-a-view-versus-a-copy\n",
      "  if __name__ == '__main__':\n"
     ]
    }
   ],
   "source": [
    "df['Mensaje_porter_stemmed'] = df['Mensaje_porter_stemmed'].str.replace('[^\\w\\s]','')"
   ]
  },
  {
   "cell_type": "code",
   "execution_count": 24,
   "metadata": {
    "colab": {
     "base_uri": "https://localhost:8080/",
     "height": 35
    },
    "id": "lqQzsmm_nL10",
    "outputId": "7eeeefc5-18f2-4805-8a1c-6480134ecffb"
   },
   "outputs": [
    {
     "data": {
      "text/plain": [
       "'rt camiloparada en el 2010 pier nombr com intendent de coquimb a rafael prohens actual senador qui ademÿs es president de prod'"
      ]
     },
     "execution_count": 24,
     "metadata": {},
     "output_type": "execute_result"
    }
   ],
   "source": [
    "df['Mensaje_porter_stemmed'][0]"
   ]
  },
  {
   "cell_type": "markdown",
   "metadata": {
    "id": "A2y1hJx5oDyn"
   },
   "source": [
    "## Low frequency term filtering (count < 3)"
   ]
  },
  {
   "cell_type": "code",
   "execution_count": 25,
   "metadata": {
    "id": "611dmgOnnRIm"
   },
   "outputs": [],
   "source": [
    "freq = pd.Series(' '.join(df['Mensaje_porter_stemmed']).split()).value_counts()"
   ]
  },
  {
   "cell_type": "code",
   "execution_count": 26,
   "metadata": {
    "colab": {
     "base_uri": "https://localhost:8080/"
    },
    "id": "_9uHpVM8oLOF",
    "outputId": "89ee240a-8113-4417-cc27-011831758b37"
   },
   "outputs": [
    {
     "data": {
      "text/plain": [
       "de    12844\n",
       "la     5799\n",
       "en     4812\n",
       "y      3965\n",
       "rt     3925\n",
       "dtype: int64"
      ]
     },
     "execution_count": 26,
     "metadata": {},
     "output_type": "execute_result"
    }
   ],
   "source": [
    "freq.head()"
   ]
  },
  {
   "cell_type": "code",
   "execution_count": 27,
   "metadata": {
    "colab": {
     "base_uri": "https://localhost:8080/"
    },
    "id": "5PAeZN7IoN2W",
    "outputId": "be5f1f34-c786-425f-859a-afa959e14f0c"
   },
   "outputs": [
    {
     "data": {
      "text/plain": [
       "azcar             3\n",
       "remot             3\n",
       "adquisicin        3\n",
       "extranjer         3\n",
       "aysn              3\n",
       "                 ..\n",
       "franquici         1\n",
       "grÿfica           1\n",
       "sichel            1\n",
       "desgastenuestr    1\n",
       "12262021          1\n",
       "Length: 9177, dtype: int64"
      ]
     },
     "execution_count": 27,
     "metadata": {},
     "output_type": "execute_result"
    }
   ],
   "source": [
    "freq2 = freq[freq <= 3]\n",
    "freq2"
   ]
  },
  {
   "cell_type": "code",
   "execution_count": 28,
   "metadata": {
    "colab": {
     "base_uri": "https://localhost:8080/"
    },
    "id": "DANvgrAFoUek",
    "outputId": "a233d6dd-3658-498e-d696-e1e5450c1e73"
   },
   "outputs": [
    {
     "data": {
      "text/plain": [
       "['azcar',\n",
       " 'remot',\n",
       " 'adquisicin',\n",
       " 'extranjer',\n",
       " 'aysn',\n",
       " 'meteorolog',\n",
       " 'mujerempresariaturst',\n",
       " 'digitalizacinsostenibilidadsi',\n",
       " 'httpstcovuypechxg4',\n",
       " 'mantequill',\n",
       " 'energacobrecentrocesco',\n",
       " 'desktop',\n",
       " 'atrev',\n",
       " 'araya',\n",
       " 'pelambr',\n",
       " 'pizarr',\n",
       " 'vejezdign',\n",
       " 'veng',\n",
       " 'chilena',\n",
       " 'trabajar',\n",
       " 'patrocini',\n",
       " 'httpstcol8grwshnlc',\n",
       " '0049',\n",
       " 'atmosfr',\n",
       " 'aguilera',\n",
       " 'aniversario',\n",
       " 'regalon',\n",
       " 'precaucin',\n",
       " 'fore',\n",
       " 'manifiest',\n",
       " 'tiempo',\n",
       " 'rincn',\n",
       " 'extract',\n",
       " 'sierr',\n",
       " 'conservacin',\n",
       " 'bridec',\n",
       " 'mecÿnic',\n",
       " 'httpstcompcjfkmdlf',\n",
       " 'habitantes',\n",
       " '2021les',\n",
       " 'a5',\n",
       " 'nuevamineria',\n",
       " 'juec',\n",
       " 'discut',\n",
       " 'wwwinstagramcomchilemineriachileminera',\n",
       " 'senior',\n",
       " 'felipiiin',\n",
       " 'thecliniccl',\n",
       " 'reddeemergencia',\n",
       " 'alex',\n",
       " 'doctor',\n",
       " 'henry',\n",
       " 'minut',\n",
       " 'colocol',\n",
       " 'freightlin',\n",
       " 'gracias',\n",
       " 'httpstcobdeeeaxix',\n",
       " 'puerto',\n",
       " 'fsica',\n",
       " 'calet',\n",
       " 'europe',\n",
       " '015235',\n",
       " 'httpstcofligsnozhy',\n",
       " '400',\n",
       " 'cifras',\n",
       " 'cicl',\n",
       " 'clusterdesonora',\n",
       " 'maul',\n",
       " 'grupowurtlitzer',\n",
       " 'olivar',\n",
       " 'crisisimpuls',\n",
       " 'autocuid',\n",
       " 'httpstco7br3o95ze4',\n",
       " '150515',\n",
       " 'xolikh',\n",
       " 'httpstcopzan6j9rhb',\n",
       " 'depto',\n",
       " 'bÿrbaracontrer',\n",
       " 'retras',\n",
       " 'vida',\n",
       " 'navide',\n",
       " 'financier',\n",
       " 'bautiz',\n",
       " 'trist',\n",
       " 'apruebodignidadmakaariasdiput',\n",
       " 'dudas',\n",
       " 'inminent',\n",
       " 'pluma',\n",
       " 'entiend',\n",
       " 'crnic',\n",
       " 'antonio',\n",
       " 'wm_technologie',\n",
       " 'influenz',\n",
       " 'prisin',\n",
       " 'minerales',\n",
       " 'mileniosec',\n",
       " 'ocult',\n",
       " 'transit',\n",
       " 'compar',\n",
       " 'httpstcopaaaqvch',\n",
       " 'delimitacin',\n",
       " 'salas',\n",
       " 'anoth',\n",
       " 'ucatol',\n",
       " 'nuestropuntodeencuentr',\n",
       " 'consolid',\n",
       " 'rezag',\n",
       " 'medioambiental',\n",
       " 'conaf_minagri',\n",
       " 'kastpresidente2022',\n",
       " 'blog',\n",
       " 'cez',\n",
       " 'ejerc',\n",
       " 'publican',\n",
       " 'bprokur',\n",
       " 'sanitizacin',\n",
       " 'httpstcogq9idrbcmn',\n",
       " 'urgente',\n",
       " 'pis',\n",
       " 'regiones',\n",
       " 'reactiv',\n",
       " 'extraordinari',\n",
       " 'tarapacÿd',\n",
       " 'marga_bejarano',\n",
       " 'bilz',\n",
       " 'chileminera',\n",
       " 'yourswisspartn',\n",
       " 'posible',\n",
       " 'nuevamineri',\n",
       " 'estarÿ',\n",
       " 'existent',\n",
       " 'bnechile',\n",
       " 'especializ',\n",
       " 'quintero',\n",
       " 'hog',\n",
       " 'cristin',\n",
       " 'conversacin',\n",
       " 'cogoti',\n",
       " 'nfas',\n",
       " 'regincab',\n",
       " 'httpstcovdvrdv4nz4',\n",
       " 'ojalÿ',\n",
       " 'inacap',\n",
       " '1222',\n",
       " 'pesquero',\n",
       " 'httpstcoxenmphuxkd',\n",
       " 'castill',\n",
       " 'chupalalengu',\n",
       " 'httpstconvcyolexud',\n",
       " 'gentil',\n",
       " 'chevron',\n",
       " 'pet',\n",
       " 'queil',\n",
       " '20211226',\n",
       " 'orador',\n",
       " 'mtel5985',\n",
       " 'minagriatacam',\n",
       " 'resolv',\n",
       " 'cuÿl',\n",
       " 'desol',\n",
       " 'fantas',\n",
       " 'diminusachcl',\n",
       " 'taller',\n",
       " 'uatacama',\n",
       " 'corrupt',\n",
       " 'logra',\n",
       " '900',\n",
       " 'mdaza_abog',\n",
       " 'httpstcoyrgevvgxny',\n",
       " 'ftcobr',\n",
       " 'votos',\n",
       " 'sirv',\n",
       " 'kseremi',\n",
       " 'implementacin',\n",
       " 'conceptual',\n",
       " 'sqm',\n",
       " '50',\n",
       " 'diariosantiago1',\n",
       " 'royomanuel',\n",
       " 'avisoinvitacin',\n",
       " 'blu',\n",
       " 'acud',\n",
       " 'ocasion',\n",
       " 'poz',\n",
       " 'carbn',\n",
       " 'enmarc',\n",
       " 'margarit',\n",
       " 'puntos',\n",
       " 'mesdelosadultosmayor',\n",
       " 'demostr',\n",
       " 'minerawwwchilemineriacl',\n",
       " 'sient',\n",
       " 'meconomi',\n",
       " 'madrug',\n",
       " 'amigos',\n",
       " '073102',\n",
       " 'anza',\n",
       " 'eg',\n",
       " 'jardin',\n",
       " 'espectÿculosambul',\n",
       " 'delgadoqueved',\n",
       " 'httpstco70hudtqs8r',\n",
       " 'agradeci',\n",
       " 'poblacion',\n",
       " 'variabl',\n",
       " 'conflictos',\n",
       " '959',\n",
       " 'r3',\n",
       " 'cummins',\n",
       " 'reutiliz',\n",
       " 'opcion',\n",
       " 'martnez',\n",
       " 'comits',\n",
       " 'salin',\n",
       " 'pr',\n",
       " 'sumari',\n",
       " 'montt',\n",
       " 'desconexin',\n",
       " '1530',\n",
       " 'postergados',\n",
       " 'dehuasc',\n",
       " 'nicolÿs',\n",
       " 'subterrne',\n",
       " 'privados',\n",
       " 'dan',\n",
       " 'tendr',\n",
       " 'alcaldes',\n",
       " 'fundador',\n",
       " 'fis',\n",
       " 'obligacin',\n",
       " 'popular',\n",
       " 'icminasutalca',\n",
       " 'desp',\n",
       " '100000',\n",
       " 'httpstcoly5',\n",
       " 'pur',\n",
       " 'alberg',\n",
       " 'activa',\n",
       " 'gast',\n",
       " 'chanchit',\n",
       " 'went',\n",
       " 'proactivoperu',\n",
       " 'meteorlog',\n",
       " 'facebook',\n",
       " 'donald',\n",
       " 'requisit',\n",
       " 'elqhaydecierto',\n",
       " 'tributaria',\n",
       " 'httpstcoe70x2jifuf',\n",
       " 'httpstcovc55jujyc5',\n",
       " 'produccion',\n",
       " 'chanarcillo',\n",
       " 'freestyle',\n",
       " 'manteng',\n",
       " 'presentarÿ',\n",
       " 'aluvin',\n",
       " 'rn',\n",
       " '112',\n",
       " 'sacrific',\n",
       " 'httpstcorpaghzdt66',\n",
       " 'color',\n",
       " 'httpstcoxcqvai40u8',\n",
       " 'futuro',\n",
       " 'pe',\n",
       " 'henrquez',\n",
       " 'exÿmen',\n",
       " 'httpstco875mw7awwv',\n",
       " 'httpstco7br3o9',\n",
       " '92',\n",
       " 'progres',\n",
       " 'turismo',\n",
       " 'cÿtod',\n",
       " 'lacomun',\n",
       " 'introduc',\n",
       " 'httpstcosh1kxen5q0',\n",
       " 'gemit',\n",
       " 'postdoctoral',\n",
       " 'miercol',\n",
       " 'vistan',\n",
       " 'lik',\n",
       " 'coreatacam',\n",
       " 'justo',\n",
       " 'pamma',\n",
       " 'bacteri',\n",
       " '130',\n",
       " 'desocupacin',\n",
       " 'volunt',\n",
       " 'cup',\n",
       " 'entorn',\n",
       " 'danielcalam',\n",
       " 'armandofloresj2',\n",
       " 'iles',\n",
       " 'prob',\n",
       " 'angloaustralian',\n",
       " 'cerda',\n",
       " 'nazareno',\n",
       " 'casa',\n",
       " 'who',\n",
       " 'sorprend',\n",
       " 'salmuer',\n",
       " 'maray',\n",
       " 'cÿmar',\n",
       " 'cronossb',\n",
       " 'asunt',\n",
       " 'niez',\n",
       " 'honor',\n",
       " 'encant',\n",
       " 'abriljuni',\n",
       " 'portafolioc',\n",
       " 'httpstcofc0wsblhs',\n",
       " 'captur',\n",
       " 'mental',\n",
       " 'seriebanderin',\n",
       " 'perjudic',\n",
       " '1946',\n",
       " 'httpstcorfislf7zkx',\n",
       " 'detencin',\n",
       " 'priorid',\n",
       " 'suen',\n",
       " 'conquist',\n",
       " 'multiplataform',\n",
       " 'plac',\n",
       " 'iva',\n",
       " 'httpstcoftmvobwbpz',\n",
       " 'redeg',\n",
       " 'cruc',\n",
       " 'aire',\n",
       " 'entid',\n",
       " 'fortalez',\n",
       " 'sustentable',\n",
       " 'operarÿ',\n",
       " 'cudat',\n",
       " 'stop',\n",
       " 'httpstco8yphwmhdw',\n",
       " 'darl',\n",
       " 'hayan',\n",
       " 'estall',\n",
       " 'omjcalder',\n",
       " 'implic',\n",
       " 'habi',\n",
       " 'abrirÿn',\n",
       " 'proc',\n",
       " 'cosa',\n",
       " 'jadue2022',\n",
       " 'coster',\n",
       " 'postular',\n",
       " 'bail',\n",
       " 'plc',\n",
       " 'gratuita',\n",
       " 'lom',\n",
       " 'felip',\n",
       " 'greenwashing',\n",
       " 'brav',\n",
       " 'guanaqueros',\n",
       " 'pucobr',\n",
       " 'bailes',\n",
       " 'solidari',\n",
       " 'prioridad',\n",
       " 'justici',\n",
       " 'pblico',\n",
       " 'httpstcoed8d0blcrm',\n",
       " 'almonte',\n",
       " 'recorridocl',\n",
       " 'eur',\n",
       " 'mascot',\n",
       " 'webin',\n",
       " 'john',\n",
       " 'vestenius',\n",
       " 'continuarÿ',\n",
       " 'jurament',\n",
       " 'disminucin',\n",
       " 'fug',\n",
       " 'simul',\n",
       " '0700',\n",
       " 'liv',\n",
       " 'mit',\n",
       " 'crtico',\n",
       " 'len',\n",
       " 'tambiental',\n",
       " 'diner',\n",
       " 'sutminag',\n",
       " 'aquatech',\n",
       " 'estado',\n",
       " 'larazon_cl',\n",
       " 'httpstcoj4ykng5zkg',\n",
       " 'une',\n",
       " 'edli',\n",
       " 'httpstcofmhjficqy6',\n",
       " 'see',\n",
       " 'poblete',\n",
       " '02',\n",
       " 'httpstcot9nlizf0fc',\n",
       " '110',\n",
       " 'paro',\n",
       " 'complement',\n",
       " 'guasc',\n",
       " 'continuacin',\n",
       " 'meti',\n",
       " 'octubrednde',\n",
       " 'sonor',\n",
       " 'bosselin',\n",
       " 'motivat',\n",
       " 'httpstcokz0ynwra1d',\n",
       " 'movilizado',\n",
       " 'minerajorn',\n",
       " 'molin',\n",
       " 'colombian',\n",
       " 'mma',\n",
       " 'provi',\n",
       " 'osorno',\n",
       " 'horribl',\n",
       " 'podrÿn',\n",
       " 'dems',\n",
       " 'desal',\n",
       " 'comunasig',\n",
       " 'litrosegund',\n",
       " 'lpic',\n",
       " 'lavandero',\n",
       " 'mayores',\n",
       " 'jornada',\n",
       " 'investigarÿn',\n",
       " 'silv',\n",
       " 'most',\n",
       " 'biografa',\n",
       " 'baln',\n",
       " 'requisitos',\n",
       " 'privada',\n",
       " '95',\n",
       " 'asamble',\n",
       " 'cabr',\n",
       " 'allÿ',\n",
       " 'boxeochilen',\n",
       " 'provisori',\n",
       " 'alvaroleblanct',\n",
       " '3000',\n",
       " 'fui',\n",
       " 'admis',\n",
       " 'juan_santanac',\n",
       " 'meganoticiasactualiz',\n",
       " 'htt',\n",
       " 'httpstcozurclmc2hx',\n",
       " 'miserables',\n",
       " '1985',\n",
       " 'dependent',\n",
       " 'logstic',\n",
       " 'vervide',\n",
       " 'glencor',\n",
       " 'condicin',\n",
       " 'participalugar',\n",
       " 'oticsofofa',\n",
       " '1194',\n",
       " 'festival',\n",
       " 'metros',\n",
       " 'sensibl',\n",
       " 'deportista',\n",
       " 'asistir',\n",
       " 'globalsat',\n",
       " 'especie',\n",
       " 'molibden',\n",
       " 'janet90476632',\n",
       " 'estrategiacl',\n",
       " 'machal',\n",
       " 'oticsofof',\n",
       " 'plstic',\n",
       " 'frecuent',\n",
       " 'empleador',\n",
       " 'icl',\n",
       " 'meteorologa',\n",
       " 'mercurioaft',\n",
       " 'lahiguer',\n",
       " 'competitividadinnovacin',\n",
       " 'fro',\n",
       " 'httpstcoznawivorhf',\n",
       " 'freeportmcmor',\n",
       " 'mejoramiento',\n",
       " 'httpstcoo7yx533okx',\n",
       " 'bautist',\n",
       " 'corts',\n",
       " 'piamoscoso',\n",
       " 'zorr',\n",
       " 'revel',\n",
       " 'httpstco7bs1zfgtp',\n",
       " 'peru',\n",
       " 'magaly',\n",
       " 'explor',\n",
       " 'po',\n",
       " 'verg',\n",
       " 'mineriaenpeligr',\n",
       " 'gr',\n",
       " 'lej',\n",
       " 'accidente',\n",
       " 'ccmcandelari',\n",
       " 'virtud',\n",
       " 'gigantes',\n",
       " 'internaci',\n",
       " 'dedicacin',\n",
       " 'gustavo1cabrera',\n",
       " 'httpstcoiifanbulhz',\n",
       " 'latinoamr',\n",
       " 'hornitos',\n",
       " 'siil',\n",
       " 'centrocesco',\n",
       " 'nov2021',\n",
       " 'pg',\n",
       " 'mineraral',\n",
       " 'marcelahern',\n",
       " 'adicional',\n",
       " 'document',\n",
       " 'rocacomecuernos',\n",
       " 'grant',\n",
       " 'sueos',\n",
       " 'cuadruplicaron',\n",
       " 'httpstco0nk7spgus',\n",
       " '100105',\n",
       " 'pinochet',\n",
       " 'inclusivo',\n",
       " 'emsambl',\n",
       " 'peopl',\n",
       " 'was',\n",
       " 'opsal_',\n",
       " 'parlamentari',\n",
       " '5ta',\n",
       " 'proceso',\n",
       " 'httpstcon0srx6fwib',\n",
       " 'saqu',\n",
       " 'jbching',\n",
       " 'httpstcobcditsh01t',\n",
       " 'absolut',\n",
       " 'httpstcoq2rrha7cep',\n",
       " 'innov',\n",
       " 'contig',\n",
       " 'psantib',\n",
       " 'exige',\n",
       " 'deavanc',\n",
       " 'covid',\n",
       " 'nada',\n",
       " 'subcomisari',\n",
       " 'gre',\n",
       " 'deempres',\n",
       " 'hdric',\n",
       " 'antai',\n",
       " 'segura',\n",
       " 'turnos',\n",
       " 'terapi',\n",
       " 'semanal',\n",
       " 'corredor',\n",
       " 'entrevistatl',\n",
       " 'httpstcofy57d6qslf',\n",
       " 'atrs',\n",
       " 'almost',\n",
       " 'probabl',\n",
       " 'kast',\n",
       " 'cabl',\n",
       " 'aceit',\n",
       " 'nortedechil',\n",
       " 'quint',\n",
       " 'economiasubs',\n",
       " 'comunas',\n",
       " 'papel',\n",
       " 'dsi',\n",
       " 'homenaj',\n",
       " 'lama',\n",
       " 'g2',\n",
       " 'correa',\n",
       " 'briones',\n",
       " 'sintonic',\n",
       " 'magi',\n",
       " 'natali',\n",
       " 'lad',\n",
       " 'epicentr',\n",
       " 'pez',\n",
       " 'raz',\n",
       " 'olvides',\n",
       " 'escorial',\n",
       " 'realidad',\n",
       " 'nuevos',\n",
       " 'actu',\n",
       " 'coloc',\n",
       " 'diputadacidv',\n",
       " 'bx4',\n",
       " 'ahumada',\n",
       " 'fida',\n",
       " 'ccm',\n",
       " 'httpstconinkc71cvx',\n",
       " 'pasado',\n",
       " '150917',\n",
       " 'biobo',\n",
       " 'previ',\n",
       " 'materializ',\n",
       " 'xito',\n",
       " 'twittercomchilemineri',\n",
       " 'recint',\n",
       " 'httpstcokyd7rzkb74',\n",
       " '1025',\n",
       " 'wwwfacebookcomchilemineriacl',\n",
       " 'finlandi',\n",
       " 'alguna',\n",
       " '1051',\n",
       " 'trabajolug',\n",
       " 'wwwsernaturclmujerempresariaturist',\n",
       " 'cuenta',\n",
       " 'httpstconcjl65lz79',\n",
       " '31072021',\n",
       " 'caden',\n",
       " 'compaeras',\n",
       " 'pordenonebudoia',\n",
       " 'ciahnatacam',\n",
       " 'zern',\n",
       " 'dffull',\n",
       " 'gob_interior',\n",
       " 'conduct',\n",
       " 'aguirr',\n",
       " '1800',\n",
       " 'sandr',\n",
       " 'abus',\n",
       " 'mineralpropert1',\n",
       " 'world',\n",
       " 'abandon',\n",
       " '20en',\n",
       " 'aloj',\n",
       " 'cens',\n",
       " 'rebaj',\n",
       " 'alej',\n",
       " 'should',\n",
       " 'mÿxim',\n",
       " 'httpstcosecfdm3j',\n",
       " 'fesuc',\n",
       " 'coraznminerodemx',\n",
       " 'chinga',\n",
       " 'admit',\n",
       " 'a4',\n",
       " 'manu_nanjari',\n",
       " 'salamanc',\n",
       " 'mayoritari',\n",
       " 'privado',\n",
       " 'masaj',\n",
       " 'httpstcoo6dabymmwu',\n",
       " 'httpstco5relfhoot',\n",
       " 'lig',\n",
       " 'norm',\n",
       " 'coordinacin',\n",
       " 'alfons',\n",
       " 'perfor',\n",
       " 'enseanz',\n",
       " 'nortino',\n",
       " 'aca',\n",
       " 'elagua',\n",
       " 'sostien',\n",
       " 'bf6',\n",
       " 'valentin',\n",
       " 'crasel',\n",
       " 'asimismo',\n",
       " 'parte',\n",
       " 'estadi',\n",
       " 'venta',\n",
       " 'scienc',\n",
       " 'httpstcowvpmfe4qtr',\n",
       " 'chin',\n",
       " 'tractocami',\n",
       " 'personasmayor',\n",
       " 'investigadors',\n",
       " 'cuarentena',\n",
       " 'haverboeck',\n",
       " 'httpstcoupbkapdgcd',\n",
       " 'team',\n",
       " '5x2',\n",
       " 'potencial',\n",
       " '1110',\n",
       " '1137',\n",
       " 'rentabil',\n",
       " 'hitnicol',\n",
       " 'curic',\n",
       " 'iba',\n",
       " 'respecto',\n",
       " 'gratis',\n",
       " 'ceci_simunovic',\n",
       " '1400',\n",
       " 'refier',\n",
       " 'mandat',\n",
       " '1er',\n",
       " 'fantasa',\n",
       " 'iiiii',\n",
       " 'fmi',\n",
       " 'restauracion',\n",
       " 'moned',\n",
       " 'tocopilla',\n",
       " 'sortearn',\n",
       " 'ciel',\n",
       " 'contagios',\n",
       " 'detien',\n",
       " 'carenci',\n",
       " 'calidad',\n",
       " 'perpetu',\n",
       " 'sinvergenz',\n",
       " 'cht_copiap',\n",
       " 'menos',\n",
       " 'ala',\n",
       " 'meteorologael',\n",
       " 'yasn',\n",
       " 'academi',\n",
       " 'disting',\n",
       " 'httpstco4skwzovad5',\n",
       " 'basura',\n",
       " 'conferent',\n",
       " 'entren',\n",
       " 'goldsfields',\n",
       " 'juguet',\n",
       " 'mtod',\n",
       " 'tierramarillano',\n",
       " 'ago',\n",
       " 'patrocin',\n",
       " 'httpstcoeduo0rqd21',\n",
       " 'ocho',\n",
       " 'culturatierraamarill',\n",
       " 'pamel',\n",
       " 'senc',\n",
       " 'chaquet',\n",
       " 'pequeaminer',\n",
       " 'apodos',\n",
       " 'desconoc',\n",
       " 'carasygest',\n",
       " 'conviccin',\n",
       " 'pgin',\n",
       " 'ruidos',\n",
       " 'lin',\n",
       " 'sinmiedoadecirlaverd',\n",
       " 'top',\n",
       " 'httpstcotmcwvjjcw4',\n",
       " 'representat',\n",
       " 'empleabil',\n",
       " 'chileral',\n",
       " 'audit',\n",
       " 'claudiacantare2',\n",
       " 'limit',\n",
       " '070019',\n",
       " 'omjminer',\n",
       " 'coronavirusl',\n",
       " 'chilezon',\n",
       " 'rio',\n",
       " 'alrededor',\n",
       " 'anglo',\n",
       " 'minerominer',\n",
       " 'domeyko',\n",
       " 'contctan',\n",
       " 'comis',\n",
       " 'minera2050',\n",
       " 'httpstcolqkjsyuzqx',\n",
       " 'httpstcop6cbhocrmg',\n",
       " 'domiciliarios',\n",
       " 'tarif',\n",
       " 'mujerresilient',\n",
       " 'escud',\n",
       " 'sany',\n",
       " 'cama',\n",
       " 'previst',\n",
       " 'recomendacin',\n",
       " 'tre',\n",
       " 'empresarial',\n",
       " 'podrs',\n",
       " 'agendar',\n",
       " 'capac',\n",
       " 'gustav',\n",
       " 'aia',\n",
       " 'protej',\n",
       " 'atencion',\n",
       " 'inquietud',\n",
       " 'campo',\n",
       " 'bast',\n",
       " 'crmeco',\n",
       " 'iebchil',\n",
       " 'mansin',\n",
       " 'cumplea',\n",
       " 'suizo',\n",
       " 'nomasaccident',\n",
       " 'operaciones',\n",
       " 'petrle',\n",
       " 'libertad',\n",
       " 'usach',\n",
       " 'block',\n",
       " 'rand',\n",
       " 'patronal',\n",
       " 'industria',\n",
       " '20211103',\n",
       " 'httpstcoo7y',\n",
       " 'quizÿ',\n",
       " 'mdic',\n",
       " 'hrsfreestylejuventud',\n",
       " 'sierra',\n",
       " '138',\n",
       " 'epp',\n",
       " 'welcom',\n",
       " 'cubr',\n",
       " 'quis',\n",
       " 'entregados',\n",
       " 'httpstcopcd2xgafyv',\n",
       " 'mineriatarapaca',\n",
       " 'httpstcoyj5uielb1l',\n",
       " 'xid',\n",
       " 'katj',\n",
       " 'meteorologakatj',\n",
       " 'alejandr',\n",
       " 'retorn',\n",
       " 'invitacin',\n",
       " 'yoj',\n",
       " 'rentable',\n",
       " 'ric',\n",
       " 'climÿtico',\n",
       " 'culp',\n",
       " 'alarm',\n",
       " 'bernal',\n",
       " 'cge',\n",
       " 'mor',\n",
       " 'exterior',\n",
       " 'caf',\n",
       " 'property',\n",
       " 'arauj',\n",
       " 'ngel',\n",
       " 'ttpsbitly',\n",
       " 'partn',\n",
       " 'imda_2019',\n",
       " 'condor',\n",
       " 'participaminer',\n",
       " 'ovni',\n",
       " 'httpstcoob2cgy9qj6',\n",
       " 'extractivismo',\n",
       " '5x2lug',\n",
       " 'capitÿn',\n",
       " 'plusg',\n",
       " 'peeer',\n",
       " 'calific',\n",
       " 'castr',\n",
       " 'esc',\n",
       " '188',\n",
       " 'vulner',\n",
       " 'tolit',\n",
       " 'noyol',\n",
       " 'fundaci',\n",
       " 'metropolitan',\n",
       " 'httpstcokhye5uliyj',\n",
       " 'verdaguer',\n",
       " 'asient',\n",
       " 'httpstcoigpz3mglq2',\n",
       " '7x7atract',\n",
       " 'voluntad',\n",
       " 'httpstcoi5557dmkj7',\n",
       " 'pic',\n",
       " 'vermicopostera',\n",
       " 'acu',\n",
       " 'municipios',\n",
       " 'tuyoest',\n",
       " '1267',\n",
       " 'mad',\n",
       " 'poquit',\n",
       " '107',\n",
       " '68904',\n",
       " 'juanbarriad',\n",
       " 'rden',\n",
       " 'rafaelharvey3',\n",
       " 'simplific',\n",
       " 'illapel',\n",
       " 'compaas',\n",
       " 'fase1',\n",
       " 'httpstcor6nxbh0obn',\n",
       " 'preciojust',\n",
       " 'camionet',\n",
       " 'vern',\n",
       " '24430',\n",
       " 'bol',\n",
       " 'suplement',\n",
       " 'camaraminerape',\n",
       " 'agot',\n",
       " 'agrad',\n",
       " '20932',\n",
       " '5652',\n",
       " 'httpstcoddfuz9zt6m',\n",
       " 'extens',\n",
       " '76',\n",
       " 'tropikal',\n",
       " 'dmc',\n",
       " 'artesan',\n",
       " 'mÿsquenmer',\n",
       " 'adecu',\n",
       " 'httpstcop5mrkbkhzl',\n",
       " 'mÿsym',\n",
       " 'grues',\n",
       " 'eleccioneschile2021',\n",
       " 'circundante',\n",
       " 'httpstcon1swdk6f7k',\n",
       " 'httpstco6tbpxl0r3l',\n",
       " '21072',\n",
       " 'escombr',\n",
       " 'lingot',\n",
       " 'acondicion',\n",
       " 'bomberosd',\n",
       " 'cabal',\n",
       " 'arrib',\n",
       " 'capitul',\n",
       " 'convergenciasocialista',\n",
       " 'riquez',\n",
       " 'relajacin',\n",
       " 'raul',\n",
       " 'half',\n",
       " 'robomoticchile',\n",
       " 'notar',\n",
       " 'autoriz',\n",
       " 'construirÿ',\n",
       " 'fatal',\n",
       " 'regi',\n",
       " 'httpstcotjohoub9nn',\n",
       " 'aquhttpstcofmhjficqy6',\n",
       " 'hphvallen',\n",
       " 'esperanza',\n",
       " '10503',\n",
       " 'andacoll',\n",
       " 'sequa',\n",
       " 'coimer',\n",
       " 'httpstcow5rwjr0msj',\n",
       " 'nubes',\n",
       " 'prestigi',\n",
       " 'delmunicipi',\n",
       " '0513',\n",
       " 'about',\n",
       " 'near',\n",
       " 'forestinchil',\n",
       " 'connel',\n",
       " '21116',\n",
       " 'httpstconrgvt9rpnz',\n",
       " 'regio',\n",
       " 'ileso',\n",
       " 'vas',\n",
       " '25112021',\n",
       " 'decret',\n",
       " 'lesionados',\n",
       " 'httpstcoboe8gwlhxu',\n",
       " 'aljib',\n",
       " 'httpstcoamear4fy8h',\n",
       " 'agenpropiedad',\n",
       " 'favorable',\n",
       " 'establecimiento',\n",
       " '01102021',\n",
       " 'contralora',\n",
       " 'inia_intihuasi',\n",
       " 'informe',\n",
       " 'chilesust',\n",
       " 'semitrckn',\n",
       " 'juanhugof',\n",
       " 'httpstcott8t7ur2wt',\n",
       " 'nuestrs',\n",
       " 'polill',\n",
       " 'httpstcopuofbna408',\n",
       " '8040',\n",
       " 'vernic',\n",
       " 'productivo',\n",
       " 'resumensemanal',\n",
       " 'httpstcogohg1btzem',\n",
       " 'prdid',\n",
       " 'httpstcojsbi622ak',\n",
       " 'loretosalinasmanpowergroupclhaypeg',\n",
       " 'presunt',\n",
       " 'motor',\n",
       " 'desbord',\n",
       " 'niss',\n",
       " 'acompÿan',\n",
       " 'veg',\n",
       " 'habrÿ',\n",
       " 'gu',\n",
       " 'resultado',\n",
       " 'mismos',\n",
       " 'atrÿs',\n",
       " 'httpstcoazfexoingv',\n",
       " 'signif',\n",
       " 'abre',\n",
       " 'aglomeracin',\n",
       " 'inteligenciaartificial',\n",
       " 'ciudadanosinmiedoadecirlaverdadconsejerosregionalesvotaau207copiapocalderapaipotetierraamarill',\n",
       " 'lxs',\n",
       " 'die',\n",
       " 'morning',\n",
       " 'seguridadminer',\n",
       " 'koz',\n",
       " 'humanas',\n",
       " '500000',\n",
       " 'whats',\n",
       " 'distorsin',\n",
       " 'obtencin',\n",
       " 'reciclado',\n",
       " 'patria',\n",
       " 'rapidez',\n",
       " 'metalurg',\n",
       " 'complac',\n",
       " 'diarioafta',\n",
       " '1098',\n",
       " '5x2interes',\n",
       " 'actitudregional',\n",
       " 'desconcentracin',\n",
       " 'leonel',\n",
       " 'cubepilot',\n",
       " 'andacollo',\n",
       " 'membrillo',\n",
       " 'httpstcoy0dtf4rnvw',\n",
       " ...]"
      ]
     },
     "execution_count": 28,
     "metadata": {},
     "output_type": "execute_result"
    }
   ],
   "source": [
    "freq3 = list(freq2.index.values)\n",
    "freq3"
   ]
  },
  {
   "cell_type": "code",
   "execution_count": 29,
   "metadata": {},
   "outputs": [
    {
     "name": "stderr",
     "output_type": "stream",
     "text": [
      "/home/ec2-user/anaconda3/envs/tensorflow_p36/lib/python3.6/site-packages/ipykernel/__main__.py:1: SettingWithCopyWarning: \n",
      "A value is trying to be set on a copy of a slice from a DataFrame.\n",
      "Try using .loc[row_indexer,col_indexer] = value instead\n",
      "\n",
      "See the caveats in the documentation: https://pandas.pydata.org/pandas-docs/stable/user_guide/indexing.html#returning-a-view-versus-a-copy\n",
      "  if __name__ == '__main__':\n"
     ]
    }
   ],
   "source": [
    "df['Mensaje_porter_stemmed'] = df['Mensaje_porter_stemmed'].apply(lambda x: ' '.join([word for word in x.split() if word not in (freq3)]))"
   ]
  },
  {
   "cell_type": "code",
   "execution_count": 99,
   "metadata": {},
   "outputs": [
    {
     "name": "stdout",
     "output_type": "stream",
     "text": [
      "0                      Comunidad\n",
      "1                        Mineria\n",
      "2                      Comunidad\n",
      "3                        Mineria\n",
      "50                       Empresa\n",
      "                  ...           \n",
      "12896    huelga,apoyo_sindicatos\n",
      "12897    huelga,apoyo_sindicatos\n",
      "12898    huelga,apoyo_sindicatos\n",
      "12899    huelga,apoyo_sindicatos\n",
      "12900    huelga,apoyo_sindicatos\n",
      "Name: Etiquetas, Length: 6784, dtype: object\n"
     ]
    },
    {
     "name": "stderr",
     "output_type": "stream",
     "text": [
      "/home/ec2-user/anaconda3/envs/tensorflow_p36/lib/python3.6/site-packages/ipykernel/__main__.py:1: SettingWithCopyWarning: \n",
      "A value is trying to be set on a copy of a slice from a DataFrame.\n",
      "Try using .loc[row_indexer,col_indexer] = value instead\n",
      "\n",
      "See the caveats in the documentation: https://pandas.pydata.org/pandas-docs/stable/user_guide/indexing.html#returning-a-view-versus-a-copy\n",
      "  if __name__ == '__main__':\n"
     ]
    }
   ],
   "source": [
    "df[\"Etiquetas\"] = [col.replace(\" \", \"_\") for col in df.Etiquetas]\n",
    "print(df.Etiquetas)"
   ]
  },
  {
   "cell_type": "code",
   "execution_count": 105,
   "metadata": {},
   "outputs": [
    {
     "data": {
      "text/plain": [
       "array(['Comunidad', 'Mineria', 'Empresa', 'Huelga', 'Sindicatos',\n",
       "       'Sindicatos,Huelga', 'Huelga,Sindicatos', 'pol_pub', 'huelga',\n",
       "       'comunidad', 'sindicatos', 'sindicatos,pol_pub', 'privados',\n",
       "       'comunidad,pol_pub', 'pol_pub,comunidad', 'privados,pol_pub',\n",
       "       'privados,comunidad', 'comunidad,privados', 'pol_pub,privados',\n",
       "       'medios', 'privados,medios', 'medios,pol_pub', 'privado',\n",
       "       'poli_pub', 'negocio', 'contaminacion', 'Comunidad,pol_pub',\n",
       "       'Otras_empresas', 'pol_pub,Otras_empresas', 'mineras', 'Privados',\n",
       "       'Pol\\xadtica', 'Privados,Comunidad', 'Comunidad,Pol\\xadtica',\n",
       "       'paro', 'otras_mineras', 'autoridad', 'comunidad,autoridad',\n",
       "       'otras_mineras,autoridad', 'tension,huelga', 'mineria_afta',\n",
       "       'mineria_afta,otras_mineras', 'otras_mineras,mineria_afta',\n",
       "       'huelga,tension', 'tension', 'bonos', 'huelga,bonos',\n",
       "       'bonos,huelga', 'bonos,tension', 'apoyo_sindical', 'inicio_huelga',\n",
       "       'fracaso', 'bono', 'bloqueo_camino,inicio_huelga',\n",
       "       'medios,comunidad', 'toma_ruta', 'apoyos', 'Medios',\n",
       "       'huelga,apoyo_sindicatos'], dtype=object)"
      ]
     },
     "execution_count": 105,
     "metadata": {},
     "output_type": "execute_result"
    }
   ],
   "source": [
    "df.Etiquetas.unique()"
   ]
  },
  {
   "cell_type": "code",
   "execution_count": 114,
   "metadata": {},
   "outputs": [
    {
     "name": "stderr",
     "output_type": "stream",
     "text": [
      "/home/ec2-user/anaconda3/envs/tensorflow_p36/lib/python3.6/site-packages/ipykernel/__main__.py:1: SettingWithCopyWarning: \n",
      "A value is trying to be set on a copy of a slice from a DataFrame.\n",
      "Try using .loc[row_indexer,col_indexer] = value instead\n",
      "\n",
      "See the caveats in the documentation: https://pandas.pydata.org/pandas-docs/stable/user_guide/indexing.html#returning-a-view-versus-a-copy\n",
      "  if __name__ == '__main__':\n"
     ]
    }
   ],
   "source": [
    "df['label'] = \"__label__\" + df[\"Etiquetas\"]"
   ]
  },
  {
   "cell_type": "code",
   "execution_count": 115,
   "metadata": {},
   "outputs": [
    {
     "data": {
      "text/html": [
       "<div>\n",
       "<style scoped>\n",
       "    .dataframe tbody tr th:only-of-type {\n",
       "        vertical-align: middle;\n",
       "    }\n",
       "\n",
       "    .dataframe tbody tr th {\n",
       "        vertical-align: top;\n",
       "    }\n",
       "\n",
       "    .dataframe thead th {\n",
       "        text-align: right;\n",
       "    }\n",
       "</style>\n",
       "<table border=\"1\" class=\"dataframe\">\n",
       "  <thead>\n",
       "    <tr style=\"text-align: right;\">\n",
       "      <th></th>\n",
       "      <th>Etiquetas</th>\n",
       "      <th>Mensaje</th>\n",
       "      <th>category_id</th>\n",
       "      <th>Mensaje_porter_stemmed</th>\n",
       "      <th>label</th>\n",
       "    </tr>\n",
       "  </thead>\n",
       "  <tbody>\n",
       "    <tr>\n",
       "      <th>0</th>\n",
       "      <td>Comunidad</td>\n",
       "      <td>RT @Camiloparada: En el 2010 Pi?era nombr com...</td>\n",
       "      <td>0</td>\n",
       "      <td>rt camiloparada en el 2010 pier nombr com inte...</td>\n",
       "      <td>__label__Comunidad</td>\n",
       "    </tr>\n",
       "    <tr>\n",
       "      <th>1</th>\n",
       "      <td>Mineria</td>\n",
       "      <td>RT @Camiloparada: En el 2010 Pi?era nombr com...</td>\n",
       "      <td>1</td>\n",
       "      <td>rt camiloparada en el 2010 pier nombr com inte...</td>\n",
       "      <td>__label__Mineria</td>\n",
       "    </tr>\n",
       "    <tr>\n",
       "      <th>2</th>\n",
       "      <td>Comunidad</td>\n",
       "      <td>RT @Camiloparada: En el 2010 Pi?era nombr com...</td>\n",
       "      <td>0</td>\n",
       "      <td>rt camiloparada en el 2010 pier nombr com inte...</td>\n",
       "      <td>__label__Comunidad</td>\n",
       "    </tr>\n",
       "    <tr>\n",
       "      <th>3</th>\n",
       "      <td>Mineria</td>\n",
       "      <td>RT @Camiloparada: En el 2010 Pi?era nombr com...</td>\n",
       "      <td>1</td>\n",
       "      <td>rt camiloparada en el 2010 pier nombr com inte...</td>\n",
       "      <td>__label__Mineria</td>\n",
       "    </tr>\n",
       "    <tr>\n",
       "      <th>50</th>\n",
       "      <td>Empresa</td>\n",
       "      <td>Acaba de publicar una foto en Minera Caserones...</td>\n",
       "      <td>2</td>\n",
       "      <td>acab de public una fot en miner caseron lumin ...</td>\n",
       "      <td>__label__Empresa</td>\n",
       "    </tr>\n",
       "  </tbody>\n",
       "</table>\n",
       "</div>"
      ],
      "text/plain": [
       "    Etiquetas                                            Mensaje  category_id  \\\n",
       "0   Comunidad  RT @Camiloparada: En el 2010 Pi?era nombr com...            0   \n",
       "1     Mineria  RT @Camiloparada: En el 2010 Pi?era nombr com...            1   \n",
       "2   Comunidad  RT @Camiloparada: En el 2010 Pi?era nombr com...            0   \n",
       "3     Mineria  RT @Camiloparada: En el 2010 Pi?era nombr com...            1   \n",
       "50    Empresa  Acaba de publicar una foto en Minera Caserones...            2   \n",
       "\n",
       "                               Mensaje_porter_stemmed               label  \n",
       "0   rt camiloparada en el 2010 pier nombr com inte...  __label__Comunidad  \n",
       "1   rt camiloparada en el 2010 pier nombr com inte...    __label__Mineria  \n",
       "2   rt camiloparada en el 2010 pier nombr com inte...  __label__Comunidad  \n",
       "3   rt camiloparada en el 2010 pier nombr com inte...    __label__Mineria  \n",
       "50  acab de public una fot en miner caseron lumin ...    __label__Empresa  "
      ]
     },
     "execution_count": 115,
     "metadata": {},
     "output_type": "execute_result"
    }
   ],
   "source": [
    "df.head()"
   ]
  },
  {
   "cell_type": "code",
   "execution_count": 116,
   "metadata": {},
   "outputs": [],
   "source": [
    "df1 = df.drop(['Etiquetas' , 'Mensaje' , 'category_id'],axis=1)"
   ]
  },
  {
   "cell_type": "code",
   "execution_count": 117,
   "metadata": {},
   "outputs": [],
   "source": [
    "df1 = df1[['label' , 'Mensaje_porter_stemmed']]"
   ]
  },
  {
   "cell_type": "code",
   "execution_count": 118,
   "metadata": {},
   "outputs": [
    {
     "data": {
      "text/html": [
       "<div>\n",
       "<style scoped>\n",
       "    .dataframe tbody tr th:only-of-type {\n",
       "        vertical-align: middle;\n",
       "    }\n",
       "\n",
       "    .dataframe tbody tr th {\n",
       "        vertical-align: top;\n",
       "    }\n",
       "\n",
       "    .dataframe thead th {\n",
       "        text-align: right;\n",
       "    }\n",
       "</style>\n",
       "<table border=\"1\" class=\"dataframe\">\n",
       "  <thead>\n",
       "    <tr style=\"text-align: right;\">\n",
       "      <th></th>\n",
       "      <th>label</th>\n",
       "      <th>Mensaje_porter_stemmed</th>\n",
       "    </tr>\n",
       "  </thead>\n",
       "  <tbody>\n",
       "    <tr>\n",
       "      <th>0</th>\n",
       "      <td>__label__Comunidad</td>\n",
       "      <td>rt camiloparada en el 2010 pier nombr com inte...</td>\n",
       "    </tr>\n",
       "    <tr>\n",
       "      <th>1</th>\n",
       "      <td>__label__Mineria</td>\n",
       "      <td>rt camiloparada en el 2010 pier nombr com inte...</td>\n",
       "    </tr>\n",
       "    <tr>\n",
       "      <th>2</th>\n",
       "      <td>__label__Comunidad</td>\n",
       "      <td>rt camiloparada en el 2010 pier nombr com inte...</td>\n",
       "    </tr>\n",
       "    <tr>\n",
       "      <th>3</th>\n",
       "      <td>__label__Mineria</td>\n",
       "      <td>rt camiloparada en el 2010 pier nombr com inte...</td>\n",
       "    </tr>\n",
       "    <tr>\n",
       "      <th>50</th>\n",
       "      <td>__label__Empresa</td>\n",
       "      <td>acab de public una fot en miner caseron lumin ...</td>\n",
       "    </tr>\n",
       "  </tbody>\n",
       "</table>\n",
       "</div>"
      ],
      "text/plain": [
       "                 label                             Mensaje_porter_stemmed\n",
       "0   __label__Comunidad  rt camiloparada en el 2010 pier nombr com inte...\n",
       "1     __label__Mineria  rt camiloparada en el 2010 pier nombr com inte...\n",
       "2   __label__Comunidad  rt camiloparada en el 2010 pier nombr com inte...\n",
       "3     __label__Mineria  rt camiloparada en el 2010 pier nombr com inte...\n",
       "50    __label__Empresa  acab de public una fot en miner caseron lumin ..."
      ]
     },
     "execution_count": 118,
     "metadata": {},
     "output_type": "execute_result"
    }
   ],
   "source": [
    "df1.head()"
   ]
  },
  {
   "cell_type": "code",
   "execution_count": 119,
   "metadata": {},
   "outputs": [],
   "source": [
    "training , validation = train_test_split(df1, test_size=0.05)"
   ]
  },
  {
   "cell_type": "code",
   "execution_count": 120,
   "metadata": {},
   "outputs": [
    {
     "name": "stdout",
     "output_type": "stream",
     "text": [
      "(6444, 2)\n",
      "(340, 2)\n"
     ]
    }
   ],
   "source": [
    "print(training.shape)\n",
    "print(validation.shape)"
   ]
  },
  {
   "cell_type": "code",
   "execution_count": 121,
   "metadata": {},
   "outputs": [],
   "source": [
    "np.savetxt('./tmp/training.txt', training.values, fmt='%s')\n",
    "np.savetxt('./tmp/validation.txt', validation.values, fmt='%s')"
   ]
  },
  {
   "cell_type": "code",
   "execution_count": 122,
   "metadata": {},
   "outputs": [
    {
     "name": "stdout",
     "output_type": "stream",
     "text": [
      "__label__pol_pub rt chilealertaapp avis de nuev sismo 32 ml 26 km al suroest de min collahuasi 20211029 135811 app httpstcorblvnxz\r\n",
      "__label__pol_pub rt mineria_atacama 500 millon de pes par la peque miner y miner artesanal de atacama estos fond financiarÿn la explotac\r\n",
      "__label__paro rt dfinanciero sindicat de miner caseron rechaz ltim ofert de la empres en medi de negociacin colect\r\n",
      "__label__Huelga,Sindicatos rt ccu_federacion chil lucha trabaj en huelg de min caserones a casi 5 mil metr de altur y vigil por helicpteros slo\r\n",
      "__label__pol_pub rt raul_salas_a el gobiernodechil hac historia la plant nenit 1 es oficial la primer que tecnolog de\r\n"
     ]
    }
   ],
   "source": [
    "!head -5 ./tmp/training.txt"
   ]
  },
  {
   "cell_type": "markdown",
   "metadata": {},
   "source": [
    "# Store Data in s3 Bucket"
   ]
  },
  {
   "cell_type": "code",
   "execution_count": 123,
   "metadata": {},
   "outputs": [
    {
     "name": "stdout",
     "output_type": "stream",
     "text": [
      "2.86.2\n"
     ]
    }
   ],
   "source": [
    "import boto3\n",
    "import sagemaker\n",
    "\n",
    "print(sagemaker.__version__)\n",
    "\n",
    "session = sagemaker.Session()\n",
    "bucket = session.default_bucket()"
   ]
  },
  {
   "cell_type": "code",
   "execution_count": 124,
   "metadata": {},
   "outputs": [
    {
     "name": "stdout",
     "output_type": "stream",
     "text": [
      "s3://sagemaker-us-west-2-122514903081/birs-spanish/input/train/training.txt\n",
      "s3://sagemaker-us-west-2-122514903081/birs-spanish/input/validation/validation.txt\n",
      "s3://sagemaker-us-west-2-122514903081/birs-spanish/output/\n"
     ]
    }
   ],
   "source": [
    "# Run this cell if you want to use the data you processed manually\n",
    "\n",
    "prefix = 'birs-spanish'\n",
    "\n",
    "s3_train_path = session.upload_data(path='./tmp/training.txt', bucket=bucket, key_prefix=prefix+'/input/train')\n",
    "s3_val_path = session.upload_data(path='./tmp/validation.txt', bucket=bucket, key_prefix=prefix+'/input/validation')\n",
    "s3_output = 's3://{}/{}/output/'.format(bucket, prefix)\n",
    "\n",
    "print(s3_train_path)\n",
    "print(s3_val_path)\n",
    "print(s3_output)"
   ]
  },
  {
   "cell_type": "markdown",
   "metadata": {},
   "source": [
    "# Training the BlazingText model for supervised text classification\n",
    "\n",
    "**BlazingText:** The Amazon SageMaker BlazingText algorithm provides highly optimized implementations of the Word2vec and text classification algorithms. The Word2vec algorithm is useful for many downstream natural language processing (NLP) tasks, such as sentiment analysis, named entity recognition, machine translation, etc. Text classification is an important task for applications that perform web searches, information retrieval, ranking, and document classification.\n",
    "\n",
    "**BlazingText for text classification:** Ability to perform high speed multi-class and and multi-label text classification. The goal of text classification is to automatically classify the text documents into one or more defined categories, like spam detection, sentiment analysis, or user reviews categorization."
   ]
  },
  {
   "cell_type": "code",
   "execution_count": 125,
   "metadata": {},
   "outputs": [
    {
     "name": "stdout",
     "output_type": "stream",
     "text": [
      "433757028032.dkr.ecr.us-west-2.amazonaws.com/blazingtext:1\n"
     ]
    }
   ],
   "source": [
    "from sagemaker import image_uris\n",
    "\n",
    "region = boto3.Session().region_name    \n",
    "container = image_uris.retrieve('blazingtext', region)\n",
    "print(container)"
   ]
  },
  {
   "cell_type": "code",
   "execution_count": 126,
   "metadata": {},
   "outputs": [],
   "source": [
    "role = sagemaker.get_execution_role()\n",
    "\n",
    "bt = sagemaker.estimator.Estimator(container,\n",
    "                                   role, \n",
    "                                   instance_count=1, \n",
    "                                   instance_type='ml.c5.2xlarge',\n",
    "                                   output_path=s3_output)"
   ]
  },
  {
   "cell_type": "code",
   "execution_count": 127,
   "metadata": {},
   "outputs": [],
   "source": [
    "bt.set_hyperparameters(\n",
    "    mode= \"supervised\",\n",
    "    epochs= 5,\n",
    "    min_count= 2,\n",
    "    learning_rate= 0.01,\n",
    "    vector_dim= 10,\n",
    "    early_stopping= True,\n",
    "    patience= 4\n",
    ")"
   ]
  },
  {
   "cell_type": "code",
   "execution_count": 128,
   "metadata": {},
   "outputs": [],
   "source": [
    "train_data = sagemaker.TrainingInput(s3_train_path, \n",
    "                      distribution='FullyReplicated', \n",
    "                      content_type='text/plain',\n",
    "                      s3_data_type='S3Prefix')\n",
    "\n",
    "validation_data = sagemaker.TrainingInput(s3_val_path,\n",
    "                      distribution='FullyReplicated', \n",
    "                      content_type='text/plain', \n",
    "                      s3_data_type='S3Prefix')\n",
    "\n",
    "s3_channels = {'train': train_data, 'validation': validation_data}"
   ]
  },
  {
   "cell_type": "code",
   "execution_count": 129,
   "metadata": {},
   "outputs": [
    {
     "name": "stdout",
     "output_type": "stream",
     "text": [
      "2022-05-20 11:48:31 Starting - Starting the training job...\n",
      "2022-05-20 11:48:48 Starting - Preparing the instances for trainingProfilerReport-1653047311: InProgress\n",
      "......\n",
      "2022-05-20 11:49:48 Downloading - Downloading input data...\n",
      "2022-05-20 11:50:28 Training - Training image download completed. Training in progress.\u001b[34mArguments: train\u001b[0m\n",
      "\u001b[34m[05/20/2022 11:50:21 WARNING 140422130579264] Loggers have already been setup.\u001b[0m\n",
      "\u001b[34m[05/20/2022 11:50:21 WARNING 140422130579264] Loggers have already been setup.\u001b[0m\n",
      "\u001b[34m[05/20/2022 11:50:21 INFO 140422130579264] nvidia-smi took: 0.02516913414001465 secs to identify 0 gpus\u001b[0m\n",
      "\u001b[34m[05/20/2022 11:50:21 INFO 140422130579264] Running single machine CPU BlazingText training using supervised mode.\u001b[0m\n",
      "\u001b[34mNumber of CPU sockets found in instance is  1\u001b[0m\n",
      "\u001b[34m[05/20/2022 11:50:21 INFO 140422130579264] Processing /opt/ml/input/data/train/training.txt . File size: 0.8987922668457031 MB\u001b[0m\n",
      "\u001b[34m[05/20/2022 11:50:21 INFO 140422130579264] Processing /opt/ml/input/data/validation/validation.txt . File size: 0.048675537109375 MB\u001b[0m\n",
      "\u001b[34mRead 0M words\u001b[0m\n",
      "\u001b[34mNumber of words:  3380\u001b[0m\n",
      "\u001b[34mLoading validation data from /opt/ml/input/data/validation/validation.txt\u001b[0m\n",
      "\u001b[34mLoaded validation data.\u001b[0m\n",
      "\u001b[34m##### Alpha: -0.0000  Progress: 100.02%  Million Words/sec: 7.87 #####\u001b[0m\n",
      "\u001b[34m-------------- End of epoch: 5\u001b[0m\n",
      "\u001b[34mUsing 8 threads for prediction!\u001b[0m\n",
      "\u001b[34mValidation accuracy: 0.370588\u001b[0m\n",
      "\u001b[34mValidation accuracy improved! Storing best weights...\u001b[0m\n",
      "\u001b[34m##### Alpha: 0.0000  Progress: 100.00%  Million Words/sec: 4.66 #####\u001b[0m\n",
      "\u001b[34mTraining finished.\u001b[0m\n",
      "\u001b[34mAverage throughput in Million words/sec: 4.66\u001b[0m\n",
      "\u001b[34mTotal training time in seconds: 0.17\u001b[0m\n",
      "\u001b[34m#train_accuracy: 0.3698\u001b[0m\n",
      "\u001b[34mNumber of train examples: 6444\u001b[0m\n",
      "\u001b[34m#validation_accuracy: 0.3706\u001b[0m\n",
      "\u001b[34mNumber of validation examples: 340\u001b[0m\n",
      "\n",
      "2022-05-20 11:50:50 Uploading - Uploading generated training model\n",
      "2022-05-20 11:50:50 Completed - Training job completed\n",
      "Training seconds: 62\n",
      "Billable seconds: 62\n"
     ]
    }
   ],
   "source": [
    "bt.fit(inputs=s3_channels)"
   ]
  },
  {
   "cell_type": "markdown",
   "metadata": {},
   "source": [
    "# Hosting Data In Prodection Environment\n",
    "\n",
    "Once the training is done, we can deploy the trained model as an Amazon SageMaker real-time hosted endpoint. This will allow us to make predictions (or inference) from the model."
   ]
  },
  {
   "cell_type": "code",
   "execution_count": 130,
   "metadata": {},
   "outputs": [
    {
     "name": "stdout",
     "output_type": "stream",
     "text": [
      "-------!"
     ]
    }
   ],
   "source": [
    "bt_predictor = bt.deploy(initial_instance_count=1, instance_type='ml.t2.medium')"
   ]
  },
  {
   "cell_type": "markdown",
   "metadata": {},
   "source": [
    "# Prediction\n",
    "### Use JSON format for inference\n",
    "\n",
    "BlazingText supports application/json as the content-type for inference. The payload should contain a list of sentences with the key as **\"instances\"** while being passed \n",
    "to the endpoint.\n",
    "\n",
    "**Note:** By default, the model will return only one prediction, the one with the highest probability. For retrieving the top k predictions, you can set k in the configuration as shown below:"
   ]
  },
  {
   "cell_type": "code",
   "execution_count": 131,
   "metadata": {},
   "outputs": [
    {
     "name": "stdout",
     "output_type": "stream",
     "text": [
      "b'[{\"label\": [\"__label__pol_pub\", \"__label__comunidad\", \"__label__privados\", \"__label__huelga\"], \"prob\": [0.29972779750823975, 0.07995619624853134, 0.02762720175087452, 0.018569432199001312]}]'\n"
     ]
    }
   ],
   "source": [
    "import json\n",
    "import pprint\n",
    "\n",
    "sentences = ['RT @KinrossChile: Echa un vistazo a las prÿcticas de nuestros aprendices en el simulador de cami›n de extracci›n 785-C ?? que tenemos a disp?']\n",
    "\n",
    "payload = {\"instances\" : sentences, \"configuration\": {\"k\": 4}}\n",
    "\n",
    "bt_predictor.serializer = sagemaker.serializers.JSONSerializer()\n",
    "response = bt_predictor.predict(payload)\n",
    "\n",
    "print(response)"
   ]
  },
  {
   "cell_type": "code",
   "execution_count": 132,
   "metadata": {},
   "outputs": [
    {
     "name": "stdout",
     "output_type": "stream",
     "text": [
      "b'[{\"label\": [\"__label__pol_pub\", \"__label__comunidad\", \"__label__privados\", \"__label__huelga\", \"__label__Comunidad\", \"__label__apoyo_sindical\", \"__label__poli_pub\", \"__label__medios\", \"__label__otras_mineras\", \"__label__Huelga\", \"__label__autoridad\", \"__label__mineria_afta\", \"__label__Pol\\xc2\\xadtica\", \"__label__sindicatos\", \"__label__Privados\", \"__label__huelga,apoyo_sindicatos\", \"__label__Huelga,Sindicatos\", \"__label__bonos\", \"__label__Otras_empresas\", \"__label__inicio_huelga\", \"__label__tension\", \"__label__Medios\", \"__label__apoyos\", \"__label__Empresa\", \"__label__privado\", \"__label__mineria_afta,otras_mineras\", \"__label__negocio\", \"__label__fracaso\", \"__label__bono\", \"__label__paro\", \"__label__Sindicatos,Huelga\", \"__label__comunidad,pol_pub\", \"__label__huelga,bonos\", \"__label__mineras\", \"__label__pol_pub,comunidad\", \"__label__huelga,tension\", \"__label__Sindicatos\", \"__label__Comunidad,Pol\\xc2\\xadtica\", \"__label__comunidad,privados\", \"__label__privados,pol_pub\", \"__label__privados,medios\", \"__label__medios,pol_pub\", \"__label__Privados,Comunidad\", \"__label__sindicatos,pol_pub\", \"__label__Mineria\", \"__label__pol_pub,privados\", \"__label__bonos,huelga\", \"__label__medios,comunidad\", \"__label__otras_mineras,mineria_afta\", \"__label__toma_ruta\", \"__label__contaminacion\", \"__label__privados,comunidad\", \"__label__bloqueo_camino,inicio_huelga\", \"__label__bonos,tension\", \"__label__Comunidad,pol_pub\", \"__label__pol_pub,Otras_empresas\", \"__label__comunidad,autoridad\", \"__label__tension,huelga\"], \"prob\": [0.13789886236190796, 0.05595347657799721, 0.02693270333111286, 0.020468955859541893, 0.018288349732756615, 0.015753360465168953, 0.015580382198095322, 0.015574529767036438, 0.01502236071974039, 0.01475334819406271, 0.014554521068930626, 0.014222830533981323, 0.014134621247649193, 0.014118501916527748, 0.014047514647245407, 0.01399723906069994, 0.013908750377595425, 0.013883332721889019, 0.013881214894354343, 0.013803414069116116, 0.013696661219000816, 0.013691731728613377, 0.013671891763806343, 0.013671363703906536, 0.013665472157299519, 0.013547402806580067, 0.01353832334280014, 0.013509897515177727, 0.013500257395207882, 0.013496221043169498, 0.013488384895026684, 0.013485015369951725, 0.01345304399728775, 0.013438932597637177, 0.013436971232295036, 0.013401093892753124, 0.013400678522884846, 0.013400646857917309, 0.013394839130342007, 0.013384317979216576, 0.013375557959079742, 0.01336685474961996, 0.013366790488362312, 0.013350439257919788, 0.013349942862987518, 0.013345379382371902, 0.01334438007324934, 0.013340601697564125, 0.013340200297534466, 0.0133399972692132, 0.013339907862246037, 0.013339138589799404, 0.013338514603674412, 0.013337974436581135, 0.013337205164134502, 0.013333472423255444, 0.013332264497876167, 0.01333007775247097]}]'\n"
     ]
    }
   ],
   "source": [
    "import json\n",
    "import pprint\n",
    "\n",
    "sentences = ['RT @Mineria_Atacama: ??Los programas de beneficios para la peque?a miner­a y miner­a artesanal son hist›ricos. Gracias al @GobiernodeChile a?']\n",
    "\n",
    "payload = {\"instances\" : sentences, \"configuration\": {\"k\": 58}}\n",
    "\n",
    "bt_predictor.serializer = sagemaker.serializers.JSONSerializer()\n",
    "response = bt_predictor.predict(payload)\n",
    "print(response)"
   ]
  },
  {
   "cell_type": "markdown",
   "metadata": {},
   "source": [
    "# Stop / Close the Endpoint (Optional)\n",
    "Finally, we should delete the endpoint before we close the notebook if we don't need to keep the endpoint running for serving realtime predictions."
   ]
  },
  {
   "cell_type": "code",
   "execution_count": 133,
   "metadata": {},
   "outputs": [],
   "source": [
    "bt_predictor.delete_endpoint()"
   ]
  },
  {
   "cell_type": "code",
   "execution_count": null,
   "metadata": {},
   "outputs": [],
   "source": []
  }
 ],
 "metadata": {
  "accelerator": "GPU",
  "colab": {
   "collapsed_sections": [],
   "name": "Untitled0.ipynb",
   "provenance": []
  },
  "kernelspec": {
   "display_name": "conda_tensorflow_p36",
   "language": "python",
   "name": "conda_tensorflow_p36"
  },
  "language_info": {
   "codemirror_mode": {
    "name": "ipython",
    "version": 3
   },
   "file_extension": ".py",
   "mimetype": "text/x-python",
   "name": "python",
   "nbconvert_exporter": "python",
   "pygments_lexer": "ipython3",
   "version": "3.6.13"
  }
 },
 "nbformat": 4,
 "nbformat_minor": 1
}
