{
 "cells": [
  {
   "cell_type": "code",
   "execution_count": 1,
   "metadata": {
    "colab": {
     "base_uri": "https://localhost:8080/"
    },
    "id": "7810n3UxaL2P",
    "outputId": "cbac0614-ed43-478c-923b-19effa14421f"
   },
   "outputs": [
    {
     "name": "stderr",
     "output_type": "stream",
     "text": [
      "[nltk_data] Downloading package stopwords to\n",
      "[nltk_data]     /home/ec2-user/nltk_data...\n",
      "[nltk_data]   Unzipping corpora/stopwords.zip.\n"
     ]
    }
   ],
   "source": [
    "import pandas as pd\n",
    "import numpy as np\n",
    "from sklearn.model_selection import train_test_split\n",
    "import seaborn as sns\n",
    "\n",
    "########### NLP #############\n",
    "import nltk\n",
    "from nltk.corpus import stopwords\n",
    "from nltk import word_tokenize\n",
    "from nltk.stem import SnowballStemmer\n",
    "stemmer = SnowballStemmer('spanish')\n",
    "\n",
    "import nltk\n",
    "nltk.download('stopwords')\n",
    "from nltk.corpus import stopwords\n",
    "stopwords=stopwords.words('spanish')\n",
    "\n",
    "################ visualization ################\n",
    "import seaborn as sns\n",
    "import matplotlib.pyplot as plt"
   ]
  },
  {
   "cell_type": "code",
   "execution_count": 3,
   "metadata": {
    "colab": {
     "base_uri": "https://localhost:8080/",
     "height": 206
    },
    "id": "JN1T42UDaRmr",
    "outputId": "3657b197-b046-462f-9175-412479f1166b"
   },
   "outputs": [
    {
     "data": {
      "text/html": [
       "<div>\n",
       "<style scoped>\n",
       "    .dataframe tbody tr th:only-of-type {\n",
       "        vertical-align: middle;\n",
       "    }\n",
       "\n",
       "    .dataframe tbody tr th {\n",
       "        vertical-align: top;\n",
       "    }\n",
       "\n",
       "    .dataframe thead th {\n",
       "        text-align: right;\n",
       "    }\n",
       "</style>\n",
       "<table border=\"1\" class=\"dataframe\">\n",
       "  <thead>\n",
       "    <tr style=\"text-align: right;\">\n",
       "      <th></th>\n",
       "      <th>Etiquetas</th>\n",
       "      <th>Mensaje</th>\n",
       "    </tr>\n",
       "  </thead>\n",
       "  <tbody>\n",
       "    <tr>\n",
       "      <th>0</th>\n",
       "      <td>Comunidad</td>\n",
       "      <td>RT @Camiloparada: En el 2010 Pi?era nombr com...</td>\n",
       "    </tr>\n",
       "    <tr>\n",
       "      <th>1</th>\n",
       "      <td>Mineria</td>\n",
       "      <td>RT @Camiloparada: En el 2010 Pi?era nombr com...</td>\n",
       "    </tr>\n",
       "    <tr>\n",
       "      <th>2</th>\n",
       "      <td>Comunidad</td>\n",
       "      <td>RT @Camiloparada: En el 2010 Pi?era nombr com...</td>\n",
       "    </tr>\n",
       "    <tr>\n",
       "      <th>3</th>\n",
       "      <td>Mineria</td>\n",
       "      <td>RT @Camiloparada: En el 2010 Pi?era nombr com...</td>\n",
       "    </tr>\n",
       "    <tr>\n",
       "      <th>4</th>\n",
       "      <td>NaN</td>\n",
       "      <td>RT @Camiloparada: En el 2010 Pi?era nombr com...</td>\n",
       "    </tr>\n",
       "  </tbody>\n",
       "</table>\n",
       "</div>"
      ],
      "text/plain": [
       "   Etiquetas                                            Mensaje\n",
       "0  Comunidad  RT @Camiloparada: En el 2010 Pi?era nombr com...\n",
       "1    Mineria  RT @Camiloparada: En el 2010 Pi?era nombr com...\n",
       "2  Comunidad  RT @Camiloparada: En el 2010 Pi?era nombr com...\n",
       "3    Mineria  RT @Camiloparada: En el 2010 Pi?era nombr com...\n",
       "4        NaN  RT @Camiloparada: En el 2010 Pi?era nombr com..."
      ]
     },
     "execution_count": 3,
     "metadata": {},
     "output_type": "execute_result"
    }
   ],
   "source": [
    "data= pd.read_csv('20220422-Campa+¦as Etiquetadas updated.csv', encoding='latin-1')\n",
    "data.head()"
   ]
  },
  {
   "cell_type": "code",
   "execution_count": 4,
   "metadata": {
    "colab": {
     "base_uri": "https://localhost:8080/"
    },
    "id": "gDUrDdpnav5_",
    "outputId": "35eb19dd-3c83-4c63-cb4d-8ff42a5130a2"
   },
   "outputs": [
    {
     "name": "stdout",
     "output_type": "stream",
     "text": [
      "<class 'pandas.core.frame.DataFrame'>\n",
      "RangeIndex: 12930 entries, 0 to 12929\n",
      "Data columns (total 2 columns):\n",
      " #   Column     Non-Null Count  Dtype \n",
      "---  ------     --------------  ----- \n",
      " 0   Etiquetas  6802 non-null   object\n",
      " 1   Mensaje    12897 non-null  object\n",
      "dtypes: object(2)\n",
      "memory usage: 202.2+ KB\n"
     ]
    }
   ],
   "source": [
    "data.info()"
   ]
  },
  {
   "cell_type": "code",
   "execution_count": 5,
   "metadata": {
    "colab": {
     "base_uri": "https://localhost:8080/",
     "height": 112
    },
    "id": "-Q6XrQpVfPs0",
    "outputId": "b5b77570-b34c-44fd-aea4-33ddf012aa66"
   },
   "outputs": [
    {
     "data": {
      "text/html": [
       "<div>\n",
       "<style scoped>\n",
       "    .dataframe tbody tr th:only-of-type {\n",
       "        vertical-align: middle;\n",
       "    }\n",
       "\n",
       "    .dataframe tbody tr th {\n",
       "        vertical-align: top;\n",
       "    }\n",
       "\n",
       "    .dataframe thead th {\n",
       "        text-align: right;\n",
       "    }\n",
       "</style>\n",
       "<table border=\"1\" class=\"dataframe\">\n",
       "  <thead>\n",
       "    <tr style=\"text-align: right;\">\n",
       "      <th></th>\n",
       "      <th>count</th>\n",
       "      <th>unique</th>\n",
       "      <th>top</th>\n",
       "      <th>freq</th>\n",
       "    </tr>\n",
       "  </thead>\n",
       "  <tbody>\n",
       "    <tr>\n",
       "      <th>Etiquetas</th>\n",
       "      <td>6802</td>\n",
       "      <td>59</td>\n",
       "      <td>pol pub</td>\n",
       "      <td>2511</td>\n",
       "    </tr>\n",
       "    <tr>\n",
       "      <th>Mensaje</th>\n",
       "      <td>12897</td>\n",
       "      <td>7067</td>\n",
       "      <td>Sin contenido</td>\n",
       "      <td>162</td>\n",
       "    </tr>\n",
       "  </tbody>\n",
       "</table>\n",
       "</div>"
      ],
      "text/plain": [
       "           count unique            top  freq\n",
       "Etiquetas   6802     59        pol pub  2511\n",
       "Mensaje    12897   7067  Sin contenido   162"
      ]
     },
     "execution_count": 5,
     "metadata": {},
     "output_type": "execute_result"
    }
   ],
   "source": [
    "# check description\n",
    "data.describe().T"
   ]
  },
  {
   "cell_type": "code",
   "execution_count": 6,
   "metadata": {
    "colab": {
     "base_uri": "https://localhost:8080/"
    },
    "id": "cm_04KSpyUgn",
    "outputId": "6a2ac859-26ca-4294-9acb-6f679b1ffe9f"
   },
   "outputs": [
    {
     "data": {
      "text/plain": [
       "Etiquetas    6128\n",
       "Mensaje        33\n",
       "dtype: int64"
      ]
     },
     "execution_count": 6,
     "metadata": {},
     "output_type": "execute_result"
    }
   ],
   "source": [
    "# check null values\n",
    "data.isnull().sum()"
   ]
  },
  {
   "cell_type": "code",
   "execution_count": 7,
   "metadata": {
    "id": "rUJecTVmyfWU"
   },
   "outputs": [],
   "source": [
    "# data=data.drop(['Fuente','Autor','Fecha','Hora','Seguidores','Interacciones','Viralizaciones','Impacto','ID_DB','Keywords'],inplace=True, axis = 1 )\n",
    "# data"
   ]
  },
  {
   "cell_type": "code",
   "execution_count": 8,
   "metadata": {
    "colab": {
     "base_uri": "https://localhost:8080/"
    },
    "id": "16KJl7zbfX5J",
    "outputId": "200b9e19-156c-4729-9c48-863a002e32fa"
   },
   "outputs": [
    {
     "data": {
      "text/plain": [
       "(6784, 2)"
      ]
     },
     "execution_count": 8,
     "metadata": {},
     "output_type": "execute_result"
    }
   ],
   "source": [
    "df = data.dropna()\n",
    "df.shape"
   ]
  },
  {
   "cell_type": "code",
   "execution_count": 9,
   "metadata": {
    "colab": {
     "base_uri": "https://localhost:8080/"
    },
    "id": "VRJtWqD_fU-n",
    "outputId": "437cffcf-e572-4120-d514-e20819271298"
   },
   "outputs": [
    {
     "data": {
      "text/plain": [
       "Etiquetas    0\n",
       "Mensaje      0\n",
       "dtype: int64"
      ]
     },
     "execution_count": 9,
     "metadata": {},
     "output_type": "execute_result"
    }
   ],
   "source": [
    "# check null values\n",
    "df.isnull().sum()"
   ]
  },
  {
   "cell_type": "code",
   "execution_count": 10,
   "metadata": {
    "colab": {
     "base_uri": "https://localhost:8080/"
    },
    "id": "z8oUMhhWf5cw",
    "outputId": "5a068ca6-9c62-46f1-d0d5-d6b6ce91dd29"
   },
   "outputs": [
    {
     "name": "stdout",
     "output_type": "stream",
     "text": [
      "(12930, 2)\n",
      "(6784, 2)\n"
     ]
    }
   ],
   "source": [
    "print(data.shape)\n",
    "print(df.shape)"
   ]
  },
  {
   "cell_type": "code",
   "execution_count": 11,
   "metadata": {
    "colab": {
     "base_uri": "https://localhost:8080/"
    },
    "id": "l8S-8WG2ggUg",
    "outputId": "fb7483d8-d63e-4ada-f8d2-5cce8bc8b5b8"
   },
   "outputs": [
    {
     "name": "stderr",
     "output_type": "stream",
     "text": [
      "/home/ec2-user/anaconda3/envs/tensorflow_p36/lib/python3.6/site-packages/ipykernel/__main__.py:1: SettingWithCopyWarning: \n",
      "A value is trying to be set on a copy of a slice from a DataFrame.\n",
      "Try using .loc[row_indexer,col_indexer] = value instead\n",
      "\n",
      "See the caveats in the documentation: https://pandas.pydata.org/pandas-docs/stable/user_guide/indexing.html#returning-a-view-versus-a-copy\n",
      "  if __name__ == '__main__':\n"
     ]
    }
   ],
   "source": [
    "df['category_id'] = df['Etiquetas'].factorize()[0]"
   ]
  },
  {
   "cell_type": "code",
   "execution_count": 12,
   "metadata": {
    "colab": {
     "base_uri": "https://localhost:8080/",
     "height": 206
    },
    "id": "jf_eyuzWiAEq",
    "outputId": "42a0121e-b16c-40a2-9a59-d570afb03348"
   },
   "outputs": [
    {
     "data": {
      "text/html": [
       "<div>\n",
       "<style scoped>\n",
       "    .dataframe tbody tr th:only-of-type {\n",
       "        vertical-align: middle;\n",
       "    }\n",
       "\n",
       "    .dataframe tbody tr th {\n",
       "        vertical-align: top;\n",
       "    }\n",
       "\n",
       "    .dataframe thead th {\n",
       "        text-align: right;\n",
       "    }\n",
       "</style>\n",
       "<table border=\"1\" class=\"dataframe\">\n",
       "  <thead>\n",
       "    <tr style=\"text-align: right;\">\n",
       "      <th></th>\n",
       "      <th>Etiquetas</th>\n",
       "      <th>Mensaje</th>\n",
       "      <th>category_id</th>\n",
       "    </tr>\n",
       "  </thead>\n",
       "  <tbody>\n",
       "    <tr>\n",
       "      <th>0</th>\n",
       "      <td>Comunidad</td>\n",
       "      <td>RT @Camiloparada: En el 2010 Pi?era nombr com...</td>\n",
       "      <td>0</td>\n",
       "    </tr>\n",
       "    <tr>\n",
       "      <th>1</th>\n",
       "      <td>Mineria</td>\n",
       "      <td>RT @Camiloparada: En el 2010 Pi?era nombr com...</td>\n",
       "      <td>1</td>\n",
       "    </tr>\n",
       "    <tr>\n",
       "      <th>2</th>\n",
       "      <td>Comunidad</td>\n",
       "      <td>RT @Camiloparada: En el 2010 Pi?era nombr com...</td>\n",
       "      <td>0</td>\n",
       "    </tr>\n",
       "    <tr>\n",
       "      <th>3</th>\n",
       "      <td>Mineria</td>\n",
       "      <td>RT @Camiloparada: En el 2010 Pi?era nombr com...</td>\n",
       "      <td>1</td>\n",
       "    </tr>\n",
       "    <tr>\n",
       "      <th>50</th>\n",
       "      <td>Empresa</td>\n",
       "      <td>Acaba de publicar una foto en Minera Caserones...</td>\n",
       "      <td>2</td>\n",
       "    </tr>\n",
       "  </tbody>\n",
       "</table>\n",
       "</div>"
      ],
      "text/plain": [
       "    Etiquetas                                            Mensaje  category_id\n",
       "0   Comunidad  RT @Camiloparada: En el 2010 Pi?era nombr com...            0\n",
       "1     Mineria  RT @Camiloparada: En el 2010 Pi?era nombr com...            1\n",
       "2   Comunidad  RT @Camiloparada: En el 2010 Pi?era nombr com...            0\n",
       "3     Mineria  RT @Camiloparada: En el 2010 Pi?era nombr com...            1\n",
       "50    Empresa  Acaba de publicar una foto en Minera Caserones...            2"
      ]
     },
     "execution_count": 12,
     "metadata": {},
     "output_type": "execute_result"
    }
   ],
   "source": [
    "df.head()"
   ]
  },
  {
   "cell_type": "code",
   "execution_count": 13,
   "metadata": {
    "id": "7-icy-xaql1A"
   },
   "outputs": [],
   "source": [
    "colslist = ['Etiquetas','Mensaje','category_id']\n",
    "df.columns = colslist"
   ]
  },
  {
   "cell_type": "code",
   "execution_count": 14,
   "metadata": {
    "id": "yXOAeXAxql5l"
   },
   "outputs": [],
   "source": [
    "Index=df['Etiquetas'].value_counts()"
   ]
  },
  {
   "cell_type": "markdown",
   "metadata": {
    "id": "_hJ9c2G2wR9e"
   },
   "source": [
    "# data preprocessing"
   ]
  },
  {
   "cell_type": "code",
   "execution_count": 15,
   "metadata": {
    "id": "b9rVfXWgvZGc"
   },
   "outputs": [],
   "source": [
    "# print(stopwords.fileids(),'\\n')"
   ]
  },
  {
   "cell_type": "code",
   "execution_count": 16,
   "metadata": {
    "colab": {
     "base_uri": "https://localhost:8080/"
    },
    "id": "c4zAI9ASw04N",
    "outputId": "597a4ecf-dc82-485b-c6bf-493bd9e716d9"
   },
   "outputs": [
    {
     "name": "stdout",
     "output_type": "stream",
     "text": [
      "RT @Camiloparada: En el 2010 Pi?era nombr como intendente de Coquimbo a Rafael Prohens, actual senador, quien ademÿs es presidente de Prod?\n"
     ]
    }
   ],
   "source": [
    "print(df[\"Mensaje\"][1])"
   ]
  },
  {
   "cell_type": "code",
   "execution_count": 17,
   "metadata": {
    "colab": {
     "base_uri": "https://localhost:8080/",
     "height": 279
    },
    "id": "y3MIkR-pvuaK",
    "outputId": "f0061a25-3e2d-49a4-cd35-41edc3a7d3cb"
   },
   "outputs": [
    {
     "data": {
      "image/png": "[encoded data removed]",
      "text/plain": [
       "<Figure size 432x288 with 1 Axes>"
      ]
     },
     "metadata": {
      "needs_background": "light"
     },
     "output_type": "display_data"
    }
   ],
   "source": [
    "%matplotlib inline\n",
    "\n",
    "ax = sns.countplot(x='Etiquetas', data=df)\n",
    "plt.show()\n"
   ]
  },
  {
   "cell_type": "markdown",
   "metadata": {
    "id": "vAXYGrot4UZr"
   },
   "source": [
    "## Basic preprocessing"
   ]
  },
  {
   "cell_type": "code",
   "execution_count": 19,
   "metadata": {
    "colab": {
     "base_uri": "https://localhost:8080/"
    },
    "id": "DJ07DKoMwchM",
    "outputId": "d88e09fc-0b91-45af-9eb7-e7915a8e03a5"
   },
   "outputs": [
    {
     "name": "stdout",
     "output_type": "stream",
     "text": [
      "140\n"
     ]
    }
   ],
   "source": [
    "print(len(df['Mensaje'][0]))"
   ]
  },
  {
   "cell_type": "markdown",
   "metadata": {
    "id": "TnSkhu_Cg6z3"
   },
   "source": [
    "## Porter Stemming"
   ]
  },
  {
   "cell_type": "code",
   "execution_count": 20,
   "metadata": {
    "colab": {
     "base_uri": "https://localhost:8080/",
     "height": 310
    },
    "id": "RKGIgVSag8nv",
    "outputId": "d70a72ce-4df2-4d65-ccf6-1f4bff3380d6"
   },
   "outputs": [
    {
     "name": "stderr",
     "output_type": "stream",
     "text": [
      "/home/ec2-user/anaconda3/envs/tensorflow_p36/lib/python3.6/site-packages/ipykernel/__main__.py:1: SettingWithCopyWarning: \n",
      "A value is trying to be set on a copy of a slice from a DataFrame.\n",
      "Try using .loc[row_indexer,col_indexer] = value instead\n",
      "\n",
      "See the caveats in the documentation: https://pandas.pydata.org/pandas-docs/stable/user_guide/indexing.html#returning-a-view-versus-a-copy\n",
      "  if __name__ == '__main__':\n"
     ]
    },
    {
     "data": {
      "text/html": [
       "<div>\n",
       "<style scoped>\n",
       "    .dataframe tbody tr th:only-of-type {\n",
       "        vertical-align: middle;\n",
       "    }\n",
       "\n",
       "    .dataframe tbody tr th {\n",
       "        vertical-align: top;\n",
       "    }\n",
       "\n",
       "    .dataframe thead th {\n",
       "        text-align: right;\n",
       "    }\n",
       "</style>\n",
       "<table border=\"1\" class=\"dataframe\">\n",
       "  <thead>\n",
       "    <tr style=\"text-align: right;\">\n",
       "      <th></th>\n",
       "      <th>Etiquetas</th>\n",
       "      <th>Mensaje</th>\n",
       "      <th>category_id</th>\n",
       "      <th>Mensaje_porter_stemmed</th>\n",
       "    </tr>\n",
       "  </thead>\n",
       "  <tbody>\n",
       "    <tr>\n",
       "      <th>0</th>\n",
       "      <td>Comunidad</td>\n",
       "      <td>RT @Camiloparada: En el 2010 Pi?era nombr com...</td>\n",
       "      <td>0</td>\n",
       "      <td>rt @camiloparada: en el 2010 pi?er nombr com ...</td>\n",
       "    </tr>\n",
       "    <tr>\n",
       "      <th>1</th>\n",
       "      <td>Mineria</td>\n",
       "      <td>RT @Camiloparada: En el 2010 Pi?era nombr com...</td>\n",
       "      <td>1</td>\n",
       "      <td>rt @camiloparada: en el 2010 pi?er nombr com ...</td>\n",
       "    </tr>\n",
       "    <tr>\n",
       "      <th>2</th>\n",
       "      <td>Comunidad</td>\n",
       "      <td>RT @Camiloparada: En el 2010 Pi?era nombr com...</td>\n",
       "      <td>0</td>\n",
       "      <td>rt @camiloparada: en el 2010 pi?er nombr com ...</td>\n",
       "    </tr>\n",
       "    <tr>\n",
       "      <th>3</th>\n",
       "      <td>Mineria</td>\n",
       "      <td>RT @Camiloparada: En el 2010 Pi?era nombr com...</td>\n",
       "      <td>1</td>\n",
       "      <td>rt @camiloparada: en el 2010 pi?er nombr com ...</td>\n",
       "    </tr>\n",
       "    <tr>\n",
       "      <th>50</th>\n",
       "      <td>Empresa</td>\n",
       "      <td>Acaba de publicar una foto en Minera Caserones...</td>\n",
       "      <td>2</td>\n",
       "      <td>acab de public una fot en miner caseron lumin ...</td>\n",
       "    </tr>\n",
       "  </tbody>\n",
       "</table>\n",
       "</div>"
      ],
      "text/plain": [
       "    Etiquetas                                            Mensaje  category_id  \\\n",
       "0   Comunidad  RT @Camiloparada: En el 2010 Pi?era nombr com...            0   \n",
       "1     Mineria  RT @Camiloparada: En el 2010 Pi?era nombr com...            1   \n",
       "2   Comunidad  RT @Camiloparada: En el 2010 Pi?era nombr com...            0   \n",
       "3     Mineria  RT @Camiloparada: En el 2010 Pi?era nombr com...            1   \n",
       "50    Empresa  Acaba de publicar una foto en Minera Caserones...            2   \n",
       "\n",
       "                               Mensaje_porter_stemmed  \n",
       "0   rt @camiloparada: en el 2010 pi?er nombr com ...  \n",
       "1   rt @camiloparada: en el 2010 pi?er nombr com ...  \n",
       "2   rt @camiloparada: en el 2010 pi?er nombr com ...  \n",
       "3   rt @camiloparada: en el 2010 pi?er nombr com ...  \n",
       "50  acab de public una fot en miner caseron lumin ...  "
      ]
     },
     "execution_count": 20,
     "metadata": {},
     "output_type": "execute_result"
    }
   ],
   "source": [
    "df['Mensaje_porter_stemmed'] = df['Mensaje'].apply(lambda x: ' '.join([stemmer.stem(word) for word in x.split()]))\n",
    "df.head()"
   ]
  },
  {
   "cell_type": "code",
   "execution_count": 21,
   "metadata": {
    "colab": {
     "base_uri": "https://localhost:8080/"
    },
    "id": "EMMM1yTX2y5K",
    "outputId": "50c6b19a-f3e3-48aa-9daf-1bdb3c702974"
   },
   "outputs": [
    {
     "name": "stdout",
     "output_type": "stream",
     "text": [
      "RT @Camiloparada: En el 2010 Pi?era nombr como intendente de Coquimbo a Rafael Prohens, actual senador, quien ademÿs es presidente de Prod?\n"
     ]
    }
   ],
   "source": [
    "print(df['Mensaje'][0])"
   ]
  },
  {
   "cell_type": "code",
   "execution_count": 22,
   "metadata": {
    "colab": {
     "base_uri": "https://localhost:8080/"
    },
    "id": "cYxeKD9M3IQa",
    "outputId": "e7cfcc6f-2516-4743-c7a1-410f1f5d8e06"
   },
   "outputs": [
    {
     "name": "stdout",
     "output_type": "stream",
     "text": [
      "rt @camiloparada: en el 2010 pi?er nombr com intendent de coquimb a rafael prohens, actual senador, qui ademÿs es president de prod?\n"
     ]
    }
   ],
   "source": [
    "print(df['Mensaje_porter_stemmed'][0])"
   ]
  },
  {
   "cell_type": "markdown",
   "metadata": {
    "id": "5qcZAgjjmV5A"
   },
   "source": [
    "## Converting TO LowerCase"
   ]
  },
  {
   "cell_type": "code",
   "execution_count": 23,
   "metadata": {
    "colab": {
     "base_uri": "https://localhost:8080/"
    },
    "id": "L3Ufljae3J65",
    "outputId": "6a83e410-0e07-4bf6-adea-10bdbcdd3b66"
   },
   "outputs": [
    {
     "name": "stderr",
     "output_type": "stream",
     "text": [
      "/home/ec2-user/anaconda3/envs/tensorflow_p36/lib/python3.6/site-packages/ipykernel/__main__.py:1: SettingWithCopyWarning: \n",
      "A value is trying to be set on a copy of a slice from a DataFrame.\n",
      "Try using .loc[row_indexer,col_indexer] = value instead\n",
      "\n",
      "See the caveats in the documentation: https://pandas.pydata.org/pandas-docs/stable/user_guide/indexing.html#returning-a-view-versus-a-copy\n",
      "  if __name__ == '__main__':\n"
     ]
    }
   ],
   "source": [
    "df['Mensaje_porter_stemmed'] = df['Mensaje_porter_stemmed'].apply(lambda x: ' '.join(x.lower() for x in x.split()))"
   ]
  },
  {
   "cell_type": "code",
   "execution_count": 24,
   "metadata": {
    "colab": {
     "base_uri": "https://localhost:8080/"
    },
    "id": "eDKj1NTomf28",
    "outputId": "7d24269c-d853-4b46-c6d6-75e7456a5f9c"
   },
   "outputs": [
    {
     "name": "stdout",
     "output_type": "stream",
     "text": [
      "rt @camiloparada: en el 2010 pi?er nombr com intendent de coquimb a rafael prohens, actual senador, qui ademÿs es president de prod?\n"
     ]
    }
   ],
   "source": [
    "print(df['Mensaje_porter_stemmed'][0])"
   ]
  },
  {
   "cell_type": "markdown",
   "metadata": {
    "id": "hdIU-KTemrkX"
   },
   "source": [
    "## Removing Punctuation"
   ]
  },
  {
   "cell_type": "code",
   "execution_count": 25,
   "metadata": {
    "colab": {
     "base_uri": "https://localhost:8080/"
    },
    "id": "md33tWatmlX0",
    "outputId": "843dc767-eb9a-4cb8-e400-4a464f32a0c7"
   },
   "outputs": [
    {
     "name": "stderr",
     "output_type": "stream",
     "text": [
      "/home/ec2-user/anaconda3/envs/tensorflow_p36/lib/python3.6/site-packages/ipykernel/__main__.py:1: SettingWithCopyWarning: \n",
      "A value is trying to be set on a copy of a slice from a DataFrame.\n",
      "Try using .loc[row_indexer,col_indexer] = value instead\n",
      "\n",
      "See the caveats in the documentation: https://pandas.pydata.org/pandas-docs/stable/user_guide/indexing.html#returning-a-view-versus-a-copy\n",
      "  if __name__ == '__main__':\n"
     ]
    }
   ],
   "source": [
    "df['Mensaje_porter_stemmed'] = df['Mensaje_porter_stemmed'].str.replace('[^\\w\\s]','')"
   ]
  },
  {
   "cell_type": "code",
   "execution_count": 26,
   "metadata": {
    "colab": {
     "base_uri": "https://localhost:8080/",
     "height": 35
    },
    "id": "lqQzsmm_nL10",
    "outputId": "7eeeefc5-18f2-4805-8a1c-6480134ecffb"
   },
   "outputs": [
    {
     "data": {
      "text/plain": [
       "'rt camiloparada en el 2010 pier nombr com intendent de coquimb a rafael prohens actual senador qui ademÿs es president de prod'"
      ]
     },
     "execution_count": 26,
     "metadata": {},
     "output_type": "execute_result"
    }
   ],
   "source": [
    "df['Mensaje_porter_stemmed'][0]"
   ]
  },
  {
   "cell_type": "markdown",
   "metadata": {
    "id": "A2y1hJx5oDyn"
   },
   "source": [
    "## Low frequency term filtering (count < 3)"
   ]
  },
  {
   "cell_type": "code",
   "execution_count": 27,
   "metadata": {
    "id": "611dmgOnnRIm"
   },
   "outputs": [],
   "source": [
    "freq = pd.Series(' '.join(df['Mensaje_porter_stemmed']).split()).value_counts()"
   ]
  },
  {
   "cell_type": "code",
   "execution_count": 28,
   "metadata": {
    "colab": {
     "base_uri": "https://localhost:8080/"
    },
    "id": "_9uHpVM8oLOF",
    "outputId": "89ee240a-8113-4417-cc27-011831758b37"
   },
   "outputs": [
    {
     "data": {
      "text/plain": [
       "de    12844\n",
       "la     5799\n",
       "en     4812\n",
       "y      3965\n",
       "rt     3925\n",
       "dtype: int64"
      ]
     },
     "execution_count": 28,
     "metadata": {},
     "output_type": "execute_result"
    }
   ],
   "source": [
    "freq.head()"
   ]
  },
  {
   "cell_type": "code",
   "execution_count": 29,
   "metadata": {
    "colab": {
     "base_uri": "https://localhost:8080/"
    },
    "id": "5PAeZN7IoN2W",
    "outputId": "be5f1f34-c786-425f-859a-afa959e14f0c"
   },
   "outputs": [
    {
     "data": {
      "text/plain": [
       "jornada               3\n",
       "team                  3\n",
       "suen                  3\n",
       "httpstconinkc71cvx    3\n",
       "5ta                   3\n",
       "                     ..\n",
       "httpstcokzxx11pm88    1\n",
       "elena                 1\n",
       "1031                  1\n",
       "httpstcoryptsjml8c    1\n",
       "frontis               1\n",
       "Length: 9177, dtype: int64"
      ]
     },
     "execution_count": 29,
     "metadata": {},
     "output_type": "execute_result"
    }
   ],
   "source": [
    "freq2 = freq[freq <= 3]\n",
    "freq2"
   ]
  },
  {
   "cell_type": "code",
   "execution_count": 30,
   "metadata": {
    "colab": {
     "base_uri": "https://localhost:8080/"
    },
    "id": "DANvgrAFoUek",
    "outputId": "a233d6dd-3658-498e-d696-e1e5450c1e73"
   },
   "outputs": [
    {
     "data": {
      "text/plain": [
       "['jornada',\n",
       " 'team',\n",
       " 'suen',\n",
       " 'httpstconinkc71cvx',\n",
       " '5ta',\n",
       " 'continuarÿ',\n",
       " 'deempres',\n",
       " 'alcaldes',\n",
       " 'madrug',\n",
       " 'sorprend',\n",
       " 'publican',\n",
       " '95',\n",
       " 'pet',\n",
       " 'omjminer',\n",
       " 'gob_interior',\n",
       " 'xito',\n",
       " 'most',\n",
       " 'poblete',\n",
       " 'httpstcozurclmc2hx',\n",
       " 'delgadoqueved',\n",
       " 'abrirÿn',\n",
       " 'cge',\n",
       " 'dedicacin',\n",
       " 'portafolioc',\n",
       " 'maul',\n",
       " '959',\n",
       " 'ciel',\n",
       " 'conaf_minagri',\n",
       " '1530',\n",
       " 'pamel',\n",
       " 'campo',\n",
       " 'miercol',\n",
       " 'entiend',\n",
       " '0700',\n",
       " 'privados',\n",
       " 'fantasa',\n",
       " 'dems',\n",
       " 'httpstcowvpmfe4qtr',\n",
       " 'segura',\n",
       " 'httpstcoj4ykng5zkg',\n",
       " 'aloj',\n",
       " 'sierra',\n",
       " 'mineralpropert1',\n",
       " 'atrev',\n",
       " 'nuestropuntodeencuentr',\n",
       " 'sirv',\n",
       " 'ocasion',\n",
       " 'pizarr',\n",
       " 'venta',\n",
       " 'httpstcoyrgevvgxny',\n",
       " 'lacomun',\n",
       " 'especializ',\n",
       " 'color',\n",
       " 'httpstcovuypechxg4',\n",
       " 'comis',\n",
       " 'henry',\n",
       " 'bilz',\n",
       " 'conviccin',\n",
       " 'rincn',\n",
       " 'recint',\n",
       " 'protej',\n",
       " 'plc',\n",
       " 'conceptual',\n",
       " 'simul',\n",
       " 'conduct',\n",
       " 'turnos',\n",
       " 'katj',\n",
       " 'festival',\n",
       " 'mayoritari',\n",
       " 'anoth',\n",
       " 'inminent',\n",
       " '1er',\n",
       " 'ejerc',\n",
       " 'anglo',\n",
       " 'mental',\n",
       " 'vistan',\n",
       " 'agradeci',\n",
       " 'who',\n",
       " 'escud',\n",
       " 'postdoctoral',\n",
       " 'grupowurtlitzer',\n",
       " 'carasygest',\n",
       " 'domeyko',\n",
       " 'juan_santanac',\n",
       " 'lej',\n",
       " 'climÿtico',\n",
       " 'ucatol',\n",
       " '1222',\n",
       " 'dudas',\n",
       " 'jbching',\n",
       " 'salas',\n",
       " 'discut',\n",
       " 'salamanc',\n",
       " 'felip',\n",
       " 'sintonic',\n",
       " 'alberg',\n",
       " 'prisin',\n",
       " 'vida',\n",
       " 'pinochet',\n",
       " 'httpstcovdvrdv4nz4',\n",
       " 'trist',\n",
       " 'comits',\n",
       " 'pr',\n",
       " 'podrÿn',\n",
       " 'pamma',\n",
       " '1051',\n",
       " 'httpstco0nk7spgus',\n",
       " 'demostr',\n",
       " 'bautiz',\n",
       " 'xolikh',\n",
       " 'accidente',\n",
       " 'sueos',\n",
       " 'r3',\n",
       " 'sensibl',\n",
       " 'guanaqueros',\n",
       " 'absolut',\n",
       " 'meganoticiasactualiz',\n",
       " 'see',\n",
       " 'academi',\n",
       " 'mtel5985',\n",
       " 'requisit',\n",
       " 'inquietud',\n",
       " 'privado',\n",
       " 'cicl',\n",
       " 'welcom',\n",
       " 'quint',\n",
       " 'httpstcot9nlizf0fc',\n",
       " 'regalon',\n",
       " 'allÿ',\n",
       " 'revel',\n",
       " 'httpstcolqkjsyuzqx',\n",
       " 'complement',\n",
       " 'diminusachcl',\n",
       " 'fis',\n",
       " 'crnic',\n",
       " 'competitividadinnovacin',\n",
       " 'almost',\n",
       " 'httpstcofc0wsblhs',\n",
       " 'janet90476632',\n",
       " 'multiplataform',\n",
       " 'httpstcol8grwshnlc',\n",
       " 'httpstcosecfdm3j',\n",
       " 'chilezon',\n",
       " 'liv',\n",
       " 'bnechile',\n",
       " 'fida',\n",
       " 'entren',\n",
       " 'cht_copiap',\n",
       " 'industria',\n",
       " 'azcar',\n",
       " 'abus',\n",
       " '112',\n",
       " 'gre',\n",
       " 'kastpresidente2022',\n",
       " 'icminasutalca',\n",
       " 'goldsfields',\n",
       " 'plac',\n",
       " 'chin',\n",
       " 'sqm',\n",
       " 'httpstcoupbkapdgcd',\n",
       " 'httpstcoxcqvai40u8',\n",
       " 'posible',\n",
       " 'minerominer',\n",
       " 'alex',\n",
       " '400',\n",
       " 'facebook',\n",
       " 'atmosfr',\n",
       " 'habi',\n",
       " 'hog',\n",
       " 'globalsat',\n",
       " 'digitalizacinsostenibilidadsi',\n",
       " 'twittercomchilemineri',\n",
       " 'mercurioaft',\n",
       " 'mineriatarapaca',\n",
       " 'meteorolog',\n",
       " 'crisisimpuls',\n",
       " 'alvaroleblanct',\n",
       " 'lad',\n",
       " '20en',\n",
       " 'fortalez',\n",
       " 'justici',\n",
       " 'explor',\n",
       " 'montt',\n",
       " 'iba',\n",
       " 'suizo',\n",
       " 'hdric',\n",
       " 'miserables',\n",
       " 'desol',\n",
       " 'verg',\n",
       " 'doctor',\n",
       " 'sierr',\n",
       " 'thecliniccl',\n",
       " 'popular',\n",
       " 'httpstcokz0ynwra1d',\n",
       " 'anza',\n",
       " 'mit',\n",
       " 'participalugar',\n",
       " 'tiempo',\n",
       " '1110',\n",
       " 'fui',\n",
       " 'perjudic',\n",
       " 'httpstcop6cbhocrmg',\n",
       " 'introduc',\n",
       " 'pez',\n",
       " 'fundador',\n",
       " 'transit',\n",
       " 'eur',\n",
       " 'corrupt',\n",
       " 'hrsfreestylejuventud',\n",
       " 'exÿmen',\n",
       " 'juguet',\n",
       " 'greenwashing',\n",
       " 'fesuc',\n",
       " 'proceso',\n",
       " 'lama',\n",
       " 'bÿrbaracontrer',\n",
       " '02',\n",
       " 'cummins',\n",
       " 'grant',\n",
       " 'pblico',\n",
       " 'provisori',\n",
       " 'desp',\n",
       " 'captur',\n",
       " 'entrevistatl',\n",
       " '1137',\n",
       " 'cruc',\n",
       " 'hornitos',\n",
       " 'entorn',\n",
       " 'coraznminerodemx',\n",
       " 'investigarÿn',\n",
       " 'mtod',\n",
       " 'niez',\n",
       " 'financier',\n",
       " 'tambiental',\n",
       " 'ocult',\n",
       " 'condicin',\n",
       " '1025',\n",
       " 'httpstcofligsnozhy',\n",
       " 'pis',\n",
       " 'martnez',\n",
       " 'piamoscoso',\n",
       " 'fantas',\n",
       " 'icl',\n",
       " 'fmi',\n",
       " 'remot',\n",
       " 'metros',\n",
       " 'pesquero',\n",
       " 'sient',\n",
       " '1946',\n",
       " 'detencin',\n",
       " 'cÿtod',\n",
       " 'httpstco7bs1zfgtp',\n",
       " 'empleabil',\n",
       " 'ccm',\n",
       " 'httpstcopaaaqvch',\n",
       " 'httpstcoly5',\n",
       " 'bail',\n",
       " 'aquatech',\n",
       " 'corts',\n",
       " 'httpstco7br3o95ze4',\n",
       " 'poblacion',\n",
       " 'fro',\n",
       " 'meti',\n",
       " 'delimitacin',\n",
       " 'bailes',\n",
       " 'subterrne',\n",
       " 'wm_technologie',\n",
       " 'capac',\n",
       " 'atencion',\n",
       " 'sonor',\n",
       " 'bast',\n",
       " 'meteorologa',\n",
       " 'navide',\n",
       " 'estall',\n",
       " 'ala',\n",
       " 'vervide',\n",
       " 'siil',\n",
       " 'apodos',\n",
       " 'httpstcoed8d0blcrm',\n",
       " 'compar',\n",
       " 'darl',\n",
       " 'volunt',\n",
       " 'iles',\n",
       " 'trabajolug',\n",
       " 'papel',\n",
       " 'estado',\n",
       " 'mujerempresariaturst',\n",
       " 'cuÿl',\n",
       " 'puerto',\n",
       " 'yoj',\n",
       " 'antai',\n",
       " 'podrs',\n",
       " 'hitnicol',\n",
       " 'atrs',\n",
       " 'pucobr',\n",
       " '1800',\n",
       " 'minerajorn',\n",
       " 'lavandero',\n",
       " 'elagua',\n",
       " 'castill',\n",
       " 'alguna',\n",
       " 'coreatacam',\n",
       " 'ciahnatacam',\n",
       " 'energacobrecentrocesco',\n",
       " 'cristin',\n",
       " 'cronossb',\n",
       " 'httpstcompcjfkmdlf',\n",
       " 'omjcalder',\n",
       " 'httpstcon0srx6fwib',\n",
       " 'pg',\n",
       " 'sanitizacin',\n",
       " 'retras',\n",
       " 'restauracion',\n",
       " 'aceit',\n",
       " 'apruebodignidadmakaariasdiput',\n",
       " 'conversacin',\n",
       " 'bacteri',\n",
       " 'a4',\n",
       " 'iebchil',\n",
       " 'juec',\n",
       " '100105',\n",
       " 'oticsofofa',\n",
       " 'ocho',\n",
       " 'culp',\n",
       " 'httpstcoeduo0rqd21',\n",
       " 'haverboeck',\n",
       " 'ago',\n",
       " 'realidad',\n",
       " 'armandofloresj2',\n",
       " 'httpstcosh1kxen5q0',\n",
       " 'zern',\n",
       " 'comunas',\n",
       " 'was',\n",
       " 'aniversario',\n",
       " 'adicional',\n",
       " 'futuro',\n",
       " 'operarÿ',\n",
       " 'logstic',\n",
       " 'redeg',\n",
       " 'cÿmar',\n",
       " '31072021',\n",
       " 'masaj',\n",
       " 'asistir',\n",
       " 'silv',\n",
       " 'sany',\n",
       " 'finlandi',\n",
       " 'elqhaydecierto',\n",
       " 'audit',\n",
       " 'httpstconcjl65lz79',\n",
       " 'manifiest',\n",
       " 'danielcalam',\n",
       " 'pasado',\n",
       " 'caden',\n",
       " 'httpstcofy57d6qslf',\n",
       " 'webin',\n",
       " 'mesdelosadultosmayor',\n",
       " 'contagios',\n",
       " 'coster',\n",
       " 'ahumada',\n",
       " 'nomasaccident',\n",
       " '1985',\n",
       " 'eg',\n",
       " 'respecto',\n",
       " 'refier',\n",
       " 'natali',\n",
       " 'almonte',\n",
       " 'meteorologael',\n",
       " 'httpstcoyj5uielb1l',\n",
       " 'quis',\n",
       " 'dependent',\n",
       " 'litrosegund',\n",
       " 'latinoamr',\n",
       " 'httpstcoo7y',\n",
       " 'fsica',\n",
       " 'petrle',\n",
       " 'especie',\n",
       " 'mujerresilient',\n",
       " 'senior',\n",
       " 'extraordinari',\n",
       " 'salin',\n",
       " 'influenz',\n",
       " 'httpstcobcditsh01t',\n",
       " 'minerawwwchilemineriacl',\n",
       " 'tendr',\n",
       " 'sostien',\n",
       " 'mileniosec',\n",
       " 'hayan',\n",
       " '015235',\n",
       " 'ftcobr',\n",
       " 'autocuid',\n",
       " 'kseremi',\n",
       " 'cez',\n",
       " 'gustavo1cabrera',\n",
       " 'chilena',\n",
       " 'oticsofof',\n",
       " 'gemit',\n",
       " 'mecÿnic',\n",
       " 'carenci',\n",
       " 'pgin',\n",
       " 'escorial',\n",
       " 'tre',\n",
       " 'lpic',\n",
       " 'aguirr',\n",
       " 'gustav',\n",
       " 'claudiacantare2',\n",
       " 'boxeochilen',\n",
       " 'mor',\n",
       " 'lom',\n",
       " 'motivat',\n",
       " 'chinga',\n",
       " 'domiciliarios',\n",
       " 'desal',\n",
       " 'patrocini',\n",
       " 'httpstco70hudtqs8r',\n",
       " 'casa',\n",
       " 'bosselin',\n",
       " 'obligacin',\n",
       " 'provi',\n",
       " 'meteorologakatj',\n",
       " 'enseanz',\n",
       " 'minera2050',\n",
       " 'conquist',\n",
       " 'presentarÿ',\n",
       " 'sutminag',\n",
       " '073102',\n",
       " 'cumplea',\n",
       " 'calidad',\n",
       " 'sandr',\n",
       " 'bf6',\n",
       " 'reddeemergencia',\n",
       " 'tocopilla',\n",
       " '5x2',\n",
       " 'subcomisari',\n",
       " 'httpstcokyd7rzkb74',\n",
       " 'frecuent',\n",
       " 'detien',\n",
       " 'biobo',\n",
       " 'mdic',\n",
       " 'bernal',\n",
       " 'rand',\n",
       " 'contig',\n",
       " 'mma',\n",
       " 'consolid',\n",
       " 'httpstcopzan6j9rhb',\n",
       " 'nfas',\n",
       " 'regincab',\n",
       " 'aia',\n",
       " 'httpstcofmhjficqy6',\n",
       " 'menos',\n",
       " 'pequeaminer',\n",
       " 'nortino',\n",
       " 'octubrednde',\n",
       " 'briones',\n",
       " 'lin',\n",
       " 'stop',\n",
       " 'mayores',\n",
       " 'wwwinstagramcomchilemineriachileminera',\n",
       " 'gentil',\n",
       " 'cuenta',\n",
       " 'orador',\n",
       " 'chileminera',\n",
       " 'ccmcandelari',\n",
       " 'asunt',\n",
       " 'wwwfacebookcomchilemineriacl',\n",
       " 'bridec',\n",
       " 'desconexin',\n",
       " 'raz',\n",
       " 'coordinacin',\n",
       " 'produccion',\n",
       " 'moned',\n",
       " 'personasmayor',\n",
       " 'tarapacÿd',\n",
       " '1194',\n",
       " 'blu',\n",
       " 'agendar',\n",
       " 'poz',\n",
       " 'limit',\n",
       " 'alrededor',\n",
       " 'cogoti',\n",
       " 'asamble',\n",
       " 'mdaza_abog',\n",
       " 'pelambr',\n",
       " 'covid',\n",
       " 'culturatierraamarill',\n",
       " 'peopl',\n",
       " 'empleador',\n",
       " 'ric',\n",
       " 'nazareno',\n",
       " 'httpstcoe70x2jifuf',\n",
       " 'cabl',\n",
       " 'nuevamineri',\n",
       " 'ceci_simunovic',\n",
       " 'block',\n",
       " 'wwwsernaturclmujerempresariaturist',\n",
       " 'cosa',\n",
       " 'chanarcillo',\n",
       " 'gr',\n",
       " 'norm',\n",
       " 'turismo',\n",
       " 'httpstcorpaghzdt66',\n",
       " 'perfor',\n",
       " 'rn',\n",
       " 'httpstco875mw7awwv',\n",
       " '3000',\n",
       " 'deavanc',\n",
       " 'une',\n",
       " 'jadue2022',\n",
       " 'httpstco5relfhoot',\n",
       " 'previ',\n",
       " 'meconomi',\n",
       " 'horribl',\n",
       " 'urgente',\n",
       " 'psantib',\n",
       " 'cama',\n",
       " 'httpstco4skwzovad5',\n",
       " 'httpstcopcd2xgafyv',\n",
       " 'dffull',\n",
       " 'lahiguer',\n",
       " 'crtico',\n",
       " '1400',\n",
       " 'estadi',\n",
       " 'coloc',\n",
       " 'cerda',\n",
       " 'nuevos',\n",
       " 'internaci',\n",
       " 'justo',\n",
       " 'tractocami',\n",
       " 'gratis',\n",
       " 'scienc',\n",
       " 'nada',\n",
       " 'felipiiin',\n",
       " 'prioridad',\n",
       " 'invitacin',\n",
       " 'saqu',\n",
       " 'went',\n",
       " 'asimismo',\n",
       " 'acud',\n",
       " 'carbn',\n",
       " 'rentabil',\n",
       " 'postular',\n",
       " 'implementacin',\n",
       " 'conflictos',\n",
       " 'pe',\n",
       " 'g2',\n",
       " 'implic',\n",
       " 'httpstcoftmvobwbpz',\n",
       " '900',\n",
       " 'salmuer',\n",
       " 'precaucin',\n",
       " 'compaeras',\n",
       " 'seriebanderin',\n",
       " 'libertad',\n",
       " '20211226',\n",
       " 'aguilera',\n",
       " 'extract',\n",
       " '150515',\n",
       " 'marga_bejarano',\n",
       " 'conservacin',\n",
       " 'disting',\n",
       " 'entregados',\n",
       " 'semanal',\n",
       " 'pur',\n",
       " 'vestenius',\n",
       " 'dsi',\n",
       " '50',\n",
       " 'iiiii',\n",
       " 'gracias',\n",
       " 'araya',\n",
       " 'document',\n",
       " '110',\n",
       " 'cudat',\n",
       " 'jurament',\n",
       " 'cens',\n",
       " 'glencor',\n",
       " 'yasn',\n",
       " 'colombian',\n",
       " 'pluma',\n",
       " 'estarÿ',\n",
       " 'opsal_',\n",
       " 'gigantes',\n",
       " 'desconoc',\n",
       " 'mÿxim',\n",
       " 'prob',\n",
       " 'encant',\n",
       " 'freightlin',\n",
       " 'manu_nanjari',\n",
       " 'adquisicin',\n",
       " 'olivar',\n",
       " 'europe',\n",
       " 'proactivoperu',\n",
       " 'nuevamineria',\n",
       " 'pordenonebudoia',\n",
       " 'molibden',\n",
       " 'privada',\n",
       " '20211103',\n",
       " 'reactiv',\n",
       " 'parte',\n",
       " 'representat',\n",
       " 'royomanuel',\n",
       " 'empresarial',\n",
       " 'curic',\n",
       " 'postergados',\n",
       " 'veng',\n",
       " '150917',\n",
       " 'plstic',\n",
       " 'xid',\n",
       " 'operaciones',\n",
       " 'guasc',\n",
       " 'honor',\n",
       " 'puntos',\n",
       " 'parlamentari',\n",
       " 'maray',\n",
       " 'medioambiental',\n",
       " 'cuarentena',\n",
       " '2021les',\n",
       " 'alfons',\n",
       " 'mansin',\n",
       " 'alej',\n",
       " 'uatacama',\n",
       " 'cuadruplicaron',\n",
       " 'emsambl',\n",
       " 'donald',\n",
       " 'po',\n",
       " 'httpstcobdeeeaxix',\n",
       " 'investigadors',\n",
       " 'activa',\n",
       " 'fug',\n",
       " 'chanchit',\n",
       " 'abriljuni',\n",
       " 'alejandr',\n",
       " 'meteorlog',\n",
       " 'calet',\n",
       " 'antonio',\n",
       " 'aca',\n",
       " 'mineraral',\n",
       " 'exige',\n",
       " 'httpstcotmcwvjjcw4',\n",
       " 'gast',\n",
       " 'centrocesco',\n",
       " 'tierramarillano',\n",
       " 'perpetu',\n",
       " 'homenaj',\n",
       " 'nicolÿs',\n",
       " 'should',\n",
       " 'amigos',\n",
       " 'corredor',\n",
       " 'rio',\n",
       " 'a5',\n",
       " 'potencial',\n",
       " 'contctan',\n",
       " 'henrquez',\n",
       " 'inacap',\n",
       " 'regiones',\n",
       " 'recomendacin',\n",
       " 'recorridocl',\n",
       " 'sacrific',\n",
       " 'quizÿ',\n",
       " 'tarif',\n",
       " 'minerales',\n",
       " 'freeportmcmor',\n",
       " 'chileral',\n",
       " 'valentin',\n",
       " 'admis',\n",
       " 'lig',\n",
       " 'larazon_cl',\n",
       " 'existent',\n",
       " 'aluvin',\n",
       " 'mascot',\n",
       " '100000',\n",
       " 'inclusivo',\n",
       " 'epp',\n",
       " 'angloaustralian',\n",
       " 'terapi',\n",
       " 'yourswisspartn',\n",
       " 'deportista',\n",
       " 'cubr',\n",
       " 'bx4',\n",
       " 'usach',\n",
       " 'senc',\n",
       " 'minut',\n",
       " 'brav',\n",
       " 'avisoinvitacin',\n",
       " 'dehuasc',\n",
       " 'httpstcoq2rrha7cep',\n",
       " '138',\n",
       " 'reutiliz',\n",
       " 'crmeco',\n",
       " 'disminucin',\n",
       " 'patronal',\n",
       " 'entid',\n",
       " 'edli',\n",
       " 'httpstcogq9idrbcmn',\n",
       " 'diputadacidv',\n",
       " 'httpstcoxenmphuxkd',\n",
       " 'rocacomecuernos',\n",
       " 'sumari',\n",
       " 'basura',\n",
       " 'blog',\n",
       " 'correa',\n",
       " 'len',\n",
       " 'variabl',\n",
       " 'previst',\n",
       " 'retorn',\n",
       " 'votos',\n",
       " 'crasel',\n",
       " 'mineriaenpeligr',\n",
       " 'coronavirusl',\n",
       " 'httpstcovc55jujyc5',\n",
       " 'ojalÿ',\n",
       " 'alarm',\n",
       " 'fore',\n",
       " 'cifras',\n",
       " 'progres',\n",
       " 'mantequill',\n",
       " 'movilizado',\n",
       " 'httpstcoo6dabymmwu',\n",
       " 'magaly',\n",
       " 'htt',\n",
       " 'actu',\n",
       " 'rebaj',\n",
       " 'bprokur',\n",
       " 'proc',\n",
       " 'desocupacin',\n",
       " 'diariosantiago1',\n",
       " 'solidari',\n",
       " 'nov2021',\n",
       " 'httpstcoo7yx533okx',\n",
       " 'clusterdesonora',\n",
       " 'mandat',\n",
       " 'comunasig',\n",
       " 'aysn',\n",
       " 'resolv',\n",
       " 'machal',\n",
       " 'sortearn',\n",
       " 'enmarc',\n",
       " 'chupalalengu',\n",
       " 'espectÿculosambul',\n",
       " 'john',\n",
       " 'trabajar',\n",
       " 'innov',\n",
       " 'patrocin',\n",
       " 'aire',\n",
       " 'economiasubs',\n",
       " 'continuacin',\n",
       " '070019',\n",
       " '130',\n",
       " 'taller',\n",
       " 'estrategiacl',\n",
       " 'admit',\n",
       " '0049',\n",
       " 'bautist',\n",
       " 'httpstcoznawivorhf',\n",
       " 'chevron',\n",
       " 'abandon',\n",
       " 'manteng',\n",
       " 'quintero',\n",
       " 'mejoramiento',\n",
       " 'httpstcoiifanbulhz',\n",
       " 'freestyle',\n",
       " 'zorr',\n",
       " 'priorid',\n",
       " 'queil',\n",
       " 'olvides',\n",
       " 'cabr',\n",
       " 'world',\n",
       " 'gratuita',\n",
       " 'diner',\n",
       " 'requisitos',\n",
       " 'extranjer',\n",
       " 'sinvergenz',\n",
       " 'sustentable',\n",
       " 'minagriatacam',\n",
       " 'httpstco8yphwmhdw',\n",
       " 'conferent',\n",
       " 'httpstcorfislf7zkx',\n",
       " 'jardin',\n",
       " 'logra',\n",
       " 'opcion',\n",
       " 'kast',\n",
       " 'rezag',\n",
       " 'sinmiedoadecirlaverd',\n",
       " 'ruidos',\n",
       " 'baln',\n",
       " 'epicentr',\n",
       " 'httpstconvcyolexud',\n",
       " 'biografa',\n",
       " 'cup',\n",
       " 'depto',\n",
       " 'vejezdign',\n",
       " 'chaquet',\n",
       " 'peru',\n",
       " 'materializ',\n",
       " 'habitantes',\n",
       " 'molin',\n",
       " 'virtud',\n",
       " 'desktop',\n",
       " 'osorno',\n",
       " 'iva',\n",
       " 'tributaria',\n",
       " 'httpstco7br3o9',\n",
       " 'margarit',\n",
       " 'probabl',\n",
       " 'magi',\n",
       " 'lik',\n",
       " 'rentable',\n",
       " 'top',\n",
       " 'nortedechil',\n",
       " 'paro',\n",
       " 'colocol',\n",
       " 'dan',\n",
       " '92',\n",
       " 'marcelahern',\n",
       " 'httpstcoebjbtuxhi3',\n",
       " 'httpstcogzvfvqy6h5',\n",
       " 'httpstcohjtdwcto2j',\n",
       " 'httpstcolh38w6iro9',\n",
       " 'electromovilidad',\n",
       " 'ncash',\n",
       " 'h92262115',\n",
       " 'superior',\n",
       " 'httpstcoxmj7n3fp2r',\n",
       " 'anual',\n",
       " 'aljib',\n",
       " 'analisisurbano',\n",
       " 'a651',\n",
       " 'asistencial',\n",
       " 'evidenci',\n",
       " '074503',\n",
       " '1111',\n",
       " 'plusg',\n",
       " 'tomarÿ',\n",
       " 'except',\n",
       " 'entreten',\n",
       " 'izquierda',\n",
       " 'funeral',\n",
       " 'mtierramarill',\n",
       " 'ciudadanosinmiedoadecirlaverdadconsejerosregionalesvotaau207copiapocalderapaipotetierraamarill',\n",
       " 'industrializ',\n",
       " 'reciclaje',\n",
       " 'slepatacam',\n",
       " 'us15000',\n",
       " 'cc5206',\n",
       " 'ahi',\n",
       " 'chiguayante',\n",
       " 'regionalatacam',\n",
       " 'oferta',\n",
       " '107',\n",
       " 'espacios',\n",
       " 'seguridadminer',\n",
       " 'gif',\n",
       " 'esmax',\n",
       " 'cri',\n",
       " 'httpstcowubltsdstu',\n",
       " '20932',\n",
       " 'pretension',\n",
       " 'httpstcovqw8mpshbs',\n",
       " 'buenaventur',\n",
       " '5x2lug',\n",
       " 'anÿlisis',\n",
       " 'regl',\n",
       " 'computacin',\n",
       " '3er',\n",
       " 'gnero',\n",
       " 'propietari',\n",
       " 'mo',\n",
       " 'yupoong',\n",
       " '916',\n",
       " 'mialgi',\n",
       " 'pfiz',\n",
       " 'campaas',\n",
       " 'riesgos',\n",
       " 'desarrollo',\n",
       " 'httpstcondqpfvi6uv',\n",
       " 'uva',\n",
       " '21105',\n",
       " 'xv',\n",
       " 'anot',\n",
       " 'todo',\n",
       " 'mierda',\n",
       " 'httpstcoeykmbxokv',\n",
       " 'mineralg',\n",
       " 'profesionales',\n",
       " 'puchuncav',\n",
       " 'hern',\n",
       " 'godoy',\n",
       " 'indisolubl',\n",
       " 'httpstcogohg1btzem',\n",
       " 'httpstcoicpgnbm3gd',\n",
       " 'regionalpandemiaservici',\n",
       " 'salugar',\n",
       " 'agiliz',\n",
       " 'chest',\n",
       " 'nivelacin',\n",
       " 'dem',\n",
       " 'httpstcoccogjkejdc',\n",
       " '89',\n",
       " 'prestigi',\n",
       " 'copilot',\n",
       " 'tranquilidad',\n",
       " 'httpstcoogmb1vkpyi',\n",
       " 'mineracenizas',\n",
       " 'fabreslugar',\n",
       " 'suced',\n",
       " 'httpstcojhvy9k5ps0',\n",
       " 'detrabaj',\n",
       " 'fiebre',\n",
       " 'reflej',\n",
       " 'cronogram',\n",
       " 'delhuasc',\n",
       " 'definitivo',\n",
       " '68972',\n",
       " 'suplement',\n",
       " 'antofagastaturn',\n",
       " 'escucharÿ',\n",
       " 'ccu_',\n",
       " 'nellygaleb',\n",
       " 'derechoalaviviend',\n",
       " 'prfug',\n",
       " 'avda',\n",
       " 'coimer',\n",
       " 'httpstcohmey7lw9xv',\n",
       " 'documentacin',\n",
       " 'mr',\n",
       " 'trabajadoras',\n",
       " 'sinverguenz',\n",
       " 'httpstco9ix4qtnas6',\n",
       " 'httpstcojsbi622ak',\n",
       " 'one',\n",
       " 'metalurg',\n",
       " 'httpstcofmtrtyjtdl',\n",
       " 'pesquisados',\n",
       " 'resistent',\n",
       " 'plsticas',\n",
       " 'paipotequ',\n",
       " 'siempre',\n",
       " 'barnafi',\n",
       " 'arrest',\n",
       " 'decir',\n",
       " 'usocioambiental',\n",
       " 'agentepropiedad',\n",
       " 'prend',\n",
       " '852',\n",
       " 'escchal',\n",
       " 'carito69696969',\n",
       " 'blondi',\n",
       " 'pati',\n",
       " 'monument',\n",
       " 'lidyard',\n",
       " 'complac',\n",
       " 'empe',\n",
       " 'prolongacin',\n",
       " 'olivares',\n",
       " 'grants',\n",
       " 'emergencia',\n",
       " 'acord',\n",
       " 'ventur',\n",
       " 'qb2',\n",
       " 'registrodel',\n",
       " 'potr',\n",
       " 'mineraagend',\n",
       " 'interpretacin',\n",
       " 'cierto',\n",
       " 'adi',\n",
       " 'agred',\n",
       " 'jav',\n",
       " 'httpstcosrr4cow769',\n",
       " 'sext',\n",
       " 'empodrat',\n",
       " 'arras',\n",
       " 'accesori',\n",
       " 'solares',\n",
       " 'mineroscm',\n",
       " 'proposal',\n",
       " 'alfaro',\n",
       " 'recuerda',\n",
       " 'mascarillas',\n",
       " 'ar95makaren',\n",
       " 'horcn',\n",
       " 'sobrellev',\n",
       " 'sut',\n",
       " 'resultado',\n",
       " 'estableci',\n",
       " 'httpstcoqycs9cj3gf',\n",
       " 'portal_miner',\n",
       " 'provincia',\n",
       " 'corbet',\n",
       " 'sigu',\n",
       " 'atacamachaaral',\n",
       " 'cans',\n",
       " 'httpstcomns5u0bfr',\n",
       " 'hbit',\n",
       " 'apoyoalfomentopequeaminer',\n",
       " 'cielo',\n",
       " 'stas',\n",
       " 'partes',\n",
       " 'servel',\n",
       " 'great',\n",
       " 'morning',\n",
       " 'sequa',\n",
       " 'atrÿs',\n",
       " ...]"
      ]
     },
     "execution_count": 30,
     "metadata": {},
     "output_type": "execute_result"
    }
   ],
   "source": [
    "freq3 = list(freq2.index.values)\n",
    "freq3"
   ]
  },
  {
   "cell_type": "code",
   "execution_count": 31,
   "metadata": {},
   "outputs": [
    {
     "name": "stderr",
     "output_type": "stream",
     "text": [
      "/home/ec2-user/anaconda3/envs/tensorflow_p36/lib/python3.6/site-packages/ipykernel/__main__.py:1: SettingWithCopyWarning: \n",
      "A value is trying to be set on a copy of a slice from a DataFrame.\n",
      "Try using .loc[row_indexer,col_indexer] = value instead\n",
      "\n",
      "See the caveats in the documentation: https://pandas.pydata.org/pandas-docs/stable/user_guide/indexing.html#returning-a-view-versus-a-copy\n",
      "  if __name__ == '__main__':\n"
     ]
    }
   ],
   "source": [
    "df['Mensaje_porter_stemmed'] = df['Mensaje_porter_stemmed'].apply(lambda x: ' '.join([word for word in x.split() if word not in (freq3)]))"
   ]
  },
  {
   "cell_type": "code",
   "execution_count": 32,
   "metadata": {},
   "outputs": [
    {
     "name": "stdout",
     "output_type": "stream",
     "text": [
      "0                      Comunidad\n",
      "1                        Mineria\n",
      "2                      Comunidad\n",
      "3                        Mineria\n",
      "50                       Empresa\n",
      "                  ...           \n",
      "12896    huelga,apoyo_sindicatos\n",
      "12897    huelga,apoyo_sindicatos\n",
      "12898    huelga,apoyo_sindicatos\n",
      "12899    huelga,apoyo_sindicatos\n",
      "12900    huelga,apoyo_sindicatos\n",
      "Name: Etiquetas, Length: 6784, dtype: object\n"
     ]
    },
    {
     "name": "stderr",
     "output_type": "stream",
     "text": [
      "/home/ec2-user/anaconda3/envs/tensorflow_p36/lib/python3.6/site-packages/ipykernel/__main__.py:1: SettingWithCopyWarning: \n",
      "A value is trying to be set on a copy of a slice from a DataFrame.\n",
      "Try using .loc[row_indexer,col_indexer] = value instead\n",
      "\n",
      "See the caveats in the documentation: https://pandas.pydata.org/pandas-docs/stable/user_guide/indexing.html#returning-a-view-versus-a-copy\n",
      "  if __name__ == '__main__':\n"
     ]
    }
   ],
   "source": [
    "df[\"Etiquetas\"] = [col.replace(\" \", \"_\") for col in df.Etiquetas]\n",
    "print(df.Etiquetas)"
   ]
  },
  {
   "cell_type": "code",
   "execution_count": 33,
   "metadata": {},
   "outputs": [
    {
     "data": {
      "text/plain": [
       "array(['Comunidad', 'Mineria', 'Empresa', 'Huelga', 'Sindicatos',\n",
       "       'Sindicatos,Huelga', 'Huelga,Sindicatos', 'pol_pub', 'huelga',\n",
       "       'comunidad', 'sindicatos', 'sindicatos,pol_pub', 'privados',\n",
       "       'comunidad,pol_pub', 'pol_pub,comunidad', 'privados,pol_pub',\n",
       "       'privados,comunidad', 'comunidad,privados', 'pol_pub,privados',\n",
       "       'medios', 'privados,medios', 'medios,pol_pub', 'privado',\n",
       "       'poli_pub', 'negocio', 'contaminacion', 'Comunidad,pol_pub',\n",
       "       'Otras_empresas', 'pol_pub,Otras_empresas', 'mineras', 'Privados',\n",
       "       'Pol\\xadtica', 'Privados,Comunidad', 'Comunidad,Pol\\xadtica',\n",
       "       'paro', 'otras_mineras', 'autoridad', 'comunidad,autoridad',\n",
       "       'otras_mineras,autoridad', 'tension,huelga', 'mineria_afta',\n",
       "       'mineria_afta,otras_mineras', 'otras_mineras,mineria_afta',\n",
       "       'huelga,tension', 'tension', 'bonos', 'huelga,bonos',\n",
       "       'bonos,huelga', 'bonos,tension', 'apoyo_sindical', 'inicio_huelga',\n",
       "       'fracaso', 'bono', 'bloqueo_camino,inicio_huelga',\n",
       "       'medios,comunidad', 'toma_ruta', 'apoyos', 'Medios',\n",
       "       'huelga,apoyo_sindicatos'], dtype=object)"
      ]
     },
     "execution_count": 33,
     "metadata": {},
     "output_type": "execute_result"
    }
   ],
   "source": [
    "df.Etiquetas.unique()"
   ]
  },
  {
   "cell_type": "code",
   "execution_count": 34,
   "metadata": {},
   "outputs": [
    {
     "name": "stderr",
     "output_type": "stream",
     "text": [
      "/home/ec2-user/anaconda3/envs/tensorflow_p36/lib/python3.6/site-packages/ipykernel/__main__.py:1: SettingWithCopyWarning: \n",
      "A value is trying to be set on a copy of a slice from a DataFrame.\n",
      "Try using .loc[row_indexer,col_indexer] = value instead\n",
      "\n",
      "See the caveats in the documentation: https://pandas.pydata.org/pandas-docs/stable/user_guide/indexing.html#returning-a-view-versus-a-copy\n",
      "  if __name__ == '__main__':\n"
     ]
    }
   ],
   "source": [
    "df['label'] = \"__label__\" + df[\"Etiquetas\"]"
   ]
  },
  {
   "cell_type": "code",
   "execution_count": 35,
   "metadata": {},
   "outputs": [
    {
     "data": {
      "text/html": [
       "<div>\n",
       "<style scoped>\n",
       "    .dataframe tbody tr th:only-of-type {\n",
       "        vertical-align: middle;\n",
       "    }\n",
       "\n",
       "    .dataframe tbody tr th {\n",
       "        vertical-align: top;\n",
       "    }\n",
       "\n",
       "    .dataframe thead th {\n",
       "        text-align: right;\n",
       "    }\n",
       "</style>\n",
       "<table border=\"1\" class=\"dataframe\">\n",
       "  <thead>\n",
       "    <tr style=\"text-align: right;\">\n",
       "      <th></th>\n",
       "      <th>Etiquetas</th>\n",
       "      <th>Mensaje</th>\n",
       "      <th>category_id</th>\n",
       "      <th>Mensaje_porter_stemmed</th>\n",
       "      <th>label</th>\n",
       "    </tr>\n",
       "  </thead>\n",
       "  <tbody>\n",
       "    <tr>\n",
       "      <th>0</th>\n",
       "      <td>Comunidad</td>\n",
       "      <td>RT @Camiloparada: En el 2010 Pi?era nombr com...</td>\n",
       "      <td>0</td>\n",
       "      <td>rt camiloparada en el 2010 pier nombr com inte...</td>\n",
       "      <td>__label__Comunidad</td>\n",
       "    </tr>\n",
       "    <tr>\n",
       "      <th>1</th>\n",
       "      <td>Mineria</td>\n",
       "      <td>RT @Camiloparada: En el 2010 Pi?era nombr com...</td>\n",
       "      <td>1</td>\n",
       "      <td>rt camiloparada en el 2010 pier nombr com inte...</td>\n",
       "      <td>__label__Mineria</td>\n",
       "    </tr>\n",
       "    <tr>\n",
       "      <th>2</th>\n",
       "      <td>Comunidad</td>\n",
       "      <td>RT @Camiloparada: En el 2010 Pi?era nombr com...</td>\n",
       "      <td>0</td>\n",
       "      <td>rt camiloparada en el 2010 pier nombr com inte...</td>\n",
       "      <td>__label__Comunidad</td>\n",
       "    </tr>\n",
       "    <tr>\n",
       "      <th>3</th>\n",
       "      <td>Mineria</td>\n",
       "      <td>RT @Camiloparada: En el 2010 Pi?era nombr com...</td>\n",
       "      <td>1</td>\n",
       "      <td>rt camiloparada en el 2010 pier nombr com inte...</td>\n",
       "      <td>__label__Mineria</td>\n",
       "    </tr>\n",
       "    <tr>\n",
       "      <th>50</th>\n",
       "      <td>Empresa</td>\n",
       "      <td>Acaba de publicar una foto en Minera Caserones...</td>\n",
       "      <td>2</td>\n",
       "      <td>acab de public una fot en miner caseron lumin ...</td>\n",
       "      <td>__label__Empresa</td>\n",
       "    </tr>\n",
       "  </tbody>\n",
       "</table>\n",
       "</div>"
      ],
      "text/plain": [
       "    Etiquetas                                            Mensaje  category_id  \\\n",
       "0   Comunidad  RT @Camiloparada: En el 2010 Pi?era nombr com...            0   \n",
       "1     Mineria  RT @Camiloparada: En el 2010 Pi?era nombr com...            1   \n",
       "2   Comunidad  RT @Camiloparada: En el 2010 Pi?era nombr com...            0   \n",
       "3     Mineria  RT @Camiloparada: En el 2010 Pi?era nombr com...            1   \n",
       "50    Empresa  Acaba de publicar una foto en Minera Caserones...            2   \n",
       "\n",
       "                               Mensaje_porter_stemmed               label  \n",
       "0   rt camiloparada en el 2010 pier nombr com inte...  __label__Comunidad  \n",
       "1   rt camiloparada en el 2010 pier nombr com inte...    __label__Mineria  \n",
       "2   rt camiloparada en el 2010 pier nombr com inte...  __label__Comunidad  \n",
       "3   rt camiloparada en el 2010 pier nombr com inte...    __label__Mineria  \n",
       "50  acab de public una fot en miner caseron lumin ...    __label__Empresa  "
      ]
     },
     "execution_count": 35,
     "metadata": {},
     "output_type": "execute_result"
    }
   ],
   "source": [
    "df.head()"
   ]
  },
  {
   "cell_type": "code",
   "execution_count": 36,
   "metadata": {},
   "outputs": [],
   "source": [
    "df1 = df.drop(['Etiquetas' , 'Mensaje' , 'category_id'],axis=1)"
   ]
  },
  {
   "cell_type": "code",
   "execution_count": 37,
   "metadata": {},
   "outputs": [],
   "source": [
    "df1 = df1[['label' , 'Mensaje_porter_stemmed']]"
   ]
  },
  {
   "cell_type": "code",
   "execution_count": 38,
   "metadata": {},
   "outputs": [
    {
     "data": {
      "text/html": [
       "<div>\n",
       "<style scoped>\n",
       "    .dataframe tbody tr th:only-of-type {\n",
       "        vertical-align: middle;\n",
       "    }\n",
       "\n",
       "    .dataframe tbody tr th {\n",
       "        vertical-align: top;\n",
       "    }\n",
       "\n",
       "    .dataframe thead th {\n",
       "        text-align: right;\n",
       "    }\n",
       "</style>\n",
       "<table border=\"1\" class=\"dataframe\">\n",
       "  <thead>\n",
       "    <tr style=\"text-align: right;\">\n",
       "      <th></th>\n",
       "      <th>label</th>\n",
       "      <th>Mensaje_porter_stemmed</th>\n",
       "    </tr>\n",
       "  </thead>\n",
       "  <tbody>\n",
       "    <tr>\n",
       "      <th>0</th>\n",
       "      <td>__label__Comunidad</td>\n",
       "      <td>rt camiloparada en el 2010 pier nombr com inte...</td>\n",
       "    </tr>\n",
       "    <tr>\n",
       "      <th>1</th>\n",
       "      <td>__label__Mineria</td>\n",
       "      <td>rt camiloparada en el 2010 pier nombr com inte...</td>\n",
       "    </tr>\n",
       "    <tr>\n",
       "      <th>2</th>\n",
       "      <td>__label__Comunidad</td>\n",
       "      <td>rt camiloparada en el 2010 pier nombr com inte...</td>\n",
       "    </tr>\n",
       "    <tr>\n",
       "      <th>3</th>\n",
       "      <td>__label__Mineria</td>\n",
       "      <td>rt camiloparada en el 2010 pier nombr com inte...</td>\n",
       "    </tr>\n",
       "    <tr>\n",
       "      <th>50</th>\n",
       "      <td>__label__Empresa</td>\n",
       "      <td>acab de public una fot en miner caseron lumin ...</td>\n",
       "    </tr>\n",
       "  </tbody>\n",
       "</table>\n",
       "</div>"
      ],
      "text/plain": [
       "                 label                             Mensaje_porter_stemmed\n",
       "0   __label__Comunidad  rt camiloparada en el 2010 pier nombr com inte...\n",
       "1     __label__Mineria  rt camiloparada en el 2010 pier nombr com inte...\n",
       "2   __label__Comunidad  rt camiloparada en el 2010 pier nombr com inte...\n",
       "3     __label__Mineria  rt camiloparada en el 2010 pier nombr com inte...\n",
       "50    __label__Empresa  acab de public una fot en miner caseron lumin ..."
      ]
     },
     "execution_count": 38,
     "metadata": {},
     "output_type": "execute_result"
    }
   ],
   "source": [
    "df1.head()"
   ]
  },
  {
   "cell_type": "code",
   "execution_count": 39,
   "metadata": {},
   "outputs": [],
   "source": [
    "training , validation = train_test_split(df1, test_size=0.05)"
   ]
  },
  {
   "cell_type": "code",
   "execution_count": 40,
   "metadata": {},
   "outputs": [
    {
     "name": "stdout",
     "output_type": "stream",
     "text": [
      "(6444, 2)\n",
      "(340, 2)\n"
     ]
    }
   ],
   "source": [
    "print(training.shape)\n",
    "print(validation.shape)"
   ]
  },
  {
   "cell_type": "code",
   "execution_count": 42,
   "metadata": {},
   "outputs": [],
   "source": [
    "np.savetxt('./tmp/training.txt', training.values, fmt='%s')\n",
    "np.savetxt('./tmp/validation.txt', validation.values, fmt='%s')"
   ]
  },
  {
   "cell_type": "code",
   "execution_count": 43,
   "metadata": {},
   "outputs": [
    {
     "name": "stdout",
     "output_type": "stream",
     "text": [
      "__label__apoyo_sindical rt sindicatosiil trabaj de divisin andin de codelc protest en santiag en la cas matriz a de la huelga fueron cerc d\n",
      "__label__comunidad rt ofert de trabaj en atacama en lumin copp estÿn busc ingenier e ingen par copiap revis los detalles\n",
      "__label__huelga rt tiofonti grup armad ya estÿn atac atacama el modus operandi de la macr zon sur esta aument en el nort de nuestr pa\n",
      "__label__pol_pub la peque miner es la principal activ econm de atacam y por primer vez en la historia se decidi apoy a este sector con recurs del goreatacama apoy recib por faen com sant 1 al 18 en la comun de vallenar\n",
      "__label__comunidad rt luiserrazuriz orreg infinitafm en seri una milit de tu part entreg las ltim accion de agu a miner caseron y jai\n"
     ]
    }
   ],
   "source": [
    "!head -5 ./tmp/training.txt"
   ]
  },
  {
   "cell_type": "markdown",
   "metadata": {},
   "source": [
    "# Store Data in s3 Bucket"
   ]
  },
  {
   "cell_type": "code",
   "execution_count": 44,
   "metadata": {},
   "outputs": [
    {
     "name": "stdout",
     "output_type": "stream",
     "text": [
      "2.86.2\n"
     ]
    }
   ],
   "source": [
    "import boto3\n",
    "import sagemaker\n",
    "\n",
    "print(sagemaker.__version__)\n",
    "\n",
    "session = sagemaker.Session()\n",
    "bucket = session.default_bucket()"
   ]
  },
  {
   "cell_type": "code",
   "execution_count": 45,
   "metadata": {},
   "outputs": [
    {
     "name": "stdout",
     "output_type": "stream",
     "text": [
      "s3://sagemaker-us-east-1-122514903081/birs-spanish/input/train/training.txt\n",
      "s3://sagemaker-us-east-1-122514903081/birs-spanish/input/validation/validation.txt\n",
      "s3://sagemaker-us-east-1-122514903081/birs-spanish/output/\n"
     ]
    }
   ],
   "source": [
    "# Run this cell if you want to use the data you processed manually\n",
    "\n",
    "prefix = 'birs-spanish'\n",
    "\n",
    "s3_train_path = session.upload_data(path='./tmp/training.txt', bucket=bucket, key_prefix=prefix+'/input/train')\n",
    "s3_val_path = session.upload_data(path='./tmp/validation.txt', bucket=bucket, key_prefix=prefix+'/input/validation')\n",
    "s3_output = 's3://{}/{}/output/'.format(bucket, prefix)\n",
    "\n",
    "print(s3_train_path)\n",
    "print(s3_val_path)\n",
    "print(s3_output)"
   ]
  },
  {
   "cell_type": "markdown",
   "metadata": {},
   "source": [
    "# Training the BlazingText model for supervised text classification\n",
    "\n",
    "**BlazingText:** The Amazon SageMaker BlazingText algorithm provides highly optimized implementations of the Word2vec and text classification algorithms. The Word2vec algorithm is useful for many downstream natural language processing (NLP) tasks, such as sentiment analysis, named entity recognition, machine translation, etc. Text classification is an important task for applications that perform web searches, information retrieval, ranking, and document classification.\n",
    "\n",
    "**BlazingText for text classification:** Ability to perform high speed multi-class and and multi-label text classification. The goal of text classification is to automatically classify the text documents into one or more defined categories, like spam detection, sentiment analysis, or user reviews categorization."
   ]
  },
  {
   "cell_type": "code",
   "execution_count": 46,
   "metadata": {},
   "outputs": [
    {
     "name": "stdout",
     "output_type": "stream",
     "text": [
      "811284229777.dkr.ecr.us-east-1.amazonaws.com/blazingtext:1\n"
     ]
    }
   ],
   "source": [
    "from sagemaker import image_uris\n",
    "\n",
    "region = boto3.Session().region_name    \n",
    "container = image_uris.retrieve('blazingtext', region)\n",
    "print(container)"
   ]
  },
  {
   "cell_type": "code",
   "execution_count": 53,
   "metadata": {},
   "outputs": [],
   "source": [
    "role = sagemaker.get_execution_role()\n",
    "\n",
    "bt = sagemaker.estimator.Estimator(container,\n",
    "                                   role, \n",
    "                                   instance_count=1, \n",
    "                                   instance_type='ml.c5.2xlarge',\n",
    "                                   output_path=s3_output)"
   ]
  },
  {
   "cell_type": "code",
   "execution_count": 54,
   "metadata": {},
   "outputs": [],
   "source": [
    "bt.set_hyperparameters(\n",
    "    mode= \"supervised\",\n",
    "    epochs= 50,\n",
    "    min_count= 2,\n",
    "    learning_rate= 0.001,\n",
    "    vector_dim= 10,\n",
    "    early_stopping= False,\n",
    "    patience= 4\n",
    ")"
   ]
  },
  {
   "cell_type": "code",
   "execution_count": 55,
   "metadata": {},
   "outputs": [],
   "source": [
    "train_data = sagemaker.TrainingInput(s3_train_path, \n",
    "                      distribution='FullyReplicated', \n",
    "                      content_type='text/plain',\n",
    "                      s3_data_type='S3Prefix')\n",
    "\n",
    "validation_data = sagemaker.TrainingInput(s3_val_path,\n",
    "                      distribution='FullyReplicated', \n",
    "                      content_type='text/plain', \n",
    "                      s3_data_type='S3Prefix')\n",
    "\n",
    "s3_channels = {'train': train_data, 'validation': validation_data}"
   ]
  },
  {
   "cell_type": "code",
   "execution_count": 56,
   "metadata": {},
   "outputs": [
    {
     "name": "stdout",
     "output_type": "stream",
     "text": [
      "2022-06-28 07:58:25 Starting - Starting the training job...\n",
      "2022-06-28 07:58:49 Starting - Preparing the instances for trainingProfilerReport-1656403105: InProgress\n",
      "......\n",
      "2022-06-28 07:59:49 Downloading - Downloading input data...\n",
      "2022-06-28 08:00:14 Training - Training image download completed. Training in progress.\u001b[34mArguments: train\u001b[0m\n",
      "\u001b[34m[06/28/2022 08:00:17 WARNING 139798467905344] Loggers have already been setup.\u001b[0m\n",
      "\u001b[34m[06/28/2022 08:00:17 WARNING 139798467905344] Loggers have already been setup.\u001b[0m\n",
      "\u001b[34m[06/28/2022 08:00:17 INFO 139798467905344] nvidia-smi took: 0.05033087730407715 secs to identify 0 gpus\u001b[0m\n",
      "\u001b[34m[06/28/2022 08:00:17 INFO 139798467905344] Running single machine CPU BlazingText training using supervised mode.\u001b[0m\n",
      "\u001b[34mNumber of CPU sockets found in instance is  1\u001b[0m\n",
      "\u001b[34m[06/28/2022 08:00:17 INFO 139798467905344] Processing /opt/ml/input/data/train/training.txt . File size: 0.9018831253051758 MB\u001b[0m\n",
      "\u001b[34m[06/28/2022 08:00:17 INFO 139798467905344] Processing /opt/ml/input/data/validation/validation.txt . File size: 0.045584678649902344 MB\u001b[0m\n",
      "\u001b[34mRead 0M words\u001b[0m\n",
      "\u001b[34mNumber of words:  3380\u001b[0m\n",
      "\u001b[34m##### Alpha: 0.0008  Progress: 17.32%  Million Words/sec: 13.93 #####\u001b[0m\n",
      "\u001b[34m##### Alpha: 0.0006  Progress: 35.00%  Million Words/sec: 14.09 #####\u001b[0m\n",
      "\u001b[34m##### Alpha: 0.0005  Progress: 52.26%  Million Words/sec: 14.03 #####\u001b[0m\n",
      "\u001b[34m##### Alpha: 0.0003  Progress: 69.83%  Million Words/sec: 14.07 #####\u001b[0m\n",
      "\u001b[34m##### Alpha: 0.0001  Progress: 87.32%  Million Words/sec: 14.07 #####\u001b[0m\n",
      "\u001b[34m##### Alpha: -0.0000  Progress: 100.00%  Million Words/sec: 13.43 #####\u001b[0m\n",
      "\u001b[34m##### Alpha: 0.0000  Progress: 100.00%  Million Words/sec: 13.42 #####\u001b[0m\n",
      "\u001b[34mTraining finished.\u001b[0m\n",
      "\u001b[34mAverage throughput in Million words/sec: 13.42\u001b[0m\n",
      "\u001b[34mTotal training time in seconds: 0.60\u001b[0m\n",
      "\u001b[34m#train_accuracy: 0.37\u001b[0m\n",
      "\u001b[34mNumber of train examples: 6444\u001b[0m\n",
      "\u001b[34m#validation_accuracy: 0.3676\u001b[0m\n",
      "\u001b[34mNumber of validation examples: 340\u001b[0m\n",
      "\n",
      "2022-06-28 08:00:49 Uploading - Uploading generated training model\n",
      "2022-06-28 08:00:49 Completed - Training job completed\n",
      "Training seconds: 62\n",
      "Billable seconds: 62\n"
     ]
    }
   ],
   "source": [
    "bt.fit(inputs=s3_channels)"
   ]
  },
  {
   "cell_type": "markdown",
   "metadata": {},
   "source": [
    "# Hosting Data In Prodection Environment\n",
    "\n",
    "Once the training is done, we can deploy the trained model as an Amazon SageMaker real-time hosted endpoint. This will allow us to make predictions (or inference) from the model."
   ]
  },
  {
   "cell_type": "code",
   "execution_count": 51,
   "metadata": {},
   "outputs": [
    {
     "name": "stdout",
     "output_type": "stream",
     "text": [
      "---------!"
     ]
    }
   ],
   "source": [
    "bt_predictor = bt.deploy(initial_instance_count=1, instance_type='ml.t2.medium')"
   ]
  },
  {
   "cell_type": "markdown",
   "metadata": {},
   "source": [
    "# Prediction\n",
    "### Use JSON format for inference\n",
    "\n",
    "BlazingText supports application/json as the content-type for inference. The payload should contain a list of sentences with the key as **\"instances\"** while being passed \n",
    "to the endpoint.\n",
    "\n",
    "**Note:** By default, the model will return only one prediction, the one with the highest probability. For retrieving the top k predictions, you can set k in the configuration as shown below:"
   ]
  },
  {
   "cell_type": "code",
   "execution_count": 52,
   "metadata": {},
   "outputs": [
    {
     "name": "stdout",
     "output_type": "stream",
     "text": [
      "b'[{\"label\": [\"__label__pol_pub\", \"__label__comunidad\", \"__label__privados\", \"__label__huelga\"], \"prob\": [0.31475916504859924, 0.07760695368051529, 0.027172908186912537, 0.017927976325154305]}]'\n"
     ]
    }
   ],
   "source": [
    "import json\n",
    "import pprint\n",
    "\n",
    "sentences = ['RT @KinrossChile: Echa un vistazo a las prÿcticas de nuestros aprendices en el simulador de cami›n de extracci›n 785-C ?? que tenemos a disp?']\n",
    "\n",
    "payload = {\"instances\" : sentences, \"configuration\": {\"k\": 4}}\n",
    "\n",
    "bt_predictor.serializer = sagemaker.serializers.JSONSerializer()\n",
    "response = bt_predictor.predict(payload)\n",
    "\n",
    "print(response)"
   ]
  },
  {
   "cell_type": "code",
   "execution_count": 132,
   "metadata": {},
   "outputs": [
    {
     "name": "stdout",
     "output_type": "stream",
     "text": [
      "b'[{\"label\": [\"__label__pol_pub\", \"__label__comunidad\", \"__label__privados\", \"__label__huelga\", \"__label__Comunidad\", \"__label__apoyo_sindical\", \"__label__poli_pub\", \"__label__medios\", \"__label__otras_mineras\", \"__label__Huelga\", \"__label__autoridad\", \"__label__mineria_afta\", \"__label__Pol\\xc2\\xadtica\", \"__label__sindicatos\", \"__label__Privados\", \"__label__huelga,apoyo_sindicatos\", \"__label__Huelga,Sindicatos\", \"__label__bonos\", \"__label__Otras_empresas\", \"__label__inicio_huelga\", \"__label__tension\", \"__label__Medios\", \"__label__apoyos\", \"__label__Empresa\", \"__label__privado\", \"__label__mineria_afta,otras_mineras\", \"__label__negocio\", \"__label__fracaso\", \"__label__bono\", \"__label__paro\", \"__label__Sindicatos,Huelga\", \"__label__comunidad,pol_pub\", \"__label__huelga,bonos\", \"__label__mineras\", \"__label__pol_pub,comunidad\", \"__label__huelga,tension\", \"__label__Sindicatos\", \"__label__Comunidad,Pol\\xc2\\xadtica\", \"__label__comunidad,privados\", \"__label__privados,pol_pub\", \"__label__privados,medios\", \"__label__medios,pol_pub\", \"__label__Privados,Comunidad\", \"__label__sindicatos,pol_pub\", \"__label__Mineria\", \"__label__pol_pub,privados\", \"__label__bonos,huelga\", \"__label__medios,comunidad\", \"__label__otras_mineras,mineria_afta\", \"__label__toma_ruta\", \"__label__contaminacion\", \"__label__privados,comunidad\", \"__label__bloqueo_camino,inicio_huelga\", \"__label__bonos,tension\", \"__label__Comunidad,pol_pub\", \"__label__pol_pub,Otras_empresas\", \"__label__comunidad,autoridad\", \"__label__tension,huelga\"], \"prob\": [0.13789886236190796, 0.05595347657799721, 0.02693270333111286, 0.020468955859541893, 0.018288349732756615, 0.015753360465168953, 0.015580382198095322, 0.015574529767036438, 0.01502236071974039, 0.01475334819406271, 0.014554521068930626, 0.014222830533981323, 0.014134621247649193, 0.014118501916527748, 0.014047514647245407, 0.01399723906069994, 0.013908750377595425, 0.013883332721889019, 0.013881214894354343, 0.013803414069116116, 0.013696661219000816, 0.013691731728613377, 0.013671891763806343, 0.013671363703906536, 0.013665472157299519, 0.013547402806580067, 0.01353832334280014, 0.013509897515177727, 0.013500257395207882, 0.013496221043169498, 0.013488384895026684, 0.013485015369951725, 0.01345304399728775, 0.013438932597637177, 0.013436971232295036, 0.013401093892753124, 0.013400678522884846, 0.013400646857917309, 0.013394839130342007, 0.013384317979216576, 0.013375557959079742, 0.01336685474961996, 0.013366790488362312, 0.013350439257919788, 0.013349942862987518, 0.013345379382371902, 0.01334438007324934, 0.013340601697564125, 0.013340200297534466, 0.0133399972692132, 0.013339907862246037, 0.013339138589799404, 0.013338514603674412, 0.013337974436581135, 0.013337205164134502, 0.013333472423255444, 0.013332264497876167, 0.01333007775247097]}]'\n"
     ]
    }
   ],
   "source": [
    "import json\n",
    "import pprint\n",
    "\n",
    "sentences = ['RT @Mineria_Atacama: ??Los programas de beneficios para la peque?a miner­a y miner­a artesanal son hist›ricos. Gracias al @GobiernodeChile a?']\n",
    "\n",
    "payload = {\"instances\" : sentences, \"configuration\": {\"k\": 58}}\n",
    "\n",
    "bt_predictor.serializer = sagemaker.serializers.JSONSerializer()\n",
    "response = bt_predictor.predict(payload)\n",
    "print(response)"
   ]
  },
  {
   "cell_type": "markdown",
   "metadata": {},
   "source": [
    "# Stop / Close the Endpoint (Optional)\n",
    "Finally, we should delete the endpoint before we close the notebook if we don't need to keep the endpoint running for serving realtime predictions."
   ]
  },
  {
   "cell_type": "code",
   "execution_count": 57,
   "metadata": {},
   "outputs": [],
   "source": [
    "bt_predictor.delete_endpoint()"
   ]
  },
  {
   "cell_type": "code",
   "execution_count": 9,
   "metadata": {},
   "outputs": [
    {
     "name": "stdout",
     "output_type": "stream",
     "text": [
      "[nltk_data] Downloading package stopwords to\n",
      "[nltk_data]     /home/ec2-user/nltk_data...\n",
      "[nltk_data]   Package stopwords is already up-to-date!\n",
      "Traceback (most recent call last):\n",
      "  File \"src/spanish_text_classification.py\", line 45, in <module>\n",
      "    parser.add_argument('--model-dir', type=str, default=os.environ['SM_MODEL_DIR'])\n",
      "  File \"/home/ec2-user/anaconda3/envs/tensorflow_p36/lib/python3.6/os.py\", line 669, in __getitem__\n",
      "    raise KeyError(key) from None\n",
      "KeyError: 'SM_MODEL_DIR'\n"
     ]
    }
   ],
   "source": [
    "!python src/spanish_text_classification.py"
   ]
  },
  {
   "cell_type": "code",
   "execution_count": null,
   "metadata": {},
   "outputs": [],
   "source": []
  }
 ],
 "metadata": {
  "accelerator": "GPU",
  "colab": {
   "collapsed_sections": [],
   "name": "Untitled0.ipynb",
   "provenance": []
  },
  "kernelspec": {
   "display_name": "conda_tensorflow_p36",
   "language": "python",
   "name": "conda_tensorflow_p36"
  },
  "language_info": {
   "codemirror_mode": {
    "name": "ipython",
    "version": 3
   },
   "file_extension": ".py",
   "mimetype": "text/x-python",
   "name": "python",
   "nbconvert_exporter": "python",
   "pygments_lexer": "ipython3",
   "version": "3.6.13"
  }
 },
 "nbformat": 4,
 "nbformat_minor": 4
}
