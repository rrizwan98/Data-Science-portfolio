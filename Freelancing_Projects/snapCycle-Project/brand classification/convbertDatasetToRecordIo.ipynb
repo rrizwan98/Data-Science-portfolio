{
 "cells": [
  {
   "cell_type": "markdown",
   "id": "a0453205",
   "metadata": {},
   "source": [
    "## train Data Convert to Record Io Format"
   ]
  },
  {
   "cell_type": "code",
   "execution_count": 1,
   "id": "fc4490c8",
   "metadata": {},
   "outputs": [
    {
     "name": "stdout",
     "output_type": "stream",
     "text": [
      "/home/ec2-user/SageMaker/brandClassification\n"
     ]
    }
   ],
   "source": [
    "cd /home/ec2-user/SageMaker/brandClassification"
   ]
  },
  {
   "cell_type": "code",
   "execution_count": 2,
   "id": "d8ee4a5e",
   "metadata": {},
   "outputs": [],
   "source": [
    "import urllib\n",
    "script_url = \"https://raw.githubusercontent.com/apache/incubator-mxnet/master/tools/im2rec.py\"\n",
    "urllib.request.urlretrieve(script_url, \"im2rec.py\"); #downloads the script"
   ]
  },
  {
   "cell_type": "code",
   "execution_count": 3,
   "id": "7828f51e",
   "metadata": {},
   "outputs": [
    {
     "name": "stdout",
     "output_type": "stream",
     "text": [
      "cocacola 0\r\n",
      "lactania 1\r\n",
      "ordinary 2\r\n",
      "pepsi 3\r\n",
      "starbucks 4\r\n"
     ]
    }
   ],
   "source": [
    "import mxnet as mx\n",
    "!python im2rec.py --list --recursive brand_train_list train/"
   ]
  },
  {
   "cell_type": "code",
   "execution_count": 4,
   "id": "c6abaf9b",
   "metadata": {},
   "outputs": [
    {
     "name": "stdout",
     "output_type": "stream",
     "text": [
      "Creating .rec file from /home/ec2-user/SageMaker/brandClassification/train_RecordIo_lst_file/brand_train_list.lst in /home/ec2-user/SageMaker/brandClassification/train_RecordIo_lst_file\n",
      "time: 0.4667210578918457  count: 0\n",
      "time: 9.728114366531372  count: 1000\n",
      "time: 3.5096287727355957  count: 2000\n"
     ]
    }
   ],
   "source": [
    "!mkdir train_RecordIo_lst_file/\n",
    "!mv brand_train_list.lst train_RecordIo_lst_file/\n",
    "!python im2rec.py --resize 220 --quality 90 --num-thread 2 train_RecordIo_lst_file/brand_train_list train/"
   ]
  },
  {
   "cell_type": "markdown",
   "id": "b3dcda75",
   "metadata": {},
   "source": [
    "## test Data Convert to Record Io Format"
   ]
  },
  {
   "cell_type": "code",
   "execution_count": 5,
   "id": "9080a003",
   "metadata": {},
   "outputs": [
    {
     "name": "stdout",
     "output_type": "stream",
     "text": [
      "cocacola 0\r\n",
      "lactania 1\r\n",
      "ordinary 2\r\n",
      "pepsi 3\r\n",
      "starbucks 4\r\n"
     ]
    }
   ],
   "source": [
    "import mxnet as mx\n",
    "!python im2rec.py --list --recursive brand_test_list test/"
   ]
  },
  {
   "cell_type": "code",
   "execution_count": 6,
   "id": "b28490c4",
   "metadata": {},
   "outputs": [],
   "source": [
    "!mkdir test_Io_test_lst_file/"
   ]
  },
  {
   "cell_type": "code",
   "execution_count": 7,
   "id": "3984309b",
   "metadata": {},
   "outputs": [
    {
     "name": "stdout",
     "output_type": "stream",
     "text": [
      "Creating .rec file from /home/ec2-user/SageMaker/brandClassification/test_Io_test_lst_file/brand_test_list.lst in /home/ec2-user/SageMaker/brandClassification/test_Io_test_lst_file\n",
      "time: 0.014595508575439453  count: 0\n"
     ]
    }
   ],
   "source": [
    "!mv brand_test_list.lst test_Io_test_lst_file/\n",
    "!python im2rec.py --resize 220 --quality 90 --num-thread 2 test_Io_test_lst_file/brand_test_list test/"
   ]
  },
  {
   "cell_type": "code",
   "execution_count": null,
   "id": "3a246987",
   "metadata": {},
   "outputs": [],
   "source": []
  }
 ],
 "metadata": {
  "kernelspec": {
   "display_name": "conda_mxnet_p37",
   "language": "python",
   "name": "conda_mxnet_p37"
  },
  "language_info": {
   "codemirror_mode": {
    "name": "ipython",
    "version": 3
   },
   "file_extension": ".py",
   "mimetype": "text/x-python",
   "name": "python",
   "nbconvert_exporter": "python",
   "pygments_lexer": "ipython3",
   "version": "3.7.10"
  }
 },
 "nbformat": 4,
 "nbformat_minor": 5
}
