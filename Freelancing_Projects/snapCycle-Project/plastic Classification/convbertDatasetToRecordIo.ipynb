{
 "cells": [
  {
   "cell_type": "markdown",
   "id": "a0453205",
   "metadata": {},
   "source": [
    "## train Data Convert to Record Io Format"
   ]
  },
  {
   "cell_type": "code",
   "execution_count": 1,
   "id": "fc4490c8",
   "metadata": {},
   "outputs": [
    {
     "name": "stdout",
     "output_type": "stream",
     "text": [
      "/home/ec2-user/SageMaker/plasticClassification1\n"
     ]
    }
   ],
   "source": [
    "cd /home/ec2-user/SageMaker/plasticClassification1"
   ]
  },
  {
   "cell_type": "code",
   "execution_count": 2,
   "id": "d8ee4a5e",
   "metadata": {},
   "outputs": [],
   "source": [
    "import urllib\n",
    "script_url = \"https://raw.githubusercontent.com/apache/incubator-mxnet/master/tools/im2rec.py\"\n",
    "urllib.request.urlretrieve(script_url, \"im2rec.py\"); #downloads the script"
   ]
  },
  {
   "cell_type": "code",
   "execution_count": 5,
   "id": "7828f51e",
   "metadata": {},
   "outputs": [
    {
     "name": "stdout",
     "output_type": "stream",
     "text": [
      "1-PET 0\r\n",
      "2-HDPE 1\r\n",
      "others 2\r\n"
     ]
    }
   ],
   "source": [
    "import mxnet as mx\n",
    "!python im2rec.py --list --recursive train_list train/"
   ]
  },
  {
   "cell_type": "code",
   "execution_count": 6,
   "id": "c6abaf9b",
   "metadata": {},
   "outputs": [
    {
     "name": "stdout",
     "output_type": "stream",
     "text": [
      "Creating .rec file from /home/ec2-user/SageMaker/plasticClassification1/RecordIo_lst_file/train_list.lst in /home/ec2-user/SageMaker/plasticClassification1/RecordIo_lst_file\n",
      "time: 0.032370567321777344  count: 0\n",
      "time: 3.676605701446533  count: 1000\n",
      "time: 3.220550537109375  count: 2000\n",
      "time: 3.511955738067627  count: 3000\n",
      "time: 3.5201969146728516  count: 4000\n",
      "time: 3.121824264526367  count: 5000\n",
      "time: 3.157452344894409  count: 6000\n"
     ]
    }
   ],
   "source": [
    "!mkdir RecordIo_lst_file/\n",
    "!mv train_list.lst RecordIo_lst_file/\n",
    "!python im2rec.py --resize 220 --quality 90 --num-thread 2 RecordIo_lst_file/train_list train/"
   ]
  },
  {
   "cell_type": "markdown",
   "id": "b3dcda75",
   "metadata": {},
   "source": [
    "## test Data Convert to Record Io Format"
   ]
  },
  {
   "cell_type": "code",
   "execution_count": 17,
   "id": "9080a003",
   "metadata": {},
   "outputs": [
    {
     "name": "stdout",
     "output_type": "stream",
     "text": [
      "1-PET 0\r\n",
      "2-HDPE 1\r\n",
      "others 2\r\n"
     ]
    }
   ],
   "source": [
    "import mxnet as mx\n",
    "!python im2rec.py --list --recursive test_list test/"
   ]
  },
  {
   "cell_type": "code",
   "execution_count": 18,
   "id": "b28490c4",
   "metadata": {},
   "outputs": [],
   "source": [
    "!mkdir Io_test_lst_file/"
   ]
  },
  {
   "cell_type": "code",
   "execution_count": 19,
   "id": "3984309b",
   "metadata": {},
   "outputs": [
    {
     "name": "stdout",
     "output_type": "stream",
     "text": [
      "Creating .rec file from /home/ec2-user/SageMaker/plasticClassification1/Io_test_lst_file/test_list.lst in /home/ec2-user/SageMaker/plasticClassification1/Io_test_lst_file\n",
      "time: 0.05882883071899414  count: 0\n"
     ]
    }
   ],
   "source": [
    "!mv test_list.lst Io_test_lst_file/\n",
    "!python im2rec.py --resize 220 --quality 90 --num-thread 2 Io_test_lst_file/test_list test/"
   ]
  },
  {
   "cell_type": "code",
   "execution_count": null,
   "id": "3a246987",
   "metadata": {},
   "outputs": [],
   "source": []
  }
 ],
 "metadata": {
  "kernelspec": {
   "display_name": "conda_mxnet_p37",
   "language": "python",
   "name": "conda_mxnet_p37"
  },
  "language_info": {
   "codemirror_mode": {
    "name": "ipython",
    "version": 3
   },
   "file_extension": ".py",
   "mimetype": "text/x-python",
   "name": "python",
   "nbconvert_exporter": "python",
   "pygments_lexer": "ipython3",
   "version": "3.7.10"
  }
 },
 "nbformat": 4,
 "nbformat_minor": 5
}
