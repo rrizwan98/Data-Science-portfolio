{
 "cells": [
  {
   "cell_type": "code",
   "execution_count": 1,
   "id": "74630877",
   "metadata": {},
   "outputs": [
    {
     "name": "stdout",
     "output_type": "stream",
     "text": [
      "/home/ec2-user/SageMaker/plasticClassification1\n"
     ]
    }
   ],
   "source": [
    "cd /home/ec2-user/SageMaker/plasticClassification1"
   ]
  },
  {
   "cell_type": "code",
   "execution_count": 2,
   "id": "3a5f57fb",
   "metadata": {},
   "outputs": [
    {
     "name": "stdout",
     "output_type": "stream",
     "text": [
      "2.119.0\n"
     ]
    }
   ],
   "source": [
    "import boto3\n",
    "import sagemaker\n",
    "\n",
    "print(sagemaker.__version__)\n",
    "\n",
    "sess = sagemaker.Session()\n",
    "bucket = sess.default_bucket()"
   ]
  },
  {
   "cell_type": "code",
   "execution_count": 3,
   "id": "342fa6d3",
   "metadata": {},
   "outputs": [
    {
     "data": {
      "text/plain": [
       "'RecordIo_lst_file'"
      ]
     },
     "execution_count": 3,
     "metadata": {},
     "output_type": "execute_result"
    }
   ],
   "source": [
    "train_dir = 'RecordIo_lst_file'\n",
    "test_dir = 'Io_test_lst_file'\n",
    "# val_dir = 'val'\n",
    "train_dir"
   ]
  },
  {
   "cell_type": "code",
   "execution_count": 4,
   "id": "bb3b54a4",
   "metadata": {},
   "outputs": [],
   "source": [
    "prefix = 'plastic-classification'\n",
    "training_input_path   = sess.upload_data(train_dir, key_prefix=prefix+'/training')\n",
    "validation_input_path = sess.upload_data(test_dir, key_prefix=prefix+'/validation')\n",
    "s3_output = 's3://{}/{}/output/'.format(bucket, prefix)"
   ]
  },
  {
   "cell_type": "markdown",
   "id": "5c99b4b2",
   "metadata": {},
   "source": [
    "## Get the name of the image classification algorithm in our region"
   ]
  },
  {
   "cell_type": "code",
   "execution_count": 5,
   "id": "ccc9fb49",
   "metadata": {},
   "outputs": [
    {
     "name": "stdout",
     "output_type": "stream",
     "text": [
      "811284229777.dkr.ecr.us-east-1.amazonaws.com/image-classification:1\n"
     ]
    }
   ],
   "source": [
    "\n",
    "from sagemaker import image_uris\n",
    "\n",
    "region = boto3.Session().region_name    \n",
    "container = image_uris.retrieve('image-classification', region)\n",
    "print(container)\n"
   ]
  },
  {
   "cell_type": "markdown",
   "id": "dec11403",
   "metadata": {},
   "source": [
    "## Configure the training job"
   ]
  },
  {
   "cell_type": "code",
   "execution_count": 6,
   "id": "bfb20950",
   "metadata": {},
   "outputs": [],
   "source": [
    "role = sagemaker.get_execution_role()\n",
    "\n",
    "ic = sagemaker.estimator.Estimator(container,\n",
    "                                   role, \n",
    "                                   instance_count=1, \n",
    "                                   instance_type='ml.p3.2xlarge',\n",
    "                                   output_path=s3_output)\n"
   ]
  },
  {
   "cell_type": "markdown",
   "id": "fb322e2b",
   "metadata": {},
   "source": [
    "## Set algorithm parameters"
   ]
  },
  {
   "cell_type": "code",
   "execution_count": 7,
   "id": "0d15e0b2",
   "metadata": {},
   "outputs": [],
   "source": [
    "ic.set_hyperparameters(num_layers=18,               # Train a Resnet-18 model\n",
    "                       use_pretrained_model=0,      # Train from scratch\n",
    "                       num_classes=3,               # PET, HDEP and OTHERS                        \n",
    "                       mini_batch_size=128,\n",
    "                       num_training_samples=6000,  # Number of training samples\n",
    "                       image_shape = '3,220,220',\n",
    "                       epochs=10)                   # Learn the training samples 10 times\n",
    "# "
   ]
  },
  {
   "cell_type": "markdown",
   "id": "bb154f20",
   "metadata": {},
   "source": [
    "## Set dataset parameters"
   ]
  },
  {
   "cell_type": "code",
   "execution_count": 8,
   "id": "630a32ae",
   "metadata": {},
   "outputs": [],
   "source": [
    "train_data = sagemaker.TrainingInput(training_input_path, \n",
    "                                        distribution='FullyReplicated', \n",
    "                                        content_type='application/x-recordio',\n",
    "                                        s3_data_type='S3Prefix')\n",
    "\n",
    "validation_data = sagemaker.TrainingInput(validation_input_path,\n",
    "                                             distribution='FullyReplicated', \n",
    "                                             content_type='application/x-recordio', \n",
    "                                             s3_data_type='S3Prefix')\n",
    "\n",
    "s3_channels = {'train': train_data, 'validation': validation_data}"
   ]
  },
  {
   "cell_type": "markdown",
   "id": "fa09eeac",
   "metadata": {},
   "source": [
    "## Train the model"
   ]
  },
  {
   "cell_type": "code",
   "execution_count": 9,
   "id": "ae1cc5f1",
   "metadata": {},
   "outputs": [
    {
     "name": "stdout",
     "output_type": "stream",
     "text": [
      "2022-12-16 11:38:09 Starting - Starting the training job...\n",
      "2022-12-16 11:38:35 Starting - Preparing the instances for trainingProfilerReport-1671190688: InProgress\n",
      "............\n",
      "2022-12-16 11:40:23 Downloading - Downloading input data...\n",
      "2022-12-16 11:41:03 Training - Downloading the training image............\n",
      "2022-12-16 11:43:08 Training - Training image download completed. Training in progress....\u001b[34mDocker entrypoint called with argument(s): train\u001b[0m\n",
      "\u001b[34mRunning default environment configuration script\u001b[0m\n",
      "\u001b[34mNvidia gpu devices, drivers and cuda toolkit versions (only available on hosts with GPU):\u001b[0m\n",
      "\u001b[34mFri Dec 16 11:43:31 2022       \u001b[0m\n",
      "\u001b[34m+-----------------------------------------------------------------------------+\u001b[0m\n",
      "\u001b[34m| NVIDIA-SMI 510.47.03    Driver Version: 510.47.03    CUDA Version: 11.6     |\u001b[0m\n",
      "\u001b[34m|-------------------------------+----------------------+----------------------+\u001b[0m\n",
      "\u001b[34m| GPU  Name        Persistence-M| Bus-Id        Disp.A | Volatile Uncorr. ECC |\u001b[0m\n",
      "\u001b[34m| Fan  Temp  Perf  Pwr:Usage/Cap|         Memory-Usage | GPU-Util  Compute M. |\u001b[0m\n",
      "\u001b[34m|                               |                      |               MIG M. |\u001b[0m\n",
      "\u001b[34m|===============================+======================+======================|\u001b[0m\n",
      "\u001b[34m|   0  Tesla V100-SXM2...  On   | 00000000:00:1E.0 Off |                    0 |\u001b[0m\n",
      "\u001b[34m| N/A   38C    P0    24W / 300W |      0MiB / 16384MiB |      0%      Default |\u001b[0m\n",
      "\u001b[34m|                               |                      |                  N/A |\u001b[0m\n",
      "\u001b[34m+-------------------------------+----------------------+----------------------+\n",
      "                                                                               \u001b[0m\n",
      "\u001b[34m+-----------------------------------------------------------------------------+\u001b[0m\n",
      "\u001b[34m| Processes:                                                                  |\u001b[0m\n",
      "\u001b[34m|  GPU   GI   CI        PID   Type   Process name                  GPU Memory |\u001b[0m\n",
      "\u001b[34m|        ID   ID                                                   Usage      |\u001b[0m\n",
      "\u001b[34m|=============================================================================|\u001b[0m\n",
      "\u001b[34m|  No running processes found                                                 |\u001b[0m\n",
      "\u001b[34m+-----------------------------------------------------------------------------+\u001b[0m\n",
      "\u001b[34mChecking for nvidia driver and cuda compatibility.\u001b[0m\n",
      "\u001b[34mCUDA Compatibility driver provided.\u001b[0m\n",
      "\u001b[34mProceeding with compatibility check between driver, cuda-toolkit and cuda-compat.\u001b[0m\n",
      "\u001b[34mDetected cuda-toolkit version: 11.1.\u001b[0m\n",
      "\u001b[34mDetected cuda-compat version: 455.32.00.\u001b[0m\n",
      "\u001b[34mDetected Nvidia driver version: 510.47.03.\u001b[0m\n",
      "\u001b[34mNvidia driver compatible with cuda-toolkit. Disabling cuda-compat.\u001b[0m\n",
      "\u001b[34m[12/16/2022 11:43:35 INFO 140143894464320] Reading default configuration from /opt/amazon/lib/python3.7/site-packages/image_classification/default-input.json: {'use_pretrained_model': 0, 'num_layers': 152, 'epochs': 30, 'learning_rate': 0.1, 'lr_scheduler_factor': 0.1, 'optimizer': 'sgd', 'momentum': 0, 'weight_decay': 0.0001, 'beta_1': 0.9, 'beta_2': 0.999, 'eps': 1e-08, 'gamma': 0.9, 'mini_batch_size': 32, 'image_shape': '3,224,224', 'precision_dtype': 'float32'}\u001b[0m\n",
      "\u001b[34m[12/16/2022 11:43:35 INFO 140143894464320] Merging with provided configuration from /opt/ml/input/config/hyperparameters.json: {'epochs': '10', 'image_shape': '3,220,220', 'mini_batch_size': '128', 'num_classes': '3', 'num_layers': '18', 'num_training_samples': '6000', 'use_pretrained_model': '0'}\u001b[0m\n",
      "\u001b[34m[12/16/2022 11:43:35 INFO 140143894464320] Final configuration: {'use_pretrained_model': '0', 'num_layers': '18', 'epochs': '10', 'learning_rate': 0.1, 'lr_scheduler_factor': 0.1, 'optimizer': 'sgd', 'momentum': 0, 'weight_decay': 0.0001, 'beta_1': 0.9, 'beta_2': 0.999, 'eps': 1e-08, 'gamma': 0.9, 'mini_batch_size': '128', 'image_shape': '3,220,220', 'precision_dtype': 'float32', 'num_classes': '3', 'num_training_samples': '6000'}\u001b[0m\n",
      "\u001b[34m[12/16/2022 11:43:35 INFO 140143894464320] Searching for .rec files in /opt/ml/input/data/train.\u001b[0m\n",
      "\u001b[34m[12/16/2022 11:43:35 INFO 140143894464320] Searching for .rec files in /opt/ml/input/data/validation.\u001b[0m\n",
      "\u001b[34m[12/16/2022 11:43:35 INFO 140143894464320] use_pretrained_model: 0\u001b[0m\n",
      "\u001b[34m[12/16/2022 11:43:35 INFO 140143894464320] multi_label: 0\u001b[0m\n",
      "\u001b[34m[12/16/2022 11:43:35 INFO 140143894464320] Performing random weight initialization\u001b[0m\n",
      "\u001b[34m[12/16/2022 11:43:35 INFO 140143894464320] ---- Parameters ----\u001b[0m\n",
      "\u001b[34m[12/16/2022 11:43:35 INFO 140143894464320] num_layers: 18\u001b[0m\n",
      "\u001b[34m[12/16/2022 11:43:35 INFO 140143894464320] data type: <class 'numpy.float32'>\u001b[0m\n",
      "\u001b[34m[12/16/2022 11:43:35 INFO 140143894464320] epochs: 10\u001b[0m\n",
      "\u001b[34m[12/16/2022 11:43:35 INFO 140143894464320] optimizer: sgd\u001b[0m\n",
      "\u001b[34m[12/16/2022 11:43:35 INFO 140143894464320] momentum: 0.9\u001b[0m\n",
      "\u001b[34m[12/16/2022 11:43:35 INFO 140143894464320] weight_decay: 0.0001\u001b[0m\n",
      "\u001b[34m[12/16/2022 11:43:35 INFO 140143894464320] learning_rate: 0.1\u001b[0m\n",
      "\u001b[34m[12/16/2022 11:43:35 INFO 140143894464320] num_training_samples: 6000\u001b[0m\n",
      "\u001b[34m[12/16/2022 11:43:35 INFO 140143894464320] mini_batch_size: 128\u001b[0m\n",
      "\u001b[34m[12/16/2022 11:43:35 INFO 140143894464320] image_shape: 3,220,220\u001b[0m\n",
      "\u001b[34m[12/16/2022 11:43:35 INFO 140143894464320] num_classes: 3\u001b[0m\n",
      "\u001b[34m[12/16/2022 11:43:35 INFO 140143894464320] augmentation_type: None\u001b[0m\n",
      "\u001b[34m[12/16/2022 11:43:35 INFO 140143894464320] kv_store: device\u001b[0m\n",
      "\u001b[34m[12/16/2022 11:43:35 INFO 140143894464320] checkpoint_frequency not set, will store the best model\u001b[0m\n",
      "\u001b[34m[12/16/2022 11:43:35 INFO 140143894464320] --------------------\u001b[0m\n",
      "\u001b[34m[12/16/2022 11:43:35 INFO 140143894464320] Setting number of threads: 7\u001b[0m\n",
      "\u001b[34m[11:43:40] /opt/brazil-pkg-cache/packages/AIAlgorithmsMXNet/AIAlgorithmsMXNet-1.4.x_ecl_Cuda_11.1.x.38.0/AL2_x86_64/generic-flavor/src/src/operator/nn/./cudnn/./cudnn_algoreg-inl.h:97: Running performance tests to find the best convolution algorithm, this can take a while... (setting env variable MXNET_CUDNN_AUTOTUNE_DEFAULT to 0 to disable)\u001b[0m\n",
      "\u001b[34m[12/16/2022 11:43:44 INFO 140143894464320] Epoch[0] Batch [20]#011Speed: 577.209 samples/sec#011accuracy=0.862723\u001b[0m\n",
      "\u001b[34m[12/16/2022 11:43:47 INFO 140143894464320] Epoch[0] Batch [40]#011Speed: 726.262 samples/sec#011accuracy=0.893102\u001b[0m\n",
      "\u001b[34m[12/16/2022 11:43:47 INFO 140143894464320] Epoch[0] Train-accuracy=0.899287\u001b[0m\n",
      "\u001b[34m[12/16/2022 11:43:47 INFO 140143894464320] Epoch[0] Time cost=7.696\u001b[0m\n",
      "\u001b[34m[12/16/2022 11:43:47 INFO 140143894464320] Epoch[0] Validation-accuracy=0.937500\u001b[0m\n",
      "\u001b[34m[12/16/2022 11:43:47 INFO 140143894464320] Storing the best model with validation accuracy: 0.937500\u001b[0m\n",
      "\u001b[34m[12/16/2022 11:43:48 INFO 140143894464320] Saved checkpoint to \"/opt/ml/model/image-classification-0001.params\"\u001b[0m\n",
      "\u001b[34m[12/16/2022 11:43:50 INFO 140143894464320] Epoch[1] Batch [20]#011Speed: 927.577 samples/sec#011accuracy=0.950893\u001b[0m\n",
      "\u001b[34m[12/16/2022 11:43:53 INFO 140143894464320] Epoch[1] Batch [40]#011Speed: 952.193 samples/sec#011accuracy=0.948552\u001b[0m\n",
      "\u001b[34m[12/16/2022 11:43:54 INFO 140143894464320] Epoch[1] Train-accuracy=0.949558\u001b[0m\n",
      "\u001b[34m[12/16/2022 11:43:54 INFO 140143894464320] Epoch[1] Time cost=6.025\u001b[0m\n",
      "\u001b[34m[12/16/2022 11:43:54 INFO 140143894464320] Epoch[1] Validation-accuracy=0.937500\u001b[0m\n",
      "\u001b[34m[12/16/2022 11:43:57 INFO 140143894464320] Epoch[2] Batch [20]#011Speed: 940.100 samples/sec#011accuracy=0.959077\u001b[0m\n",
      "\u001b[34m[12/16/2022 11:43:59 INFO 140143894464320] Epoch[2] Batch [40]#011Speed: 958.108 samples/sec#011accuracy=0.958841\u001b[0m\n",
      "\u001b[34m[12/16/2022 11:44:00 INFO 140143894464320] Epoch[2] Train-accuracy=0.959749\u001b[0m\n",
      "\u001b[34m[12/16/2022 11:44:00 INFO 140143894464320] Epoch[2] Time cost=5.992\u001b[0m\n",
      "\u001b[34m[12/16/2022 11:44:00 INFO 140143894464320] Epoch[2] Validation-accuracy=0.949219\u001b[0m\n",
      "\u001b[34m[12/16/2022 11:44:00 INFO 140143894464320] Storing the best model with validation accuracy: 0.949219\u001b[0m\n",
      "\u001b[34m[12/16/2022 11:44:00 INFO 140143894464320] Saved checkpoint to \"/opt/ml/model/image-classification-0003.params\"\u001b[0m\n",
      "\u001b[34m[12/16/2022 11:44:03 INFO 140143894464320] Epoch[3] Batch [20]#011Speed: 928.413 samples/sec#011accuracy=0.962798\u001b[0m\n",
      "\u001b[34m[12/16/2022 11:44:06 INFO 140143894464320] Epoch[3] Batch [40]#011Speed: 950.922 samples/sec#011accuracy=0.963986\u001b[0m\n",
      "\u001b[34m[12/16/2022 11:44:07 INFO 140143894464320] Epoch[3] Train-accuracy=0.965014\u001b[0m\n",
      "\u001b[34m[12/16/2022 11:44:07 INFO 140143894464320] Epoch[3] Time cost=6.034\u001b[0m\n",
      "\u001b[34m[12/16/2022 11:44:07 INFO 140143894464320] Epoch[3] Validation-accuracy=0.929688\u001b[0m\n",
      "\u001b[34m[12/16/2022 11:44:10 INFO 140143894464320] Epoch[4] Batch [20]#011Speed: 938.448 samples/sec#011accuracy=0.964286\u001b[0m\n",
      "\u001b[34m[12/16/2022 11:44:12 INFO 140143894464320] Epoch[4] Batch [40]#011Speed: 957.590 samples/sec#011accuracy=0.968559\u001b[0m\n",
      "\u001b[34m[12/16/2022 11:44:13 INFO 140143894464320] Epoch[4] Train-accuracy=0.969939\u001b[0m\n",
      "\u001b[34m[12/16/2022 11:44:13 INFO 140143894464320] Epoch[4] Time cost=5.993\u001b[0m\n",
      "\u001b[34m[12/16/2022 11:44:13 INFO 140143894464320] Epoch[4] Validation-accuracy=0.964844\u001b[0m\n",
      "\u001b[34m[12/16/2022 11:44:13 INFO 140143894464320] Storing the best model with validation accuracy: 0.964844\u001b[0m\n",
      "\u001b[34m[12/16/2022 11:44:13 INFO 140143894464320] Saved checkpoint to \"/opt/ml/model/image-classification-0005.params\"\u001b[0m\n",
      "\u001b[34m[12/16/2022 11:44:16 INFO 140143894464320] Epoch[5] Batch [20]#011Speed: 941.168 samples/sec#011accuracy=0.972842\u001b[0m\n",
      "\u001b[34m[12/16/2022 11:44:19 INFO 140143894464320] Epoch[5] Batch [40]#011Speed: 958.600 samples/sec#011accuracy=0.975229\u001b[0m\n",
      "\u001b[34m[12/16/2022 11:44:19 INFO 140143894464320] Epoch[5] Train-accuracy=0.975543\u001b[0m\n",
      "\u001b[34m[12/16/2022 11:44:19 INFO 140143894464320] Epoch[5] Time cost=5.990\u001b[0m\n",
      "\u001b[34m[12/16/2022 11:44:19 INFO 140143894464320] Epoch[5] Validation-accuracy=0.976562\u001b[0m\n",
      "\u001b[34m[12/16/2022 11:44:20 INFO 140143894464320] Storing the best model with validation accuracy: 0.976562\u001b[0m\n",
      "\u001b[34m[12/16/2022 11:44:20 INFO 140143894464320] Saved checkpoint to \"/opt/ml/model/image-classification-0006.params\"\u001b[0m\n",
      "\u001b[34m[12/16/2022 11:44:22 INFO 140143894464320] Epoch[6] Batch [20]#011Speed: 940.639 samples/sec#011accuracy=0.972842\u001b[0m\n",
      "\u001b[34m[12/16/2022 11:44:25 INFO 140143894464320] Epoch[6] Batch [40]#011Speed: 958.152 samples/sec#011accuracy=0.975419\u001b[0m\n",
      "\u001b[34m[12/16/2022 11:44:26 INFO 140143894464320] Epoch[6] Train-accuracy=0.976053\u001b[0m\n",
      "\u001b[34m[12/16/2022 11:44:26 INFO 140143894464320] Epoch[6] Time cost=5.991\u001b[0m\n",
      "\u001b[34m[12/16/2022 11:44:26 INFO 140143894464320] Epoch[6] Validation-accuracy=0.984375\u001b[0m\n",
      "\u001b[34m[12/16/2022 11:44:26 INFO 140143894464320] Storing the best model with validation accuracy: 0.984375\u001b[0m\n",
      "\u001b[34m[12/16/2022 11:44:26 INFO 140143894464320] Saved checkpoint to \"/opt/ml/model/image-classification-0007.params\"\u001b[0m\n",
      "\u001b[34m[12/16/2022 11:44:29 INFO 140143894464320] Epoch[7] Batch [20]#011Speed: 943.417 samples/sec#011accuracy=0.973214\u001b[0m\n",
      "\u001b[34m[12/16/2022 11:44:32 INFO 140143894464320] Epoch[7] Batch [40]#011Speed: 958.557 samples/sec#011accuracy=0.979040\u001b[0m\n",
      "\u001b[34m[12/16/2022 11:44:32 INFO 140143894464320] Epoch[7] Train-accuracy=0.979789\u001b[0m\n",
      "\u001b[34m[12/16/2022 11:44:32 INFO 140143894464320] Epoch[7] Time cost=5.990\u001b[0m\n",
      "\u001b[34m[12/16/2022 11:44:32 INFO 140143894464320] Epoch[7] Validation-accuracy=0.984375\u001b[0m\n",
      "\u001b[34m[12/16/2022 11:44:35 INFO 140143894464320] Epoch[8] Batch [20]#011Speed: 938.303 samples/sec#011accuracy=0.985491\u001b[0m\n",
      "\u001b[34m[12/16/2022 11:44:38 INFO 140143894464320] Epoch[8] Batch [40]#011Speed: 956.886 samples/sec#011accuracy=0.987233\u001b[0m\n",
      "\u001b[34m[12/16/2022 11:44:39 INFO 140143894464320] Epoch[8] Train-accuracy=0.987432\u001b[0m\n",
      "\u001b[34m[12/16/2022 11:44:39 INFO 140143894464320] Epoch[8] Time cost=5.996\u001b[0m\n",
      "\u001b[34m[12/16/2022 11:44:39 INFO 140143894464320] Epoch[8] Validation-accuracy=0.976562\u001b[0m\n",
      "\u001b[34m[12/16/2022 11:44:42 INFO 140143894464320] Epoch[9] Batch [20]#011Speed: 938.616 samples/sec#011accuracy=0.991071\u001b[0m\n",
      "\u001b[34m[12/16/2022 11:44:44 INFO 140143894464320] Epoch[9] Batch [40]#011Speed: 957.389 samples/sec#011accuracy=0.989329\u001b[0m\n",
      "\u001b[34m[12/16/2022 11:44:45 INFO 140143894464320] Epoch[9] Train-accuracy=0.987772\u001b[0m\n",
      "\u001b[34m[12/16/2022 11:44:45 INFO 140143894464320] Epoch[9] Time cost=5.995\u001b[0m\n",
      "\u001b[34m[12/16/2022 11:44:45 INFO 140143894464320] Epoch[9] Validation-accuracy=0.972656\u001b[0m\n",
      "\n",
      "2022-12-16 11:45:11 Uploading - Uploading generated training model\n",
      "2022-12-16 11:45:11 Completed - Training job completed\n",
      "Training seconds: 288\n",
      "Billable seconds: 288\n"
     ]
    }
   ],
   "source": [
    "ic.fit(inputs=s3_channels)"
   ]
  },
  {
   "cell_type": "markdown",
   "id": "82c5450a",
   "metadata": {},
   "source": [
    "## Deploy the model"
   ]
  },
  {
   "cell_type": "code",
   "execution_count": 10,
   "id": "77a39e7b",
   "metadata": {},
   "outputs": [
    {
     "name": "stdout",
     "output_type": "stream",
     "text": [
      "-------------------!"
     ]
    }
   ],
   "source": [
    "ic_predictor = ic.deploy(initial_instance_count=1,\n",
    "                         instance_type='ml.t2.medium')    # $0.05 per hours "
   ]
  },
  {
   "cell_type": "markdown",
   "id": "9fa95e24",
   "metadata": {},
   "source": [
    "## Download a test image"
   ]
  },
  {
   "cell_type": "code",
   "execution_count": 23,
   "id": "cbeb0eec",
   "metadata": {},
   "outputs": [
    {
     "name": "stdout",
     "output_type": "stream",
     "text": [
      "--2022-12-16 13:00:29--  https://m.media-amazon.com/images/I/61y4HOllrdL._SX342_.jpg\r\n",
      "Resolving m.media-amazon.com (m.media-amazon.com)... 18.165.82.237, 2600:9000:24f4:5400:1d:d7f6:39d2:2dc1, 2600:9000:24f4:de00:1d:d7f6:39d2:2dc1, ...\r\n",
      "Connecting to m.media-amazon.com (m.media-amazon.com)|18.165.82.237|:443... connected.\r\n",
      "HTTP request sent, awaiting response... 200 OK\r\n",
      "Length: 8401 (8.2K) [image/jpeg]\r\n",
      "Saving to: ‘/tmp/test.jpg’\r\n",
      "\r\n",
      "100%[======================================>] 8,401       --.-K/s   in 0s      \r\n",
      "\r\n",
      "2022-12-16 13:00:29 (221 MB/s) - ‘/tmp/test.jpg’ saved [8401/8401]\r\n",
      "\r\n"
     ]
    },
    {
     "data": {
      "image/jpeg": "[encoded data removed]",
      "text/plain": [
       "<IPython.core.display.Image object>"
      ]
     },
     "execution_count": 23,
     "metadata": {},
     "output_type": "execute_result"
    }
   ],
   "source": [
    "# Dog\n",
    "!wget -O /tmp/test.jpg https://m.media-amazon.com/images/I/61y4HOllrdL._SX342_.jpg\n",
    "file_name = '/tmp/test.jpg'\n",
    "from IPython.display import Image\n",
    "Image(file_name)"
   ]
  },
  {
   "cell_type": "code",
   "execution_count": 24,
   "id": "9ebf7fa1",
   "metadata": {},
   "outputs": [
    {
     "name": "stdout",
     "output_type": "stream",
     "text": [
      "Hello, World! \n"
     ]
    },
    {
     "data": {
      "image/jpeg": "[encoded data removed]",
      "text/plain": [
       "<IPython.core.display.Image object>"
      ]
     },
     "execution_count": 24,
     "metadata": {},
     "output_type": "execute_result"
    }
   ],
   "source": [
    "import subprocess\n",
    "\n",
    "def runcmd(cmd, verbose = False, *args, **kwargs):\n",
    "\n",
    "    process = subprocess.Popen(\n",
    "        cmd,\n",
    "        stdout = subprocess.PIPE,\n",
    "        stderr = subprocess.PIPE,\n",
    "        text = True,\n",
    "        shell = True\n",
    "    )\n",
    "    std_out, std_err = process.communicate()\n",
    "    if verbose:\n",
    "        print(std_out.strip(), std_err)\n",
    "    pass\n",
    "\n",
    "runcmd('echo \"Hello, World!\"', verbose = True)\n",
    "runcmd('!wget -O /tmp/test.jpg https://m.media-amazon.com/images/I/61y4HOllrdL._SX342_.jpg')\n",
    "file_name1 = 'test/2-HDPE/HDPEM195_jpg.rf.fd21430e138036393e9a9c90e0f4bdf2.jpg'\n",
    "Image(file_name1)"
   ]
  },
  {
   "cell_type": "markdown",
   "id": "d12cb829",
   "metadata": {},
   "source": [
    "## Predict test image"
   ]
  },
  {
   "cell_type": "code",
   "execution_count": 25,
   "id": "4545df83",
   "metadata": {},
   "outputs": [
    {
     "name": "stdout",
     "output_type": "stream",
     "text": [
      "0.7520400285720825 0\n",
      "PET\n"
     ]
    }
   ],
   "source": [
    "import boto3, json\n",
    "import numpy as np\n",
    "\n",
    "runtime = boto3.Session().client(service_name='runtime.sagemaker')\n",
    "\n",
    "with open(file_name, 'rb') as f:\n",
    "    payload = f.read()\n",
    "    payload = bytearray(payload)\n",
    "\n",
    "response = runtime.invoke_endpoint(EndpointName=ic_predictor.endpoint_name, \n",
    "                                   ContentType='application/x-image', \n",
    "                                   Body=payload)\n",
    "\n",
    "result = response['Body'].read()\n",
    "result = json.loads(result)\n",
    "index = np.argmax(result)\n",
    "print(result[index], index)\n",
    "\n",
    "# 1-PET 0       2-HDPE 1         others 2\n",
    "\n",
    "if index == 0:\n",
    "    print('PET')\n",
    "elif index == 1:\n",
    "    print('HDPE')\n",
    "else:\n",
    "    print('others')\n"
   ]
  },
  {
   "cell_type": "markdown",
   "id": "5e99de24",
   "metadata": {},
   "source": [
    "## Delete endpoint"
   ]
  },
  {
   "cell_type": "code",
   "execution_count": null,
   "id": "e62d429e",
   "metadata": {},
   "outputs": [],
   "source": [
    "ic_predictor.delete_endpoint()"
   ]
  }
 ],
 "metadata": {
  "kernelspec": {
   "display_name": "conda_tensorflow2_p38",
   "language": "python",
   "name": "conda_tensorflow2_p38"
  },
  "language_info": {
   "codemirror_mode": {
    "name": "ipython",
    "version": 3
   },
   "file_extension": ".py",
   "mimetype": "text/x-python",
   "name": "python",
   "nbconvert_exporter": "python",
   "pygments_lexer": "ipython3",
   "version": "3.8.12"
  }
 },
 "nbformat": 4,
 "nbformat_minor": 5
}
